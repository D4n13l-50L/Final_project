{
 "cells": [
  {
   "cell_type": "code",
   "execution_count": 1,
   "id": "0d6ce784",
   "metadata": {},
   "outputs": [],
   "source": [
    "import pandas as pd\n",
    "import matplotlib.pyplot as plt\n",
    "from wordcloud import WordCloud, STOPWORDS"
   ]
  },
  {
   "cell_type": "code",
   "execution_count": 2,
   "id": "005429c6",
   "metadata": {},
   "outputs": [
    {
     "data": {
      "text/plain": [
       "<module 'pandas' from 'C:\\\\Users\\\\doogi\\\\anaconda3\\\\lib\\\\site-packages\\\\pandas\\\\__init__.py'>"
      ]
     },
     "execution_count": 2,
     "metadata": {},
     "output_type": "execute_result"
    }
   ],
   "source": [
    "pd"
   ]
  },
  {
   "cell_type": "code",
   "execution_count": 8,
   "id": "70929eca",
   "metadata": {},
   "outputs": [
    {
     "data": {
      "text/html": [
       "<div>\n",
       "<style scoped>\n",
       "    .dataframe tbody tr th:only-of-type {\n",
       "        vertical-align: middle;\n",
       "    }\n",
       "\n",
       "    .dataframe tbody tr th {\n",
       "        vertical-align: top;\n",
       "    }\n",
       "\n",
       "    .dataframe thead th {\n",
       "        text-align: right;\n",
       "    }\n",
       "</style>\n",
       "<table border=\"1\" class=\"dataframe\">\n",
       "  <thead>\n",
       "    <tr style=\"text-align: right;\">\n",
       "      <th></th>\n",
       "      <th>id</th>\n",
       "      <th>neighbourhood_cleansed</th>\n",
       "    </tr>\n",
       "  </thead>\n",
       "  <tbody>\n",
       "    <tr>\n",
       "      <th>0</th>\n",
       "      <td>35797</td>\n",
       "      <td>Cuajimalpa de Morelos</td>\n",
       "    </tr>\n",
       "    <tr>\n",
       "      <th>1</th>\n",
       "      <td>44616</td>\n",
       "      <td>Cuauhtémoc</td>\n",
       "    </tr>\n",
       "    <tr>\n",
       "      <th>2</th>\n",
       "      <td>56074</td>\n",
       "      <td>Cuauhtémoc</td>\n",
       "    </tr>\n",
       "    <tr>\n",
       "      <th>3</th>\n",
       "      <td>58955</td>\n",
       "      <td>Cuauhtémoc</td>\n",
       "    </tr>\n",
       "    <tr>\n",
       "      <th>4</th>\n",
       "      <td>61792</td>\n",
       "      <td>Cuauhtémoc</td>\n",
       "    </tr>\n",
       "    <tr>\n",
       "      <th>...</th>\n",
       "      <td>...</td>\n",
       "      <td>...</td>\n",
       "    </tr>\n",
       "    <tr>\n",
       "      <th>18660</th>\n",
       "      <td>51097324</td>\n",
       "      <td>Coyoacán</td>\n",
       "    </tr>\n",
       "    <tr>\n",
       "      <th>18661</th>\n",
       "      <td>51102278</td>\n",
       "      <td>Cuauhtémoc</td>\n",
       "    </tr>\n",
       "    <tr>\n",
       "      <th>18662</th>\n",
       "      <td>51108788</td>\n",
       "      <td>Cuauhtémoc</td>\n",
       "    </tr>\n",
       "    <tr>\n",
       "      <th>18663</th>\n",
       "      <td>51110043</td>\n",
       "      <td>Xochimilco</td>\n",
       "    </tr>\n",
       "    <tr>\n",
       "      <th>18664</th>\n",
       "      <td>51110224</td>\n",
       "      <td>Coyoacán</td>\n",
       "    </tr>\n",
       "  </tbody>\n",
       "</table>\n",
       "<p>18665 rows × 2 columns</p>\n",
       "</div>"
      ],
      "text/plain": [
       "             id neighbourhood_cleansed\n",
       "0         35797  Cuajimalpa de Morelos\n",
       "1         44616             Cuauhtémoc\n",
       "2         56074             Cuauhtémoc\n",
       "3         58955             Cuauhtémoc\n",
       "4         61792             Cuauhtémoc\n",
       "...         ...                    ...\n",
       "18660  51097324               Coyoacán\n",
       "18661  51102278             Cuauhtémoc\n",
       "18662  51108788             Cuauhtémoc\n",
       "18663  51110043             Xochimilco\n",
       "18664  51110224               Coyoacán\n",
       "\n",
       "[18665 rows x 2 columns]"
      ]
     },
     "execution_count": 8,
     "metadata": {},
     "output_type": "execute_result"
    }
   ],
   "source": [
    "df = pd.read_csv('detailed_listings.csv',usecols=['id','neighbourhood_cleansed'])\n",
    "df"
   ]
  },
  {
   "cell_type": "code",
   "execution_count": 13,
   "id": "6d4be2e7",
   "metadata": {},
   "outputs": [
    {
     "data": {
      "text/plain": [
       "18665"
      ]
     },
     "execution_count": 13,
     "metadata": {},
     "output_type": "execute_result"
    }
   ],
   "source": [
    "df.id.nunique()"
   ]
  },
  {
   "cell_type": "code",
   "execution_count": 9,
   "id": "239f83eb",
   "metadata": {},
   "outputs": [
    {
     "name": "stdout",
     "output_type": "stream",
     "text": [
      "<class 'pandas.core.frame.DataFrame'>\n",
      "RangeIndex: 18665 entries, 0 to 18664\n",
      "Data columns (total 2 columns):\n",
      " #   Column                  Non-Null Count  Dtype \n",
      "---  ------                  --------------  ----- \n",
      " 0   id                      18665 non-null  int64 \n",
      " 1   neighbourhood_cleansed  18665 non-null  object\n",
      "dtypes: int64(1), object(1)\n",
      "memory usage: 291.8+ KB\n"
     ]
    }
   ],
   "source": [
    "df.info()"
   ]
  },
  {
   "cell_type": "code",
   "execution_count": 10,
   "id": "97c0db10",
   "metadata": {},
   "outputs": [],
   "source": [
    "df.to_csv(\"C:\\\\Users\\\\doogi\\\\OneDrive\\\\Documentos\\\\Boot Camp local\\\\20 Projecto final\\\\local\\\\idANDneigh.csv\",index=False)"
   ]
  },
  {
   "cell_type": "code",
   "execution_count": 11,
   "id": "092318ac",
   "metadata": {},
   "outputs": [
    {
     "data": {
      "text/html": [
       "<div>\n",
       "<style scoped>\n",
       "    .dataframe tbody tr th:only-of-type {\n",
       "        vertical-align: middle;\n",
       "    }\n",
       "\n",
       "    .dataframe tbody tr th {\n",
       "        vertical-align: top;\n",
       "    }\n",
       "\n",
       "    .dataframe thead th {\n",
       "        text-align: right;\n",
       "    }\n",
       "</style>\n",
       "<table border=\"1\" class=\"dataframe\">\n",
       "  <thead>\n",
       "    <tr style=\"text-align: right;\">\n",
       "      <th></th>\n",
       "      <th>listing_id</th>\n",
       "      <th>comments</th>\n",
       "    </tr>\n",
       "  </thead>\n",
       "  <tbody>\n",
       "    <tr>\n",
       "      <th>0</th>\n",
       "      <td>44616</td>\n",
       "      <td>Forget staying in a hotel. Stay at condesa hau...</td>\n",
       "    </tr>\n",
       "    <tr>\n",
       "      <th>1</th>\n",
       "      <td>44616</td>\n",
       "      <td>Fantastic location, great place, friendly host...</td>\n",
       "    </tr>\n",
       "    <tr>\n",
       "      <th>2</th>\n",
       "      <td>44616</td>\n",
       "      <td>I would highly recommend Condesa Haus for anyo...</td>\n",
       "    </tr>\n",
       "    <tr>\n",
       "      <th>3</th>\n",
       "      <td>44616</td>\n",
       "      <td>Great stay. Thanks. Highly recommend.</td>\n",
       "    </tr>\n",
       "    <tr>\n",
       "      <th>4</th>\n",
       "      <td>44616</td>\n",
       "      <td>This was not a very good experience I am afrai...</td>\n",
       "    </tr>\n",
       "    <tr>\n",
       "      <th>...</th>\n",
       "      <td>...</td>\n",
       "      <td>...</td>\n",
       "    </tr>\n",
       "    <tr>\n",
       "      <th>486731</th>\n",
       "      <td>50971339</td>\n",
       "      <td>excelente anfitrião e informações do anúncio p...</td>\n",
       "    </tr>\n",
       "    <tr>\n",
       "      <th>486732</th>\n",
       "      <td>51003751</td>\n",
       "      <td>Excelente atención por parte de Omar. Estuvo a...</td>\n",
       "    </tr>\n",
       "    <tr>\n",
       "      <th>486733</th>\n",
       "      <td>51021060</td>\n",
       "      <td>Excelente servicio de parte de el anfitrión Al...</td>\n",
       "    </tr>\n",
       "    <tr>\n",
       "      <th>486734</th>\n",
       "      <td>51023410</td>\n",
       "      <td>excelente lugar, muy buena atención y muy cómodo.</td>\n",
       "    </tr>\n",
       "    <tr>\n",
       "      <th>486735</th>\n",
       "      <td>51027207</td>\n",
       "      <td>todo bien</td>\n",
       "    </tr>\n",
       "  </tbody>\n",
       "</table>\n",
       "<p>486736 rows × 2 columns</p>\n",
       "</div>"
      ],
      "text/plain": [
       "        listing_id                                           comments\n",
       "0            44616  Forget staying in a hotel. Stay at condesa hau...\n",
       "1            44616  Fantastic location, great place, friendly host...\n",
       "2            44616  I would highly recommend Condesa Haus for anyo...\n",
       "3            44616             Great stay. Thanks. Highly recommend. \n",
       "4            44616  This was not a very good experience I am afrai...\n",
       "...            ...                                                ...\n",
       "486731    50971339  excelente anfitrião e informações do anúncio p...\n",
       "486732    51003751  Excelente atención por parte de Omar. Estuvo a...\n",
       "486733    51021060  Excelente servicio de parte de el anfitrión Al...\n",
       "486734    51023410  excelente lugar, muy buena atención y muy cómodo.\n",
       "486735    51027207                                          todo bien\n",
       "\n",
       "[486736 rows x 2 columns]"
      ]
     },
     "execution_count": 11,
     "metadata": {},
     "output_type": "execute_result"
    }
   ],
   "source": [
    "df_reviews = pd.read_csv('review.csv')\n",
    "df_reviews"
   ]
  },
  {
   "cell_type": "code",
   "execution_count": 12,
   "id": "d354f594",
   "metadata": {},
   "outputs": [
    {
     "data": {
      "text/plain": [
       "14076"
      ]
     },
     "execution_count": 12,
     "metadata": {},
     "output_type": "execute_result"
    }
   ],
   "source": [
    "df_reviews.listing_id.nunique()"
   ]
  },
  {
   "cell_type": "code",
   "execution_count": 14,
   "id": "10bde8c7",
   "metadata": {},
   "outputs": [
    {
     "data": {
      "text/plain": [
       "Index(['id', 'neighbourhood_cleansed'], dtype='object')"
      ]
     },
     "execution_count": 14,
     "metadata": {},
     "output_type": "execute_result"
    }
   ],
   "source": [
    "df.columns"
   ]
  },
  {
   "cell_type": "code",
   "execution_count": 15,
   "id": "6c0ab02b",
   "metadata": {},
   "outputs": [
    {
     "data": {
      "text/plain": [
       "Index(['listing_id', 'comments'], dtype='object')"
      ]
     },
     "execution_count": 15,
     "metadata": {},
     "output_type": "execute_result"
    }
   ],
   "source": [
    "df_reviews.columns"
   ]
  },
  {
   "cell_type": "code",
   "execution_count": 16,
   "id": "c082b7e2",
   "metadata": {},
   "outputs": [],
   "source": [
    "df_reviews.rename(columns = {'listing_id':'id'}, inplace=True)"
   ]
  },
  {
   "cell_type": "code",
   "execution_count": 17,
   "id": "eeea2167",
   "metadata": {},
   "outputs": [
    {
     "data": {
      "text/plain": [
       "Index(['id', 'comments'], dtype='object')"
      ]
     },
     "execution_count": 17,
     "metadata": {},
     "output_type": "execute_result"
    }
   ],
   "source": [
    "df_reviews.columns"
   ]
  },
  {
   "cell_type": "markdown",
   "id": "896403f8",
   "metadata": {},
   "source": [
    "unir df y df_review"
   ]
  },
  {
   "cell_type": "code",
   "execution_count": 18,
   "id": "681f0f9e",
   "metadata": {},
   "outputs": [
    {
     "data": {
      "text/plain": [
       "Index(['id', 'neighbourhood_cleansed', 'comments'], dtype='object')"
      ]
     },
     "execution_count": 18,
     "metadata": {},
     "output_type": "execute_result"
    }
   ],
   "source": [
    "revCONneib = pd.merge(df,df_reviews)\n",
    "revCONneib.columns"
   ]
  },
  {
   "cell_type": "code",
   "execution_count": 19,
   "id": "f68fbcab",
   "metadata": {},
   "outputs": [
    {
     "data": {
      "text/html": [
       "<div>\n",
       "<style scoped>\n",
       "    .dataframe tbody tr th:only-of-type {\n",
       "        vertical-align: middle;\n",
       "    }\n",
       "\n",
       "    .dataframe tbody tr th {\n",
       "        vertical-align: top;\n",
       "    }\n",
       "\n",
       "    .dataframe thead th {\n",
       "        text-align: right;\n",
       "    }\n",
       "</style>\n",
       "<table border=\"1\" class=\"dataframe\">\n",
       "  <thead>\n",
       "    <tr style=\"text-align: right;\">\n",
       "      <th></th>\n",
       "      <th>id</th>\n",
       "      <th>neighbourhood_cleansed</th>\n",
       "      <th>comments</th>\n",
       "    </tr>\n",
       "  </thead>\n",
       "  <tbody>\n",
       "    <tr>\n",
       "      <th>0</th>\n",
       "      <td>44616</td>\n",
       "      <td>Cuauhtémoc</td>\n",
       "      <td>Forget staying in a hotel. Stay at condesa hau...</td>\n",
       "    </tr>\n",
       "    <tr>\n",
       "      <th>1</th>\n",
       "      <td>44616</td>\n",
       "      <td>Cuauhtémoc</td>\n",
       "      <td>Fantastic location, great place, friendly host...</td>\n",
       "    </tr>\n",
       "    <tr>\n",
       "      <th>2</th>\n",
       "      <td>44616</td>\n",
       "      <td>Cuauhtémoc</td>\n",
       "      <td>I would highly recommend Condesa Haus for anyo...</td>\n",
       "    </tr>\n",
       "    <tr>\n",
       "      <th>3</th>\n",
       "      <td>44616</td>\n",
       "      <td>Cuauhtémoc</td>\n",
       "      <td>Great stay. Thanks. Highly recommend.</td>\n",
       "    </tr>\n",
       "    <tr>\n",
       "      <th>4</th>\n",
       "      <td>44616</td>\n",
       "      <td>Cuauhtémoc</td>\n",
       "      <td>This was not a very good experience I am afrai...</td>\n",
       "    </tr>\n",
       "  </tbody>\n",
       "</table>\n",
       "</div>"
      ],
      "text/plain": [
       "      id neighbourhood_cleansed  \\\n",
       "0  44616             Cuauhtémoc   \n",
       "1  44616             Cuauhtémoc   \n",
       "2  44616             Cuauhtémoc   \n",
       "3  44616             Cuauhtémoc   \n",
       "4  44616             Cuauhtémoc   \n",
       "\n",
       "                                            comments  \n",
       "0  Forget staying in a hotel. Stay at condesa hau...  \n",
       "1  Fantastic location, great place, friendly host...  \n",
       "2  I would highly recommend Condesa Haus for anyo...  \n",
       "3             Great stay. Thanks. Highly recommend.   \n",
       "4  This was not a very good experience I am afrai...  "
      ]
     },
     "execution_count": 19,
     "metadata": {},
     "output_type": "execute_result"
    }
   ],
   "source": [
    "revCONneib.head()"
   ]
  },
  {
   "cell_type": "code",
   "execution_count": 26,
   "id": "0895a47a",
   "metadata": {},
   "outputs": [
    {
     "name": "stdout",
     "output_type": "stream",
     "text": [
      "<class 'pandas.core.frame.DataFrame'>\n",
      "Int64Index: 486736 entries, 0 to 486735\n",
      "Data columns (total 3 columns):\n",
      " #   Column                  Non-Null Count   Dtype \n",
      "---  ------                  --------------   ----- \n",
      " 0   id                      486736 non-null  int64 \n",
      " 1   neighbourhood_cleansed  486736 non-null  object\n",
      " 2   comments                486200 non-null  object\n",
      "dtypes: int64(1), object(2)\n",
      "memory usage: 14.9+ MB\n"
     ]
    }
   ],
   "source": [
    "revCONneib.info()"
   ]
  },
  {
   "cell_type": "markdown",
   "id": "efda9725",
   "metadata": {},
   "source": [
    "Create a TXT for each neighbourhood"
   ]
  },
  {
   "cell_type": "code",
   "execution_count": 31,
   "id": "ee0c1d94",
   "metadata": {},
   "outputs": [
    {
     "data": {
      "text/plain": [
       "array(['Cuauhtémoc', 'Coyoacán', 'Miguel Hidalgo', 'Benito Juárez',\n",
       "       'Azcapotzalco', 'Tlalpan', 'La Magdalena Contreras',\n",
       "       'Gustavo A. Madero', 'Álvaro Obregón', 'Venustiano Carranza',\n",
       "       'Cuajimalpa de Morelos', 'Iztapalapa', 'Xochimilco', 'Iztacalco',\n",
       "       'Tláhuac', 'Milpa Alta'], dtype=object)"
      ]
     },
     "execution_count": 31,
     "metadata": {},
     "output_type": "execute_result"
    }
   ],
   "source": [
    "revCONneib.neighbourhood_cleansed.unique()"
   ]
  },
  {
   "cell_type": "markdown",
   "id": "6b0c40da",
   "metadata": {},
   "source": [
    "## Cuauhtémoc"
   ]
  },
  {
   "cell_type": "code",
   "execution_count": 35,
   "id": "03127167",
   "metadata": {},
   "outputs": [
    {
     "data": {
      "text/html": [
       "<div>\n",
       "<style scoped>\n",
       "    .dataframe tbody tr th:only-of-type {\n",
       "        vertical-align: middle;\n",
       "    }\n",
       "\n",
       "    .dataframe tbody tr th {\n",
       "        vertical-align: top;\n",
       "    }\n",
       "\n",
       "    .dataframe thead th {\n",
       "        text-align: right;\n",
       "    }\n",
       "</style>\n",
       "<table border=\"1\" class=\"dataframe\">\n",
       "  <thead>\n",
       "    <tr style=\"text-align: right;\">\n",
       "      <th></th>\n",
       "      <th>id</th>\n",
       "      <th>neighbourhood_cleansed</th>\n",
       "      <th>comments</th>\n",
       "    </tr>\n",
       "  </thead>\n",
       "  <tbody>\n",
       "    <tr>\n",
       "      <th>0</th>\n",
       "      <td>44616</td>\n",
       "      <td>Cuauhtémoc</td>\n",
       "      <td>Forget staying in a hotel. Stay at condesa hau...</td>\n",
       "    </tr>\n",
       "    <tr>\n",
       "      <th>1</th>\n",
       "      <td>44616</td>\n",
       "      <td>Cuauhtémoc</td>\n",
       "      <td>Fantastic location, great place, friendly host...</td>\n",
       "    </tr>\n",
       "    <tr>\n",
       "      <th>2</th>\n",
       "      <td>44616</td>\n",
       "      <td>Cuauhtémoc</td>\n",
       "      <td>I would highly recommend Condesa Haus for anyo...</td>\n",
       "    </tr>\n",
       "    <tr>\n",
       "      <th>3</th>\n",
       "      <td>44616</td>\n",
       "      <td>Cuauhtémoc</td>\n",
       "      <td>Great stay. Thanks. Highly recommend.</td>\n",
       "    </tr>\n",
       "    <tr>\n",
       "      <th>4</th>\n",
       "      <td>44616</td>\n",
       "      <td>Cuauhtémoc</td>\n",
       "      <td>This was not a very good experience I am afrai...</td>\n",
       "    </tr>\n",
       "    <tr>\n",
       "      <th>...</th>\n",
       "      <td>...</td>\n",
       "      <td>...</td>\n",
       "      <td>...</td>\n",
       "    </tr>\n",
       "    <tr>\n",
       "      <th>486720</th>\n",
       "      <td>50891415</td>\n",
       "      <td>Cuauhtémoc</td>\n",
       "      <td>Even though I didn't get to stay at Alberto's ...</td>\n",
       "    </tr>\n",
       "    <tr>\n",
       "      <th>486721</th>\n",
       "      <td>50892797</td>\n",
       "      <td>Cuauhtémoc</td>\n",
       "      <td>Excelente lugar para hospedarse y muy buena ub...</td>\n",
       "    </tr>\n",
       "    <tr>\n",
       "      <th>486722</th>\n",
       "      <td>50892797</td>\n",
       "      <td>Cuauhtémoc</td>\n",
       "      <td>Lo que describen en el perfil no tiene coheren...</td>\n",
       "    </tr>\n",
       "    <tr>\n",
       "      <th>486732</th>\n",
       "      <td>51003751</td>\n",
       "      <td>Cuauhtémoc</td>\n",
       "      <td>Excelente atención por parte de Omar. Estuvo a...</td>\n",
       "    </tr>\n",
       "    <tr>\n",
       "      <th>486733</th>\n",
       "      <td>51021060</td>\n",
       "      <td>Cuauhtémoc</td>\n",
       "      <td>Excelente servicio de parte de el anfitrión Al...</td>\n",
       "    </tr>\n",
       "  </tbody>\n",
       "</table>\n",
       "<p>255600 rows × 3 columns</p>\n",
       "</div>"
      ],
      "text/plain": [
       "              id neighbourhood_cleansed  \\\n",
       "0          44616             Cuauhtémoc   \n",
       "1          44616             Cuauhtémoc   \n",
       "2          44616             Cuauhtémoc   \n",
       "3          44616             Cuauhtémoc   \n",
       "4          44616             Cuauhtémoc   \n",
       "...          ...                    ...   \n",
       "486720  50891415             Cuauhtémoc   \n",
       "486721  50892797             Cuauhtémoc   \n",
       "486722  50892797             Cuauhtémoc   \n",
       "486732  51003751             Cuauhtémoc   \n",
       "486733  51021060             Cuauhtémoc   \n",
       "\n",
       "                                                 comments  \n",
       "0       Forget staying in a hotel. Stay at condesa hau...  \n",
       "1       Fantastic location, great place, friendly host...  \n",
       "2       I would highly recommend Condesa Haus for anyo...  \n",
       "3                  Great stay. Thanks. Highly recommend.   \n",
       "4       This was not a very good experience I am afrai...  \n",
       "...                                                   ...  \n",
       "486720  Even though I didn't get to stay at Alberto's ...  \n",
       "486721  Excelente lugar para hospedarse y muy buena ub...  \n",
       "486722  Lo que describen en el perfil no tiene coheren...  \n",
       "486732  Excelente atención por parte de Omar. Estuvo a...  \n",
       "486733  Excelente servicio de parte de el anfitrión Al...  \n",
       "\n",
       "[255600 rows x 3 columns]"
      ]
     },
     "execution_count": 35,
     "metadata": {},
     "output_type": "execute_result"
    }
   ],
   "source": [
    "#create df for neighbourhood\n",
    "df_nei=revCONneib[(revCONneib['neighbourhood_cleansed']== 'Cuauhtémoc')]\n",
    "df_nei\n"
   ]
  },
  {
   "cell_type": "code",
   "execution_count": 36,
   "id": "64fbdced",
   "metadata": {},
   "outputs": [],
   "source": [
    "#create TXT\n",
    "df_nei.to_csv(\"C:\\\\Users\\\\doogi\\\\OneDrive\\\\Documentos\\\\Boot Camp local\\\\20 Projecto final\\\\local\\\\review_cua.txt\",index=False)"
   ]
  },
  {
   "cell_type": "code",
   "execution_count": 336,
   "id": "a966a259",
   "metadata": {},
   "outputs": [],
   "source": [
    "text = open('review_cua.txt',mode='r',encoding='utf-8').read()"
   ]
  },
  {
   "cell_type": "code",
   "execution_count": 337,
   "id": "98117708",
   "metadata": {},
   "outputs": [],
   "source": [
    "stopwords = STOPWORDS"
   ]
  },
  {
   "cell_type": "code",
   "execution_count": 338,
   "id": "e76e42a0",
   "metadata": {},
   "outputs": [
    {
     "name": "stdout",
     "output_type": "stream",
     "text": [
      "{'our', 'between', 'while', 'ourselves', 'where', \"you're\", \"mustn't\", 'shall', 'she', 'else', 'r', 'donde', 'Alvaro Obregon', 'venustiano Carranza', 'under', 'against', 'Miguel', 'apartment', 'mucho', 'were', 'sin', 'because', 'into', 'excelente', 'siempre', 'what', 'than', 'Gustavo', 'Alta', 'muy bien', 'Venustiano Carranza', 'up', 'CDMXeverything', 'opción', 'bien', 'out', 'venustiano', 'Milpa Alta', 'al', 'city', 'over', 'do', 'how', 'he', 'too', 'off', 'mi', 'very', 'ought', 'him', 'doing', 'just', 'gran', 'therefore', 'about', 'Contreras', 'Benito', \"i'll\", 'then', 'also', 'who', \"what's\", 'yours', 'puede', \"wouldn't\", 'Xochimilco', \"they'd\", 'as', 'same', \"couldn't\", 'herself', \"we're\", 'todo', 'como', 'recomendado', 'once', \"he'll\", 'an', 'great', \"she's\", 'hosts', 'gracias', 'some', 'hence', 'themselves', 'es', 'have', 'a', 'fue', 'otherwise', 'only', 'mucha', 'Súper', 'through', 'Álvaro', \"hasn't\", 'necesario', 'so', 'El departamento', 'Gustavo Madero', 'was', \"she'll\", 'un', 'el', 'Hidalgo', 'location', 'por', 'it', 'few', 'me', \"you'll\", 'you', 'lot', 'yourselves', 'Azcapotzalco', 'all', 'if', 'departamento', 'their', 'can', 'own', 'other', 'by', \"shan't\", 'below', \"won't\", 'k', 'when', \"there's\", \"we'd\", 'yourself', \"you'd\", 'recommend', 'Carranza', 'for', 'us', 'la', 'host', 'them', 'why', 'and', 'Thank', 'did', 'not', 'the', \"they've\", 'has', 'br', \"they're\", 'since', 'but', 'is', 'need', 'puedes', 'pero', \"here's\", 'nos', 'like', 'or', \"isn't\", 'perfect', 'del', 'u', 'La Magdalena Contreras', 'am', 'persona', \"he'd\", \"they'll\", 'been', 'stay', 'everything', 'Magdalena Contreras', 'Cuajimalpa', 'ya', \"wasn't\", 'lugar', 'your', \"it's\", 'super', 'his', 'Tláhuac', \"who's\", 'casa', \"i'm\", 'whom', 'Juárez', 'duda', 'Cuauhtémoc', 'one', 'Iztapalapa', 'está', 'Benito Juárez', 'himself', 'Madero', 'se', 'son', \"aren't\", 'its', 'would', 'http', 'of', 'de', 'esta', 'myself', 'Gustavo A. Madero', \"that's\", 'should', 'Miguel Hidalgo', 'una', 'uno', 'Milpa', 'Iztacalco', 'my', \"she'd\", \"haven't\", \"weren't\", 'before', \"where's\", 'Morelos', 'are', 'each', 'recomendable', 'being', \"he's\", 'theirs', 'Obregón', 'most', 'until', 'nice', 'having', 'ever', 'down', 'further', 'Tlalpan', \"when's\", 'which', 'place', 'con', 'buena', 'at', \"you've\", 'le', 'this', 'here', 'itself', 'during', 'we', 'her', 'ir', 'cannot', 'si', 'with', 'su', 'ella', 'muy', 'be', 'ubicación', 'again', 'tiene', 'hers', \"i've\", \"let's\", 'does', 'no', 'www', 'neighborhood', 'above', 'those', 'nor', \"we've\", 'estancia', 'house', \"why's\", 'hacer', 'id', 'Coyoacán', 'could', 'from', \"can't\", 'que', 'queda', 'Magdalena', \"i'd\", 'ours', 'Mexico', 'there', 'en', 'such', 'to', \"we'll\", 'however', 'Cuajimalpa de Morelos', 'las', \"didn't\", 'that', 'both', 'para', 'more', 'had', \"shouldn't\", 'on', \"don't\", 'CDMX', 'noche', 'airbnb', 'alojamiento', 'y', 'get', \"how's\", 'these', 'after', 'lo', \"hadn't\", 'day', 'hay', 'check', 'com', 'they', 'any', 'Álvaro Obregón', 'i', \"doesn't\", 'in', 'personas', 'amazing'}\n"
     ]
    }
   ],
   "source": [
    "print(stopwords)"
   ]
  },
  {
   "cell_type": "code",
   "execution_count": 339,
   "id": "793a7e29",
   "metadata": {},
   "outputs": [],
   "source": [
    "stopwords.update([\"Milpa\",\"Alta\",\"id\",\"mucho\",\"necesario\",\"one\",\"personas\",\"puedes\",\"alojamiento\",\"queda\",\"hacer\",\"al\",\"nos\",\"son\",\"puede\",\"donde\",\"puede\",\"uno\",\"las\",\"persona\",\"mi\",\"del\",\"ella\",\"ir\",\"le\",\"bien\",\"recomendable\",\"estancia\",\"noche\",\"recomendado\",\"gran\",\"Cuajimalpa\",\"Morelos\",\"sin\",\"duda\",\"hay\",\"mucha\",\"venustiano\",\"Carranza\",\"day\",\"venustiano Carranza\",\"tiene\",\"como\",'esta',\"opción\",\"siempre\",\"se\",\"Álvaro Obregón\",\"Álvaro\", \"Obregón\",\"Alvaro Obregon\",\"Madero\",\"Gustavo\",\"Gustavo Madero\",\"su\",\"para\",\"Súper\",\"Magdalena\", \"Contreras\",\"Magdalena Contreras\",\"de\",\"una\",\"si\",\"pero\",\"con\",\"está\",\"por\",\"buena\",\"gracias\",\"Thank\",\"Benito\",\"Juárez\",\"departamento\",\"super\",\"fue\",\"ya\",\"us\",\"Miguel\",\"Hidalgo\",\"host\",\"neighborhood\", \"hosts\",\"check\", \"nice\", \"todo\", \"CDMX\" \"everything\",\"lot\",\"casa\",\"house\", \"un\",\"excelente\", \"need\",\"apartment\",\"el\",\"muy bien\",\"El departamento\",\"es\",\"br\",\"Mexico\", \"city\", \"y\",\"muy\",\"lo\",\"que\",\"stay\",\"lugar\",\"recommend\",\"location\", \"muy\",\"great\",\"place\",\"perfect\",\"en\",\"la\",\"amazing\",\"u\",\"great\",\"airbnb\",\"Cuauhtémoc\",'Coyoacán', 'Miguel Hidalgo', 'Benito Juárez','Azcapotzalco', 'Tlalpan', 'La Magdalena Contreras', 'Gustavo A. Madero', 'Álvaro Obregón', 'Venustiano Carranza', 'Cuajimalpa de Morelos', 'Iztapalapa', 'Xochimilco', 'Iztacalco','Tláhuac', 'Milpa Alta'])"
   ]
  },
  {
   "cell_type": "code",
   "execution_count": 340,
   "id": "55672709",
   "metadata": {},
   "outputs": [],
   "source": [
    "wc = WordCloud(\n",
    "        background_color='white',\n",
    "        stopwords=stopwords,\n",
    "        height = 400,\n",
    "        width=600\n",
    ")"
   ]
  },
  {
   "cell_type": "code",
   "execution_count": 341,
   "id": "b17436e3",
   "metadata": {},
   "outputs": [
    {
     "data": {
      "text/plain": [
       "<wordcloud.wordcloud.WordCloud at 0x2656ab0c910>"
      ]
     },
     "execution_count": 341,
     "metadata": {},
     "output_type": "execute_result"
    }
   ],
   "source": [
    "wc.generate(text)"
   ]
  },
  {
   "cell_type": "code",
   "execution_count": 342,
   "id": "a39c6ac2",
   "metadata": {},
   "outputs": [
    {
     "data": {
      "text/plain": [
       "<wordcloud.wordcloud.WordCloud at 0x2656ab0c910>"
      ]
     },
     "execution_count": 342,
     "metadata": {},
     "output_type": "execute_result"
    }
   ],
   "source": [
    "wc.to_file('worldcloud_Cuah.png')"
   ]
  },
  {
   "cell_type": "markdown",
   "id": "ede986d4",
   "metadata": {},
   "source": [
    "## Coyoacán"
   ]
  },
  {
   "cell_type": "code",
   "execution_count": 62,
   "id": "240826e9",
   "metadata": {},
   "outputs": [
    {
     "data": {
      "text/html": [
       "<div>\n",
       "<style scoped>\n",
       "    .dataframe tbody tr th:only-of-type {\n",
       "        vertical-align: middle;\n",
       "    }\n",
       "\n",
       "    .dataframe tbody tr th {\n",
       "        vertical-align: top;\n",
       "    }\n",
       "\n",
       "    .dataframe thead th {\n",
       "        text-align: right;\n",
       "    }\n",
       "</style>\n",
       "<table border=\"1\" class=\"dataframe\">\n",
       "  <thead>\n",
       "    <tr style=\"text-align: right;\">\n",
       "      <th></th>\n",
       "      <th>id</th>\n",
       "      <th>neighbourhood_cleansed</th>\n",
       "      <th>comments</th>\n",
       "    </tr>\n",
       "  </thead>\n",
       "  <tbody>\n",
       "    <tr>\n",
       "      <th>240</th>\n",
       "      <td>70644</td>\n",
       "      <td>Coyoacán</td>\n",
       "      <td>trisha is a great host and the apartment is ve...</td>\n",
       "    </tr>\n",
       "    <tr>\n",
       "      <th>241</th>\n",
       "      <td>70644</td>\n",
       "      <td>Coyoacán</td>\n",
       "      <td>This is a lovely studio in an ideal location -...</td>\n",
       "    </tr>\n",
       "    <tr>\n",
       "      <th>242</th>\n",
       "      <td>70644</td>\n",
       "      <td>Coyoacán</td>\n",
       "      <td>Trisha is the perfect host and the studio love...</td>\n",
       "    </tr>\n",
       "    <tr>\n",
       "      <th>243</th>\n",
       "      <td>70644</td>\n",
       "      <td>Coyoacán</td>\n",
       "      <td>All I can say is, Fantastic! Really. Trisha is...</td>\n",
       "    </tr>\n",
       "    <tr>\n",
       "      <th>244</th>\n",
       "      <td>70644</td>\n",
       "      <td>Coyoacán</td>\n",
       "      <td>This is a fantastic, fully equipped studio jus...</td>\n",
       "    </tr>\n",
       "    <tr>\n",
       "      <th>...</th>\n",
       "      <td>...</td>\n",
       "      <td>...</td>\n",
       "      <td>...</td>\n",
       "    </tr>\n",
       "    <tr>\n",
       "      <th>486653</th>\n",
       "      <td>50700508</td>\n",
       "      <td>Coyoacán</td>\n",
       "      <td>Todo genial, Alejandro ha sido muy amable con ...</td>\n",
       "    </tr>\n",
       "    <tr>\n",
       "      <th>486660</th>\n",
       "      <td>50708985</td>\n",
       "      <td>Coyoacán</td>\n",
       "      <td>departamento muy amplio y cómodo con una  exce...</td>\n",
       "    </tr>\n",
       "    <tr>\n",
       "      <th>486694</th>\n",
       "      <td>50794141</td>\n",
       "      <td>Coyoacán</td>\n",
       "      <td>Excelente servicio, la Sra. Lydia siempre muy ...</td>\n",
       "    </tr>\n",
       "    <tr>\n",
       "      <th>486695</th>\n",
       "      <td>50794141</td>\n",
       "      <td>Coyoacán</td>\n",
       "      <td>calidez y amabilidad... personas súper</td>\n",
       "    </tr>\n",
       "    <tr>\n",
       "      <th>486735</th>\n",
       "      <td>51027207</td>\n",
       "      <td>Coyoacán</td>\n",
       "      <td>todo bien</td>\n",
       "    </tr>\n",
       "  </tbody>\n",
       "</table>\n",
       "<p>32728 rows × 3 columns</p>\n",
       "</div>"
      ],
      "text/plain": [
       "              id neighbourhood_cleansed  \\\n",
       "240        70644               Coyoacán   \n",
       "241        70644               Coyoacán   \n",
       "242        70644               Coyoacán   \n",
       "243        70644               Coyoacán   \n",
       "244        70644               Coyoacán   \n",
       "...          ...                    ...   \n",
       "486653  50700508               Coyoacán   \n",
       "486660  50708985               Coyoacán   \n",
       "486694  50794141               Coyoacán   \n",
       "486695  50794141               Coyoacán   \n",
       "486735  51027207               Coyoacán   \n",
       "\n",
       "                                                 comments  \n",
       "240     trisha is a great host and the apartment is ve...  \n",
       "241     This is a lovely studio in an ideal location -...  \n",
       "242     Trisha is the perfect host and the studio love...  \n",
       "243     All I can say is, Fantastic! Really. Trisha is...  \n",
       "244     This is a fantastic, fully equipped studio jus...  \n",
       "...                                                   ...  \n",
       "486653  Todo genial, Alejandro ha sido muy amable con ...  \n",
       "486660  departamento muy amplio y cómodo con una  exce...  \n",
       "486694  Excelente servicio, la Sra. Lydia siempre muy ...  \n",
       "486695             calidez y amabilidad... personas súper  \n",
       "486735                                          todo bien  \n",
       "\n",
       "[32728 rows x 3 columns]"
      ]
     },
     "execution_count": 62,
     "metadata": {},
     "output_type": "execute_result"
    }
   ],
   "source": [
    "#create df for neighbourhood\n",
    "df_nei=revCONneib[(revCONneib['neighbourhood_cleansed']== 'Coyoacán')]\n",
    "df_nei"
   ]
  },
  {
   "cell_type": "code",
   "execution_count": 63,
   "id": "692c7bc9",
   "metadata": {},
   "outputs": [],
   "source": [
    "#create TXT\n",
    "df_nei.to_csv(\"C:\\\\Users\\\\doogi\\\\OneDrive\\\\Documentos\\\\Boot Camp local\\\\20 Projecto final\\\\local\\\\review_coya.txt\",index=False)"
   ]
  },
  {
   "cell_type": "code",
   "execution_count": 344,
   "id": "17dfbeaa",
   "metadata": {},
   "outputs": [],
   "source": [
    "text = open('review_coya.txt',mode='r',encoding='utf-8').read()"
   ]
  },
  {
   "cell_type": "code",
   "execution_count": 345,
   "id": "48dfa4cc",
   "metadata": {},
   "outputs": [],
   "source": [
    "stopwords = STOPWORDS"
   ]
  },
  {
   "cell_type": "code",
   "execution_count": 67,
   "id": "a96c1002",
   "metadata": {},
   "outputs": [
    {
     "name": "stdout",
     "output_type": "stream",
     "text": [
      "{\"you've\", 'our', 'this', 'here', 'itself', \"here's\", 'between', 'once', 'ourselves', 'while', 'during', \"he'll\", 'like', 'we', 'an', 'her', 'where', \"you're\", 'cannot', \"mustn't\", \"she's\", 'great', 'hosts', 'or', \"isn't\", 'shall', 'with', 'some', 'she', 'perfect', 'else', 'r', 'muy', 'be', 'again', 'hence', 'themselves', 'es', 'u', 'La Magdalena Contreras', 'under', 'against', 'a', 'am', 'have', \"he'd\", 'apartment', 'otherwise', \"they'll\", 'been', 'only', 'hers', \"i've\", \"let's\", 'does', 'through', 'were', 'stay', \"hasn't\", 'no', 'everything', 'because', 'into', 'www', 'so', 'neighborhood', 'above', \"wasn't\", 'El departamento', 'those', 'lugar', 'nor', 'your', \"we've\", 'was', \"why's\", \"it's\", 'his', 'Tláhuac', \"who's\", \"she'll\", 'Coyoacán', 'could', 'what', \"i'm\", 'from', 'whom', \"can't\", 'than', 'el', 'location', 'que', 'Cuauhtémoc', 'it', 'Iztapalapa', 'few', 'Benito Juárez', 'himself', \"i'd\", 'me', 'ours', 'muy bien', 'Mexico', 'there', 'en', 'Venustiano Carranza', 'such', 'up', 'CDMXeverything', 'to', \"you'll\", \"we'll\", 'out', 'you', \"aren't\", 'lot', 'yourselves', 'its', 'Milpa Alta', 'however', 'Azcapotzalco', 'Cuajimalpa de Morelos', 'city', 'all', \"didn't\", 'would', 'http', 'of', 'over', 'do', 'that', 'if', 'their', 'both', 'how', 'can', 'myself', 'should', \"that's\", 'Gustavo A. Madero', 'Miguel Hidalgo', 'own', 'he', 'other', 'by', 'Iztacalco', 'too', 'more', 'off', 'my', 'had', \"shan't\", 'below', \"shouldn't\", 'very', 'on', \"won't\", 'k', \"don't\", 'ought', 'when', \"there's\", 'him', \"we'd\", 'doing', 'just', 'yourself', \"she'd\", \"haven't\", \"weren't\", 'before', \"where's\", \"you'd\", 'recommend', 'airbnb', 'are', 'about', 'therefore', 'each', 'y', 'get', 'for', 'being', \"he's\", 'theirs', \"how's\", 'la', 'these', 'after', 'host', \"i'll\", 'most', \"hadn't\", 'them', 'then', 'why', 'lo', 'until', 'also', 'nice', 'and', 'having', 'did', 'ever', 'who', 'check', 'com', 'down', 'further', 'not', \"what's\", 'Tlalpan', 'yours', 'the', 'they', \"they've\", \"when's\", 'any', 'which', \"wouldn't\", 'Álvaro Obregón', 'has', 'Xochimilco', \"they'd\", 'as', 'i', 'br', 'same', \"couldn't\", \"doesn't\", \"they're\", 'herself', \"we're\", 'in', 'since', 'place', 'but', 'todo', 'is', 'at', 'need', 'amazing'}\n"
     ]
    }
   ],
   "source": [
    "print(stopwords)"
   ]
  },
  {
   "cell_type": "code",
   "execution_count": 351,
   "id": "2f5f3aee",
   "metadata": {},
   "outputs": [],
   "source": [
    "stopwords.update([\"want\",\"time\",\"Coyoacan\",\"Milpa\",\"Alta\",\"id\",\"mucho\",\"necesario\",\"one\",\"personas\",\"puedes\",\"alojamiento\",\"queda\",\"hacer\",\"al\",\"nos\",\"son\",\"puede\",\"donde\",\"puede\",\"uno\",\"las\",\"persona\",\"mi\",\"del\",\"ella\",\"ir\",\"le\",\"bien\",\"recomendable\",\"estancia\",\"noche\",\"recomendado\",\"gran\",\"Cuajimalpa\",\"Morelos\",\"sin\",\"duda\",\"hay\",\"mucha\",\"venustiano\",\"Carranza\",\"day\",\"venustiano Carranza\",\"tiene\",\"como\",'esta',\"opción\",\"siempre\",\"se\",\"Álvaro Obregón\",\"Álvaro\", \"Obregón\",\"Alvaro Obregon\",\"Madero\",\"Gustavo\",\"Gustavo Madero\",\"su\",\"para\",\"Súper\",\"Magdalena\", \"Contreras\",\"Magdalena Contreras\",\"de\",\"una\",\"si\",\"pero\",\"con\",\"está\",\"por\",\"buena\",\"gracias\",\"Thank\",\"Benito\",\"Juárez\",\"departamento\",\"super\",\"fue\",\"ya\",\"us\",\"Miguel\",\"Hidalgo\",\"host\",\"neighborhood\", \"hosts\",\"check\", \"nice\", \"todo\", \"CDMX\" \"everything\",\"lot\",\"casa\",\"house\", \"un\",\"excelente\", \"need\",\"apartment\",\"el\",\"muy bien\",\"El departamento\",\"es\",\"br\",\"Mexico\", \"city\", \"y\",\"muy\",\"lo\",\"que\",\"stay\",\"lugar\",\"recommend\",\"location\", \"muy\",\"great\",\"place\",\"perfect\",\"en\",\"la\",\"amazing\",\"u\",\"great\",\"airbnb\",\"Cuauhtémoc\",'Coyoacán', 'Miguel Hidalgo', 'Benito Juárez','Azcapotzalco', 'Tlalpan', 'La Magdalena Contreras', 'Gustavo A. Madero', 'Álvaro Obregón', 'Venustiano Carranza', 'Cuajimalpa de Morelos', 'Iztapalapa', 'Xochimilco', 'Iztacalco','Tláhuac', 'Milpa Alta'])"
   ]
  },
  {
   "cell_type": "code",
   "execution_count": 352,
   "id": "169789a5",
   "metadata": {},
   "outputs": [],
   "source": [
    "wc = WordCloud(\n",
    "        background_color='white',\n",
    "        stopwords=stopwords,\n",
    "        height = 400,\n",
    "        width=600\n",
    ")"
   ]
  },
  {
   "cell_type": "code",
   "execution_count": 353,
   "id": "8849a65b",
   "metadata": {},
   "outputs": [
    {
     "data": {
      "text/plain": [
       "<wordcloud.wordcloud.WordCloud at 0x2656ab0c3a0>"
      ]
     },
     "execution_count": 353,
     "metadata": {},
     "output_type": "execute_result"
    }
   ],
   "source": [
    "wc.generate(text)"
   ]
  },
  {
   "cell_type": "code",
   "execution_count": 354,
   "id": "2bd8ee6e",
   "metadata": {},
   "outputs": [
    {
     "data": {
      "text/plain": [
       "<wordcloud.wordcloud.WordCloud at 0x2656ab0c3a0>"
      ]
     },
     "execution_count": 354,
     "metadata": {},
     "output_type": "execute_result"
    }
   ],
   "source": [
    "wc.to_file('worldcloud_Coyoacan.png')"
   ]
  },
  {
   "cell_type": "markdown",
   "id": "29df32c7",
   "metadata": {},
   "source": [
    "## Miguel Hidalgo"
   ]
  },
  {
   "cell_type": "code",
   "execution_count": 103,
   "id": "ba67aca9",
   "metadata": {},
   "outputs": [
    {
     "data": {
      "text/html": [
       "<div>\n",
       "<style scoped>\n",
       "    .dataframe tbody tr th:only-of-type {\n",
       "        vertical-align: middle;\n",
       "    }\n",
       "\n",
       "    .dataframe tbody tr th {\n",
       "        vertical-align: top;\n",
       "    }\n",
       "\n",
       "    .dataframe thead th {\n",
       "        text-align: right;\n",
       "    }\n",
       "</style>\n",
       "<table border=\"1\" class=\"dataframe\">\n",
       "  <thead>\n",
       "    <tr style=\"text-align: right;\">\n",
       "      <th></th>\n",
       "      <th>id</th>\n",
       "      <th>neighbourhood_cleansed</th>\n",
       "      <th>comments</th>\n",
       "    </tr>\n",
       "  </thead>\n",
       "  <tbody>\n",
       "    <tr>\n",
       "      <th>344</th>\n",
       "      <td>107078</td>\n",
       "      <td>Miguel Hidalgo</td>\n",
       "      <td>La casa igual y más linda que en las fotos. Ex...</td>\n",
       "    </tr>\n",
       "    <tr>\n",
       "      <th>345</th>\n",
       "      <td>107078</td>\n",
       "      <td>Miguel Hidalgo</td>\n",
       "      <td>Andrea was very welcoming, flexible and a grea...</td>\n",
       "    </tr>\n",
       "    <tr>\n",
       "      <th>346</th>\n",
       "      <td>107078</td>\n",
       "      <td>Miguel Hidalgo</td>\n",
       "      <td>Andrea was incredibly welcoming and did everyt...</td>\n",
       "    </tr>\n",
       "    <tr>\n",
       "      <th>347</th>\n",
       "      <td>107078</td>\n",
       "      <td>Miguel Hidalgo</td>\n",
       "      <td>checking in was easy the cleaning lady was at ...</td>\n",
       "    </tr>\n",
       "    <tr>\n",
       "      <th>348</th>\n",
       "      <td>107078</td>\n",
       "      <td>Miguel Hidalgo</td>\n",
       "      <td>The host canceled this reservation 5 days befo...</td>\n",
       "    </tr>\n",
       "    <tr>\n",
       "      <th>...</th>\n",
       "      <td>...</td>\n",
       "      <td>...</td>\n",
       "      <td>...</td>\n",
       "    </tr>\n",
       "    <tr>\n",
       "      <th>486712</th>\n",
       "      <td>50873921</td>\n",
       "      <td>Miguel Hidalgo</td>\n",
       "      <td>Excelente Experiencia. Todo igualito a las fot...</td>\n",
       "    </tr>\n",
       "    <tr>\n",
       "      <th>486713</th>\n",
       "      <td>50873921</td>\n",
       "      <td>Miguel Hidalgo</td>\n",
       "      <td>Great place!!! I had a wonderful stay. Extreme...</td>\n",
       "    </tr>\n",
       "    <tr>\n",
       "      <th>486714</th>\n",
       "      <td>50873984</td>\n",
       "      <td>Miguel Hidalgo</td>\n",
       "      <td>todo excelente en nuestra estadia, muchas grac...</td>\n",
       "    </tr>\n",
       "    <tr>\n",
       "      <th>486715</th>\n",
       "      <td>50873984</td>\n",
       "      <td>Miguel Hidalgo</td>\n",
       "      <td>Excelente opción en Polanco , el depa impecabl...</td>\n",
       "    </tr>\n",
       "    <tr>\n",
       "      <th>486716</th>\n",
       "      <td>50873984</td>\n",
       "      <td>Miguel Hidalgo</td>\n",
       "      <td>Gran atención y comunicación con el host , el ...</td>\n",
       "    </tr>\n",
       "  </tbody>\n",
       "</table>\n",
       "<p>76489 rows × 3 columns</p>\n",
       "</div>"
      ],
      "text/plain": [
       "              id neighbourhood_cleansed  \\\n",
       "344       107078         Miguel Hidalgo   \n",
       "345       107078         Miguel Hidalgo   \n",
       "346       107078         Miguel Hidalgo   \n",
       "347       107078         Miguel Hidalgo   \n",
       "348       107078         Miguel Hidalgo   \n",
       "...          ...                    ...   \n",
       "486712  50873921         Miguel Hidalgo   \n",
       "486713  50873921         Miguel Hidalgo   \n",
       "486714  50873984         Miguel Hidalgo   \n",
       "486715  50873984         Miguel Hidalgo   \n",
       "486716  50873984         Miguel Hidalgo   \n",
       "\n",
       "                                                 comments  \n",
       "344     La casa igual y más linda que en las fotos. Ex...  \n",
       "345     Andrea was very welcoming, flexible and a grea...  \n",
       "346     Andrea was incredibly welcoming and did everyt...  \n",
       "347     checking in was easy the cleaning lady was at ...  \n",
       "348     The host canceled this reservation 5 days befo...  \n",
       "...                                                   ...  \n",
       "486712  Excelente Experiencia. Todo igualito a las fot...  \n",
       "486713  Great place!!! I had a wonderful stay. Extreme...  \n",
       "486714  todo excelente en nuestra estadia, muchas grac...  \n",
       "486715  Excelente opción en Polanco , el depa impecabl...  \n",
       "486716  Gran atención y comunicación con el host , el ...  \n",
       "\n",
       "[76489 rows x 3 columns]"
      ]
     },
     "execution_count": 103,
     "metadata": {},
     "output_type": "execute_result"
    }
   ],
   "source": [
    "#create df for neighbourhood\n",
    "df_nei=revCONneib[(revCONneib['neighbourhood_cleansed']== 'Miguel Hidalgo')]\n",
    "df_nei"
   ]
  },
  {
   "cell_type": "code",
   "execution_count": 104,
   "id": "4a74505e",
   "metadata": {},
   "outputs": [],
   "source": [
    "df_nei.to_csv(\"C:\\\\Users\\\\doogi\\\\OneDrive\\\\Documentos\\\\Boot Camp local\\\\20 Projecto final\\\\local\\\\review_Mig_Hid.txt\",index=False)"
   ]
  },
  {
   "cell_type": "code",
   "execution_count": 356,
   "id": "ce24b33a",
   "metadata": {},
   "outputs": [],
   "source": [
    "text = open('review_Mig_Hid.txt',mode='r',encoding='utf-8').read()"
   ]
  },
  {
   "cell_type": "code",
   "execution_count": 357,
   "id": "23e766f7",
   "metadata": {},
   "outputs": [],
   "source": [
    "stopwords = STOPWORDS"
   ]
  },
  {
   "cell_type": "code",
   "execution_count": 358,
   "id": "224e9147",
   "metadata": {},
   "outputs": [],
   "source": [
    "stopwords.update([\"want\",\"time\",\"Coyoacan\",\"Milpa\",\"Alta\",\"id\",\"mucho\",\"necesario\",\"one\",\"personas\",\"puedes\",\"alojamiento\",\"queda\",\"hacer\",\"al\",\"nos\",\"son\",\"puede\",\"donde\",\"puede\",\"uno\",\"las\",\"persona\",\"mi\",\"del\",\"ella\",\"ir\",\"le\",\"bien\",\"recomendable\",\"estancia\",\"noche\",\"recomendado\",\"gran\",\"Cuajimalpa\",\"Morelos\",\"sin\",\"duda\",\"hay\",\"mucha\",\"venustiano\",\"Carranza\",\"day\",\"venustiano Carranza\",\"tiene\",\"como\",'esta',\"opción\",\"siempre\",\"se\",\"Álvaro Obregón\",\"Álvaro\", \"Obregón\",\"Alvaro Obregon\",\"Madero\",\"Gustavo\",\"Gustavo Madero\",\"su\",\"para\",\"Súper\",\"Magdalena\", \"Contreras\",\"Magdalena Contreras\",\"de\",\"una\",\"si\",\"pero\",\"con\",\"está\",\"por\",\"buena\",\"gracias\",\"Thank\",\"Benito\",\"Juárez\",\"departamento\",\"super\",\"fue\",\"ya\",\"us\",\"Miguel\",\"Hidalgo\",\"host\",\"neighborhood\", \"hosts\",\"check\", \"nice\", \"todo\", \"CDMX\" \"everything\",\"lot\",\"casa\",\"house\", \"un\",\"excelente\", \"need\",\"apartment\",\"el\",\"muy bien\",\"El departamento\",\"es\",\"br\",\"Mexico\", \"city\", \"y\",\"muy\",\"lo\",\"que\",\"stay\",\"lugar\",\"recommend\",\"location\", \"muy\",\"great\",\"place\",\"perfect\",\"en\",\"la\",\"amazing\",\"u\",\"great\",\"airbnb\",\"Cuauhtémoc\",'Coyoacán', 'Miguel Hidalgo', 'Benito Juárez','Azcapotzalco', 'Tlalpan', 'La Magdalena Contreras', 'Gustavo A. Madero', 'Álvaro Obregón', 'Venustiano Carranza', 'Cuajimalpa de Morelos', 'Iztapalapa', 'Xochimilco', 'Iztacalco','Tláhuac', 'Milpa Alta'])"
   ]
  },
  {
   "cell_type": "code",
   "execution_count": 359,
   "id": "4fbf5d4a",
   "metadata": {},
   "outputs": [],
   "source": [
    "wc = WordCloud(\n",
    "        background_color='white',\n",
    "        stopwords=stopwords,\n",
    "        height = 400,\n",
    "        width=600\n",
    ")"
   ]
  },
  {
   "cell_type": "code",
   "execution_count": 363,
   "id": "7fa2d3c0",
   "metadata": {},
   "outputs": [
    {
     "data": {
      "text/plain": [
       "<wordcloud.wordcloud.WordCloud at 0x2656ab0caf0>"
      ]
     },
     "execution_count": 363,
     "metadata": {},
     "output_type": "execute_result"
    }
   ],
   "source": [
    "wc.generate(text)"
   ]
  },
  {
   "cell_type": "code",
   "execution_count": 364,
   "id": "b514315c",
   "metadata": {},
   "outputs": [
    {
     "data": {
      "text/plain": [
       "<wordcloud.wordcloud.WordCloud at 0x2656ab0caf0>"
      ]
     },
     "execution_count": 364,
     "metadata": {},
     "output_type": "execute_result"
    }
   ],
   "source": [
    "wc.to_file('worldcloud_Mig_Hid.png')"
   ]
  },
  {
   "cell_type": "markdown",
   "id": "340e8618",
   "metadata": {},
   "source": [
    "## Benito Juárez"
   ]
  },
  {
   "cell_type": "code",
   "execution_count": 127,
   "id": "1a1b6cf3",
   "metadata": {},
   "outputs": [
    {
     "data": {
      "text/html": [
       "<div>\n",
       "<style scoped>\n",
       "    .dataframe tbody tr th:only-of-type {\n",
       "        vertical-align: middle;\n",
       "    }\n",
       "\n",
       "    .dataframe tbody tr th {\n",
       "        vertical-align: top;\n",
       "    }\n",
       "\n",
       "    .dataframe thead th {\n",
       "        text-align: right;\n",
       "    }\n",
       "</style>\n",
       "<table border=\"1\" class=\"dataframe\">\n",
       "  <thead>\n",
       "    <tr style=\"text-align: right;\">\n",
       "      <th></th>\n",
       "      <th>id</th>\n",
       "      <th>neighbourhood_cleansed</th>\n",
       "      <th>comments</th>\n",
       "    </tr>\n",
       "  </thead>\n",
       "  <tbody>\n",
       "    <tr>\n",
       "      <th>625</th>\n",
       "      <td>171109</td>\n",
       "      <td>Benito Juárez</td>\n",
       "      <td>Demeurer dans le secteur Napoles est rassurant...</td>\n",
       "    </tr>\n",
       "    <tr>\n",
       "      <th>626</th>\n",
       "      <td>171109</td>\n",
       "      <td>Benito Juárez</td>\n",
       "      <td>Carlos is a great human being; completely trus...</td>\n",
       "    </tr>\n",
       "    <tr>\n",
       "      <th>627</th>\n",
       "      <td>171109</td>\n",
       "      <td>Benito Juárez</td>\n",
       "      <td>On 1 to 10 scale, Carlos is 11. \\r&lt;br/&gt;Excelle...</td>\n",
       "    </tr>\n",
       "    <tr>\n",
       "      <th>628</th>\n",
       "      <td>171109</td>\n",
       "      <td>Benito Juárez</td>\n",
       "      <td>Was accurate and very good person. Highly reco...</td>\n",
       "    </tr>\n",
       "    <tr>\n",
       "      <th>629</th>\n",
       "      <td>171109</td>\n",
       "      <td>Benito Juárez</td>\n",
       "      <td>La habitacion comoda y confortable con baño li...</td>\n",
       "    </tr>\n",
       "    <tr>\n",
       "      <th>...</th>\n",
       "      <td>...</td>\n",
       "      <td>...</td>\n",
       "      <td>...</td>\n",
       "    </tr>\n",
       "    <tr>\n",
       "      <th>486723</th>\n",
       "      <td>50901666</td>\n",
       "      <td>Benito Juárez</td>\n",
       "      <td>Excelente</td>\n",
       "    </tr>\n",
       "    <tr>\n",
       "      <th>486726</th>\n",
       "      <td>50917676</td>\n",
       "      <td>Benito Juárez</td>\n",
       "      <td>Un gran lugar y un diseño interior de muy buen...</td>\n",
       "    </tr>\n",
       "    <tr>\n",
       "      <th>486727</th>\n",
       "      <td>50917676</td>\n",
       "      <td>Benito Juárez</td>\n",
       "      <td>El departamento es muy amplio, se encuentra bi...</td>\n",
       "    </tr>\n",
       "    <tr>\n",
       "      <th>486729</th>\n",
       "      <td>50960764</td>\n",
       "      <td>Benito Juárez</td>\n",
       "      <td>Victoria was an awesome host. Prompt response,...</td>\n",
       "    </tr>\n",
       "    <tr>\n",
       "      <th>486730</th>\n",
       "      <td>50960764</td>\n",
       "      <td>Benito Juárez</td>\n",
       "      <td>El espacio de Victoria es muy cómodo, limpio y...</td>\n",
       "    </tr>\n",
       "  </tbody>\n",
       "</table>\n",
       "<p>56209 rows × 3 columns</p>\n",
       "</div>"
      ],
      "text/plain": [
       "              id neighbourhood_cleansed  \\\n",
       "625       171109          Benito Juárez   \n",
       "626       171109          Benito Juárez   \n",
       "627       171109          Benito Juárez   \n",
       "628       171109          Benito Juárez   \n",
       "629       171109          Benito Juárez   \n",
       "...          ...                    ...   \n",
       "486723  50901666          Benito Juárez   \n",
       "486726  50917676          Benito Juárez   \n",
       "486727  50917676          Benito Juárez   \n",
       "486729  50960764          Benito Juárez   \n",
       "486730  50960764          Benito Juárez   \n",
       "\n",
       "                                                 comments  \n",
       "625     Demeurer dans le secteur Napoles est rassurant...  \n",
       "626     Carlos is a great human being; completely trus...  \n",
       "627     On 1 to 10 scale, Carlos is 11. \\r<br/>Excelle...  \n",
       "628     Was accurate and very good person. Highly reco...  \n",
       "629     La habitacion comoda y confortable con baño li...  \n",
       "...                                                   ...  \n",
       "486723                                          Excelente  \n",
       "486726  Un gran lugar y un diseño interior de muy buen...  \n",
       "486727  El departamento es muy amplio, se encuentra bi...  \n",
       "486729  Victoria was an awesome host. Prompt response,...  \n",
       "486730  El espacio de Victoria es muy cómodo, limpio y...  \n",
       "\n",
       "[56209 rows x 3 columns]"
      ]
     },
     "execution_count": 127,
     "metadata": {},
     "output_type": "execute_result"
    }
   ],
   "source": [
    "#create df for neighbourhood\n",
    "df_nei=revCONneib[(revCONneib['neighbourhood_cleansed']== 'Benito Juárez')]\n",
    "df_nei"
   ]
  },
  {
   "cell_type": "code",
   "execution_count": 128,
   "id": "8913de52",
   "metadata": {},
   "outputs": [],
   "source": [
    "df_nei.to_csv(\"C:\\\\Users\\\\doogi\\\\OneDrive\\\\Documentos\\\\Boot Camp local\\\\20 Projecto final\\\\local\\\\review_Ben_jua.txt\",index=False)"
   ]
  },
  {
   "cell_type": "code",
   "execution_count": 366,
   "id": "0e3228dd",
   "metadata": {},
   "outputs": [],
   "source": [
    "text = open('review_Ben_jua.txt',mode='r',encoding='utf-8').read()"
   ]
  },
  {
   "cell_type": "code",
   "execution_count": 367,
   "id": "eaae152c",
   "metadata": {},
   "outputs": [],
   "source": [
    "stopwords = STOPWORDS"
   ]
  },
  {
   "cell_type": "code",
   "execution_count": 368,
   "id": "853184e1",
   "metadata": {},
   "outputs": [],
   "source": [
    "stopwords.update([\"want\",\"time\",\"Coyoacan\",\"Milpa\",\"Alta\",\"id\",\"mucho\",\"necesario\",\"one\",\"personas\",\"puedes\",\"alojamiento\",\"queda\",\"hacer\",\"al\",\"nos\",\"son\",\"puede\",\"donde\",\"puede\",\"uno\",\"las\",\"persona\",\"mi\",\"del\",\"ella\",\"ir\",\"le\",\"bien\",\"recomendable\",\"estancia\",\"noche\",\"recomendado\",\"gran\",\"Cuajimalpa\",\"Morelos\",\"sin\",\"duda\",\"hay\",\"mucha\",\"venustiano\",\"Carranza\",\"day\",\"venustiano Carranza\",\"tiene\",\"como\",'esta',\"opción\",\"siempre\",\"se\",\"Álvaro Obregón\",\"Álvaro\", \"Obregón\",\"Alvaro Obregon\",\"Madero\",\"Gustavo\",\"Gustavo Madero\",\"su\",\"para\",\"Súper\",\"Magdalena\", \"Contreras\",\"Magdalena Contreras\",\"de\",\"una\",\"si\",\"pero\",\"con\",\"está\",\"por\",\"buena\",\"gracias\",\"Thank\",\"Benito\",\"Juárez\",\"departamento\",\"super\",\"fue\",\"ya\",\"us\",\"Miguel\",\"Hidalgo\",\"host\",\"neighborhood\", \"hosts\",\"check\", \"nice\", \"todo\", \"CDMX\" \"everything\",\"lot\",\"casa\",\"house\", \"un\",\"excelente\", \"need\",\"apartment\",\"el\",\"muy bien\",\"El departamento\",\"es\",\"br\",\"Mexico\", \"city\", \"y\",\"muy\",\"lo\",\"que\",\"stay\",\"lugar\",\"recommend\",\"location\", \"muy\",\"great\",\"place\",\"perfect\",\"en\",\"la\",\"amazing\",\"u\",\"great\",\"airbnb\",\"Cuauhtémoc\",'Coyoacán', 'Miguel Hidalgo', 'Benito Juárez','Azcapotzalco', 'Tlalpan', 'La Magdalena Contreras', 'Gustavo A. Madero', 'Álvaro Obregón', 'Venustiano Carranza', 'Cuajimalpa de Morelos', 'Iztapalapa', 'Xochimilco', 'Iztacalco','Tláhuac', 'Milpa Alta'])"
   ]
  },
  {
   "cell_type": "code",
   "execution_count": 369,
   "id": "3119bb40",
   "metadata": {},
   "outputs": [],
   "source": [
    "wc = WordCloud(\n",
    "        background_color='white',\n",
    "        stopwords=stopwords,\n",
    "        height = 400,\n",
    "        width=600\n",
    ")"
   ]
  },
  {
   "cell_type": "code",
   "execution_count": 370,
   "id": "62c2aaa3",
   "metadata": {},
   "outputs": [
    {
     "data": {
      "text/plain": [
       "<wordcloud.wordcloud.WordCloud at 0x2656ab0cdc0>"
      ]
     },
     "execution_count": 370,
     "metadata": {},
     "output_type": "execute_result"
    }
   ],
   "source": [
    "wc.generate(text)"
   ]
  },
  {
   "cell_type": "code",
   "execution_count": 371,
   "id": "f6332ad4",
   "metadata": {},
   "outputs": [
    {
     "data": {
      "text/plain": [
       "<wordcloud.wordcloud.WordCloud at 0x2656ab0cdc0>"
      ]
     },
     "execution_count": 371,
     "metadata": {},
     "output_type": "execute_result"
    }
   ],
   "source": [
    "wc.to_file('worldcloud_Benito_juarez.png')"
   ]
  },
  {
   "cell_type": "markdown",
   "id": "9a8eb867",
   "metadata": {},
   "source": [
    "## Azcapotzalco"
   ]
  },
  {
   "cell_type": "code",
   "execution_count": 144,
   "id": "5944430f",
   "metadata": {},
   "outputs": [
    {
     "data": {
      "text/html": [
       "<div>\n",
       "<style scoped>\n",
       "    .dataframe tbody tr th:only-of-type {\n",
       "        vertical-align: middle;\n",
       "    }\n",
       "\n",
       "    .dataframe tbody tr th {\n",
       "        vertical-align: top;\n",
       "    }\n",
       "\n",
       "    .dataframe thead th {\n",
       "        text-align: right;\n",
       "    }\n",
       "</style>\n",
       "<table border=\"1\" class=\"dataframe\">\n",
       "  <thead>\n",
       "    <tr style=\"text-align: right;\">\n",
       "      <th></th>\n",
       "      <th>id</th>\n",
       "      <th>neighbourhood_cleansed</th>\n",
       "      <th>comments</th>\n",
       "    </tr>\n",
       "  </thead>\n",
       "  <tbody>\n",
       "    <tr>\n",
       "      <th>1141</th>\n",
       "      <td>255354</td>\n",
       "      <td>Azcapotzalco</td>\n",
       "      <td>Andrea is a first-class host! She's friendly, ...</td>\n",
       "    </tr>\n",
       "    <tr>\n",
       "      <th>28145</th>\n",
       "      <td>4936003</td>\n",
       "      <td>Azcapotzalco</td>\n",
       "      <td>We arrived very late at night and found out th...</td>\n",
       "    </tr>\n",
       "    <tr>\n",
       "      <th>28146</th>\n",
       "      <td>4936003</td>\n",
       "      <td>Azcapotzalco</td>\n",
       "      <td>El lugar es increíble. Tal cual las fotos. Es ...</td>\n",
       "    </tr>\n",
       "    <tr>\n",
       "      <th>28147</th>\n",
       "      <td>4936003</td>\n",
       "      <td>Azcapotzalco</td>\n",
       "      <td>Mi estancia fue muy cómoda. Alejandro aunque n...</td>\n",
       "    </tr>\n",
       "    <tr>\n",
       "      <th>28148</th>\n",
       "      <td>4936003</td>\n",
       "      <td>Azcapotzalco</td>\n",
       "      <td>Es la segunda vez que me hospedo en ese lugar,...</td>\n",
       "    </tr>\n",
       "    <tr>\n",
       "      <th>...</th>\n",
       "      <td>...</td>\n",
       "      <td>...</td>\n",
       "      <td>...</td>\n",
       "    </tr>\n",
       "    <tr>\n",
       "      <th>485894</th>\n",
       "      <td>50071325</td>\n",
       "      <td>Azcapotzalco</td>\n",
       "      <td>excelente lugar, fuimos en viaje de trabajo, s...</td>\n",
       "    </tr>\n",
       "    <tr>\n",
       "      <th>485895</th>\n",
       "      <td>50071325</td>\n",
       "      <td>Azcapotzalco</td>\n",
       "      <td>Mi estancia fue de un día pero me encantó el l...</td>\n",
       "    </tr>\n",
       "    <tr>\n",
       "      <th>485896</th>\n",
       "      <td>50071325</td>\n",
       "      <td>Azcapotzalco</td>\n",
       "      <td>Excelente lugar, 100% recomendable, limpio, tr...</td>\n",
       "    </tr>\n",
       "    <tr>\n",
       "      <th>485897</th>\n",
       "      <td>50071325</td>\n",
       "      <td>Azcapotzalco</td>\n",
       "      <td>La Sra. Rocio es una persona muy amable y con ...</td>\n",
       "    </tr>\n",
       "    <tr>\n",
       "      <th>486277</th>\n",
       "      <td>50284982</td>\n",
       "      <td>Azcapotzalco</td>\n",
       "      <td>Muy atento todo, y un excelente lugar para que...</td>\n",
       "    </tr>\n",
       "  </tbody>\n",
       "</table>\n",
       "<p>3705 rows × 3 columns</p>\n",
       "</div>"
      ],
      "text/plain": [
       "              id neighbourhood_cleansed  \\\n",
       "1141      255354           Azcapotzalco   \n",
       "28145    4936003           Azcapotzalco   \n",
       "28146    4936003           Azcapotzalco   \n",
       "28147    4936003           Azcapotzalco   \n",
       "28148    4936003           Azcapotzalco   \n",
       "...          ...                    ...   \n",
       "485894  50071325           Azcapotzalco   \n",
       "485895  50071325           Azcapotzalco   \n",
       "485896  50071325           Azcapotzalco   \n",
       "485897  50071325           Azcapotzalco   \n",
       "486277  50284982           Azcapotzalco   \n",
       "\n",
       "                                                 comments  \n",
       "1141    Andrea is a first-class host! She's friendly, ...  \n",
       "28145   We arrived very late at night and found out th...  \n",
       "28146   El lugar es increíble. Tal cual las fotos. Es ...  \n",
       "28147   Mi estancia fue muy cómoda. Alejandro aunque n...  \n",
       "28148   Es la segunda vez que me hospedo en ese lugar,...  \n",
       "...                                                   ...  \n",
       "485894  excelente lugar, fuimos en viaje de trabajo, s...  \n",
       "485895  Mi estancia fue de un día pero me encantó el l...  \n",
       "485896  Excelente lugar, 100% recomendable, limpio, tr...  \n",
       "485897  La Sra. Rocio es una persona muy amable y con ...  \n",
       "486277  Muy atento todo, y un excelente lugar para que...  \n",
       "\n",
       "[3705 rows x 3 columns]"
      ]
     },
     "execution_count": 144,
     "metadata": {},
     "output_type": "execute_result"
    }
   ],
   "source": [
    "#create df for neighbourhood\n",
    "df_nei=revCONneib[(revCONneib['neighbourhood_cleansed']== 'Azcapotzalco')]\n",
    "df_nei"
   ]
  },
  {
   "cell_type": "code",
   "execution_count": 145,
   "id": "a47706fa",
   "metadata": {},
   "outputs": [],
   "source": [
    "df_nei.to_csv(\"C:\\\\Users\\\\doogi\\\\OneDrive\\\\Documentos\\\\Boot Camp local\\\\20 Projecto final\\\\local\\\\review_Azc.txt\",index=False)"
   ]
  },
  {
   "cell_type": "code",
   "execution_count": 373,
   "id": "7abfbfa6",
   "metadata": {},
   "outputs": [],
   "source": [
    "text = open('review_Azc.txt',mode='r',encoding='utf-8').read()"
   ]
  },
  {
   "cell_type": "code",
   "execution_count": 374,
   "id": "669c469d",
   "metadata": {},
   "outputs": [],
   "source": [
    "stopwords = STOPWORDS"
   ]
  },
  {
   "cell_type": "code",
   "execution_count": 375,
   "id": "02c26430",
   "metadata": {},
   "outputs": [],
   "source": [
    "stopwords.update([\"want\",\"time\",\"Coyoacan\",\"Milpa\",\"Alta\",\"id\",\"mucho\",\"necesario\",\"one\",\"personas\",\"puedes\",\"alojamiento\",\"queda\",\"hacer\",\"al\",\"nos\",\"son\",\"puede\",\"donde\",\"puede\",\"uno\",\"las\",\"persona\",\"mi\",\"del\",\"ella\",\"ir\",\"le\",\"bien\",\"recomendable\",\"estancia\",\"noche\",\"recomendado\",\"gran\",\"Cuajimalpa\",\"Morelos\",\"sin\",\"duda\",\"hay\",\"mucha\",\"venustiano\",\"Carranza\",\"day\",\"venustiano Carranza\",\"tiene\",\"como\",'esta',\"opción\",\"siempre\",\"se\",\"Álvaro Obregón\",\"Álvaro\", \"Obregón\",\"Alvaro Obregon\",\"Madero\",\"Gustavo\",\"Gustavo Madero\",\"su\",\"para\",\"Súper\",\"Magdalena\", \"Contreras\",\"Magdalena Contreras\",\"de\",\"una\",\"si\",\"pero\",\"con\",\"está\",\"por\",\"buena\",\"gracias\",\"Thank\",\"Benito\",\"Juárez\",\"departamento\",\"super\",\"fue\",\"ya\",\"us\",\"Miguel\",\"Hidalgo\",\"host\",\"neighborhood\", \"hosts\",\"check\", \"nice\", \"todo\", \"CDMX\" \"everything\",\"lot\",\"casa\",\"house\", \"un\",\"excelente\", \"need\",\"apartment\",\"el\",\"muy bien\",\"El departamento\",\"es\",\"br\",\"Mexico\", \"city\", \"y\",\"muy\",\"lo\",\"que\",\"stay\",\"lugar\",\"recommend\",\"location\", \"muy\",\"great\",\"place\",\"perfect\",\"en\",\"la\",\"amazing\",\"u\",\"great\",\"airbnb\",\"Cuauhtémoc\",'Coyoacán', 'Miguel Hidalgo', 'Benito Juárez','Azcapotzalco', 'Tlalpan', 'La Magdalena Contreras', 'Gustavo A. Madero', 'Álvaro Obregón', 'Venustiano Carranza', 'Cuajimalpa de Morelos', 'Iztapalapa', 'Xochimilco', 'Iztacalco','Tláhuac', 'Milpa Alta'])"
   ]
  },
  {
   "cell_type": "code",
   "execution_count": 376,
   "id": "c4361737",
   "metadata": {},
   "outputs": [],
   "source": [
    "wc = WordCloud(\n",
    "        background_color='white',\n",
    "        stopwords=stopwords,\n",
    "        height = 400,\n",
    "        width=600\n",
    ")"
   ]
  },
  {
   "cell_type": "code",
   "execution_count": 377,
   "id": "ff19b965",
   "metadata": {},
   "outputs": [
    {
     "data": {
      "text/plain": [
       "<wordcloud.wordcloud.WordCloud at 0x2656ab0c880>"
      ]
     },
     "execution_count": 377,
     "metadata": {},
     "output_type": "execute_result"
    }
   ],
   "source": [
    "wc.generate(text)"
   ]
  },
  {
   "cell_type": "code",
   "execution_count": 378,
   "id": "1cf1a0af",
   "metadata": {},
   "outputs": [
    {
     "data": {
      "text/plain": [
       "<wordcloud.wordcloud.WordCloud at 0x2656ab0c880>"
      ]
     },
     "execution_count": 378,
     "metadata": {},
     "output_type": "execute_result"
    }
   ],
   "source": [
    "wc.to_file('worldcloud_Azc.png')"
   ]
  },
  {
   "cell_type": "markdown",
   "id": "8de088a2",
   "metadata": {},
   "source": [
    "## Tlalpan"
   ]
  },
  {
   "cell_type": "code",
   "execution_count": 160,
   "id": "1d128963",
   "metadata": {},
   "outputs": [
    {
     "data": {
      "text/html": [
       "<div>\n",
       "<style scoped>\n",
       "    .dataframe tbody tr th:only-of-type {\n",
       "        vertical-align: middle;\n",
       "    }\n",
       "\n",
       "    .dataframe tbody tr th {\n",
       "        vertical-align: top;\n",
       "    }\n",
       "\n",
       "    .dataframe thead th {\n",
       "        text-align: right;\n",
       "    }\n",
       "</style>\n",
       "<table border=\"1\" class=\"dataframe\">\n",
       "  <thead>\n",
       "    <tr style=\"text-align: right;\">\n",
       "      <th></th>\n",
       "      <th>id</th>\n",
       "      <th>neighbourhood_cleansed</th>\n",
       "      <th>comments</th>\n",
       "    </tr>\n",
       "  </thead>\n",
       "  <tbody>\n",
       "    <tr>\n",
       "      <th>2526</th>\n",
       "      <td>329776</td>\n",
       "      <td>Tlalpan</td>\n",
       "      <td>La hospitalidad es una razón por la que valoré...</td>\n",
       "    </tr>\n",
       "    <tr>\n",
       "      <th>2527</th>\n",
       "      <td>329776</td>\n",
       "      <td>Tlalpan</td>\n",
       "      <td>Miguel súper buen anfitrión, no me puedo queja...</td>\n",
       "    </tr>\n",
       "    <tr>\n",
       "      <th>2528</th>\n",
       "      <td>329776</td>\n",
       "      <td>Tlalpan</td>\n",
       "      <td>Alquilamos la habitación VERDE por un mes por ...</td>\n",
       "    </tr>\n",
       "    <tr>\n",
       "      <th>2529</th>\n",
       "      <td>329776</td>\n",
       "      <td>Tlalpan</td>\n",
       "      <td>grazie di tutto Miguel.</td>\n",
       "    </tr>\n",
       "    <tr>\n",
       "      <th>2530</th>\n",
       "      <td>329776</td>\n",
       "      <td>Tlalpan</td>\n",
       "      <td>No pude haber encontrado un lugar mejor para q...</td>\n",
       "    </tr>\n",
       "    <tr>\n",
       "      <th>...</th>\n",
       "      <td>...</td>\n",
       "      <td>...</td>\n",
       "      <td>...</td>\n",
       "    </tr>\n",
       "    <tr>\n",
       "      <th>486572</th>\n",
       "      <td>50542828</td>\n",
       "      <td>Tlalpan</td>\n",
       "      <td>EXCELENTE UBICACION  Y COMODO LO RECOMIENDO AM...</td>\n",
       "    </tr>\n",
       "    <tr>\n",
       "      <th>486649</th>\n",
       "      <td>50683355</td>\n",
       "      <td>Tlalpan</td>\n",
       "      <td>Muy buena comunicación con José Luis, muy amable.</td>\n",
       "    </tr>\n",
       "    <tr>\n",
       "      <th>486709</th>\n",
       "      <td>50871716</td>\n",
       "      <td>Tlalpan</td>\n",
       "      <td>Muy amable el anfitrión, estuvo pendiente</td>\n",
       "    </tr>\n",
       "    <tr>\n",
       "      <th>486710</th>\n",
       "      <td>50871716</td>\n",
       "      <td>Tlalpan</td>\n",
       "      <td>Buena ubicación al sur de la ciudad, excelente...</td>\n",
       "    </tr>\n",
       "    <tr>\n",
       "      <th>486734</th>\n",
       "      <td>51023410</td>\n",
       "      <td>Tlalpan</td>\n",
       "      <td>excelente lugar, muy buena atención y muy cómodo.</td>\n",
       "    </tr>\n",
       "  </tbody>\n",
       "</table>\n",
       "<p>8950 rows × 3 columns</p>\n",
       "</div>"
      ],
      "text/plain": [
       "              id neighbourhood_cleansed  \\\n",
       "2526      329776                Tlalpan   \n",
       "2527      329776                Tlalpan   \n",
       "2528      329776                Tlalpan   \n",
       "2529      329776                Tlalpan   \n",
       "2530      329776                Tlalpan   \n",
       "...          ...                    ...   \n",
       "486572  50542828                Tlalpan   \n",
       "486649  50683355                Tlalpan   \n",
       "486709  50871716                Tlalpan   \n",
       "486710  50871716                Tlalpan   \n",
       "486734  51023410                Tlalpan   \n",
       "\n",
       "                                                 comments  \n",
       "2526    La hospitalidad es una razón por la que valoré...  \n",
       "2527    Miguel súper buen anfitrión, no me puedo queja...  \n",
       "2528    Alquilamos la habitación VERDE por un mes por ...  \n",
       "2529                              grazie di tutto Miguel.  \n",
       "2530    No pude haber encontrado un lugar mejor para q...  \n",
       "...                                                   ...  \n",
       "486572  EXCELENTE UBICACION  Y COMODO LO RECOMIENDO AM...  \n",
       "486649  Muy buena comunicación con José Luis, muy amable.  \n",
       "486709          Muy amable el anfitrión, estuvo pendiente  \n",
       "486710  Buena ubicación al sur de la ciudad, excelente...  \n",
       "486734  excelente lugar, muy buena atención y muy cómodo.  \n",
       "\n",
       "[8950 rows x 3 columns]"
      ]
     },
     "execution_count": 160,
     "metadata": {},
     "output_type": "execute_result"
    }
   ],
   "source": [
    "#create df for neighbourhood\n",
    "df_nei=revCONneib[(revCONneib['neighbourhood_cleansed']== 'Tlalpan')]\n",
    "df_nei"
   ]
  },
  {
   "cell_type": "code",
   "execution_count": 161,
   "id": "1a2ea297",
   "metadata": {},
   "outputs": [],
   "source": [
    "df_nei.to_csv(\"C:\\\\Users\\\\doogi\\\\OneDrive\\\\Documentos\\\\Boot Camp local\\\\20 Projecto final\\\\local\\\\review_Tlal.txt\",index=False)"
   ]
  },
  {
   "cell_type": "code",
   "execution_count": 380,
   "id": "1496a076",
   "metadata": {},
   "outputs": [],
   "source": [
    "text = open('review_Tlal.txt',mode='r',encoding='utf-8').read()"
   ]
  },
  {
   "cell_type": "code",
   "execution_count": 381,
   "id": "f3442058",
   "metadata": {},
   "outputs": [],
   "source": [
    "stopwords = STOPWORDS"
   ]
  },
  {
   "cell_type": "code",
   "execution_count": 382,
   "id": "710cee6e",
   "metadata": {},
   "outputs": [],
   "source": [
    "stopwords.update([\"want\",\"time\",\"Coyoacan\",\"Milpa\",\"Alta\",\"id\",\"mucho\",\"necesario\",\"one\",\"personas\",\"puedes\",\"alojamiento\",\"queda\",\"hacer\",\"al\",\"nos\",\"son\",\"puede\",\"donde\",\"puede\",\"uno\",\"las\",\"persona\",\"mi\",\"del\",\"ella\",\"ir\",\"le\",\"bien\",\"recomendable\",\"estancia\",\"noche\",\"recomendado\",\"gran\",\"Cuajimalpa\",\"Morelos\",\"sin\",\"duda\",\"hay\",\"mucha\",\"venustiano\",\"Carranza\",\"day\",\"venustiano Carranza\",\"tiene\",\"como\",'esta',\"opción\",\"siempre\",\"se\",\"Álvaro Obregón\",\"Álvaro\", \"Obregón\",\"Alvaro Obregon\",\"Madero\",\"Gustavo\",\"Gustavo Madero\",\"su\",\"para\",\"Súper\",\"Magdalena\", \"Contreras\",\"Magdalena Contreras\",\"de\",\"una\",\"si\",\"pero\",\"con\",\"está\",\"por\",\"buena\",\"gracias\",\"Thank\",\"Benito\",\"Juárez\",\"departamento\",\"super\",\"fue\",\"ya\",\"us\",\"Miguel\",\"Hidalgo\",\"host\",\"neighborhood\", \"hosts\",\"check\", \"nice\", \"todo\", \"CDMX\" \"everything\",\"lot\",\"casa\",\"house\", \"un\",\"excelente\", \"need\",\"apartment\",\"el\",\"muy bien\",\"El departamento\",\"es\",\"br\",\"Mexico\", \"city\", \"y\",\"muy\",\"lo\",\"que\",\"stay\",\"lugar\",\"recommend\",\"location\", \"muy\",\"great\",\"place\",\"perfect\",\"en\",\"la\",\"amazing\",\"u\",\"great\",\"airbnb\",\"Cuauhtémoc\",'Coyoacán', 'Miguel Hidalgo', 'Benito Juárez','Azcapotzalco', 'Tlalpan', 'La Magdalena Contreras', 'Gustavo A. Madero', 'Álvaro Obregón', 'Venustiano Carranza', 'Cuajimalpa de Morelos', 'Iztapalapa', 'Xochimilco', 'Iztacalco','Tláhuac', 'Milpa Alta'])"
   ]
  },
  {
   "cell_type": "code",
   "execution_count": 383,
   "id": "d2404f4a",
   "metadata": {},
   "outputs": [],
   "source": [
    "wc = WordCloud(\n",
    "        background_color='white',\n",
    "        stopwords=stopwords,\n",
    "        height = 400,\n",
    "        width=600\n",
    ")"
   ]
  },
  {
   "cell_type": "code",
   "execution_count": 384,
   "id": "0f2e3931",
   "metadata": {},
   "outputs": [
    {
     "data": {
      "text/plain": [
       "<wordcloud.wordcloud.WordCloud at 0x2656ab0ce20>"
      ]
     },
     "execution_count": 384,
     "metadata": {},
     "output_type": "execute_result"
    }
   ],
   "source": [
    "wc.generate(text)"
   ]
  },
  {
   "cell_type": "code",
   "execution_count": 385,
   "id": "17bf6fe9",
   "metadata": {},
   "outputs": [
    {
     "data": {
      "text/plain": [
       "<wordcloud.wordcloud.WordCloud at 0x2656ab0ce20>"
      ]
     },
     "execution_count": 385,
     "metadata": {},
     "output_type": "execute_result"
    }
   ],
   "source": [
    "wc.to_file('worldcloud_Tlal.png')"
   ]
  },
  {
   "cell_type": "markdown",
   "id": "e83315de",
   "metadata": {},
   "source": [
    "## La Magdalena Contreras"
   ]
  },
  {
   "cell_type": "code",
   "execution_count": 180,
   "id": "89fbc0cb",
   "metadata": {},
   "outputs": [
    {
     "data": {
      "text/html": [
       "<div>\n",
       "<style scoped>\n",
       "    .dataframe tbody tr th:only-of-type {\n",
       "        vertical-align: middle;\n",
       "    }\n",
       "\n",
       "    .dataframe tbody tr th {\n",
       "        vertical-align: top;\n",
       "    }\n",
       "\n",
       "    .dataframe thead th {\n",
       "        text-align: right;\n",
       "    }\n",
       "</style>\n",
       "<table border=\"1\" class=\"dataframe\">\n",
       "  <thead>\n",
       "    <tr style=\"text-align: right;\">\n",
       "      <th></th>\n",
       "      <th>id</th>\n",
       "      <th>neighbourhood_cleansed</th>\n",
       "      <th>comments</th>\n",
       "    </tr>\n",
       "  </thead>\n",
       "  <tbody>\n",
       "    <tr>\n",
       "      <th>3597</th>\n",
       "      <td>456242</td>\n",
       "      <td>La Magdalena Contreras</td>\n",
       "      <td>It was both a pleasure to stay at Anna's house...</td>\n",
       "    </tr>\n",
       "    <tr>\n",
       "      <th>3598</th>\n",
       "      <td>456242</td>\n",
       "      <td>La Magdalena Contreras</td>\n",
       "      <td>This was my second stay at this location... ne...</td>\n",
       "    </tr>\n",
       "    <tr>\n",
       "      <th>6404</th>\n",
       "      <td>783080</td>\n",
       "      <td>La Magdalena Contreras</td>\n",
       "      <td>Ay me encanto!!! La señora Ana excelente perso...</td>\n",
       "    </tr>\n",
       "    <tr>\n",
       "      <th>40434</th>\n",
       "      <td>6572854</td>\n",
       "      <td>La Magdalena Contreras</td>\n",
       "      <td>The host was very kind and even offered to pic...</td>\n",
       "    </tr>\n",
       "    <tr>\n",
       "      <th>40435</th>\n",
       "      <td>6572854</td>\n",
       "      <td>La Magdalena Contreras</td>\n",
       "      <td>EXCELENTE mi estancia! El Depa está impecable,...</td>\n",
       "    </tr>\n",
       "    <tr>\n",
       "      <th>...</th>\n",
       "      <td>...</td>\n",
       "      <td>...</td>\n",
       "      <td>...</td>\n",
       "    </tr>\n",
       "    <tr>\n",
       "      <th>484422</th>\n",
       "      <td>49347382</td>\n",
       "      <td>La Magdalena Contreras</td>\n",
       "      <td>Previo al día de llegada la comunicación dejab...</td>\n",
       "    </tr>\n",
       "    <tr>\n",
       "      <th>484423</th>\n",
       "      <td>49347575</td>\n",
       "      <td>La Magdalena Contreras</td>\n",
       "      <td>Muy recomendable, la atención que tiene para s...</td>\n",
       "    </tr>\n",
       "    <tr>\n",
       "      <th>486192</th>\n",
       "      <td>50194857</td>\n",
       "      <td>La Magdalena Contreras</td>\n",
       "      <td>It’d a nice place away from the city. Make sur...</td>\n",
       "    </tr>\n",
       "    <tr>\n",
       "      <th>486193</th>\n",
       "      <td>50194857</td>\n",
       "      <td>La Magdalena Contreras</td>\n",
       "      <td>Excelente opción para despejarse de la ciudad ...</td>\n",
       "    </tr>\n",
       "    <tr>\n",
       "      <th>486480</th>\n",
       "      <td>50417604</td>\n",
       "      <td>La Magdalena Contreras</td>\n",
       "      <td>Susan, muy amable y atenta en todo momento. Re...</td>\n",
       "    </tr>\n",
       "  </tbody>\n",
       "</table>\n",
       "<p>1126 rows × 3 columns</p>\n",
       "</div>"
      ],
      "text/plain": [
       "              id  neighbourhood_cleansed  \\\n",
       "3597      456242  La Magdalena Contreras   \n",
       "3598      456242  La Magdalena Contreras   \n",
       "6404      783080  La Magdalena Contreras   \n",
       "40434    6572854  La Magdalena Contreras   \n",
       "40435    6572854  La Magdalena Contreras   \n",
       "...          ...                     ...   \n",
       "484422  49347382  La Magdalena Contreras   \n",
       "484423  49347575  La Magdalena Contreras   \n",
       "486192  50194857  La Magdalena Contreras   \n",
       "486193  50194857  La Magdalena Contreras   \n",
       "486480  50417604  La Magdalena Contreras   \n",
       "\n",
       "                                                 comments  \n",
       "3597    It was both a pleasure to stay at Anna's house...  \n",
       "3598    This was my second stay at this location... ne...  \n",
       "6404    Ay me encanto!!! La señora Ana excelente perso...  \n",
       "40434   The host was very kind and even offered to pic...  \n",
       "40435   EXCELENTE mi estancia! El Depa está impecable,...  \n",
       "...                                                   ...  \n",
       "484422  Previo al día de llegada la comunicación dejab...  \n",
       "484423  Muy recomendable, la atención que tiene para s...  \n",
       "486192  It’d a nice place away from the city. Make sur...  \n",
       "486193  Excelente opción para despejarse de la ciudad ...  \n",
       "486480  Susan, muy amable y atenta en todo momento. Re...  \n",
       "\n",
       "[1126 rows x 3 columns]"
      ]
     },
     "execution_count": 180,
     "metadata": {},
     "output_type": "execute_result"
    }
   ],
   "source": [
    "#create df for neighbourhood\n",
    "df_nei=revCONneib[(revCONneib['neighbourhood_cleansed']== 'La Magdalena Contreras')]\n",
    "df_nei"
   ]
  },
  {
   "cell_type": "code",
   "execution_count": 181,
   "id": "23c39d26",
   "metadata": {},
   "outputs": [],
   "source": [
    "df_nei.to_csv(\"C:\\\\Users\\\\doogi\\\\OneDrive\\\\Documentos\\\\Boot Camp local\\\\20 Projecto final\\\\local\\\\review_MagCon.txt\",index=False)"
   ]
  },
  {
   "cell_type": "code",
   "execution_count": 387,
   "id": "89ae4189",
   "metadata": {},
   "outputs": [],
   "source": [
    "text = open('review_MagCon.txt',mode='r',encoding='utf-8').read()"
   ]
  },
  {
   "cell_type": "code",
   "execution_count": 388,
   "id": "b3b6a5f9",
   "metadata": {},
   "outputs": [],
   "source": [
    "stopwords = STOPWORDS"
   ]
  },
  {
   "cell_type": "code",
   "execution_count": 389,
   "id": "33763cc3",
   "metadata": {},
   "outputs": [],
   "source": [
    "stopwords.update([\"want\",\"time\",\"Coyoacan\",\"Milpa\",\"Alta\",\"id\",\"mucho\",\"necesario\",\"one\",\"personas\",\"puedes\",\"alojamiento\",\"queda\",\"hacer\",\"al\",\"nos\",\"son\",\"puede\",\"donde\",\"puede\",\"uno\",\"las\",\"persona\",\"mi\",\"del\",\"ella\",\"ir\",\"le\",\"bien\",\"recomendable\",\"estancia\",\"noche\",\"recomendado\",\"gran\",\"Cuajimalpa\",\"Morelos\",\"sin\",\"duda\",\"hay\",\"mucha\",\"venustiano\",\"Carranza\",\"day\",\"venustiano Carranza\",\"tiene\",\"como\",'esta',\"opción\",\"siempre\",\"se\",\"Álvaro Obregón\",\"Álvaro\", \"Obregón\",\"Alvaro Obregon\",\"Madero\",\"Gustavo\",\"Gustavo Madero\",\"su\",\"para\",\"Súper\",\"Magdalena\", \"Contreras\",\"Magdalena Contreras\",\"de\",\"una\",\"si\",\"pero\",\"con\",\"está\",\"por\",\"buena\",\"gracias\",\"Thank\",\"Benito\",\"Juárez\",\"departamento\",\"super\",\"fue\",\"ya\",\"us\",\"Miguel\",\"Hidalgo\",\"host\",\"neighborhood\", \"hosts\",\"check\", \"nice\", \"todo\", \"CDMX\" \"everything\",\"lot\",\"casa\",\"house\", \"un\",\"excelente\", \"need\",\"apartment\",\"el\",\"muy bien\",\"El departamento\",\"es\",\"br\",\"Mexico\", \"city\", \"y\",\"muy\",\"lo\",\"que\",\"stay\",\"lugar\",\"recommend\",\"location\", \"muy\",\"great\",\"place\",\"perfect\",\"en\",\"la\",\"amazing\",\"u\",\"great\",\"airbnb\",\"Cuauhtémoc\",'Coyoacán', 'Miguel Hidalgo', 'Benito Juárez','Azcapotzalco', 'Tlalpan', 'La Magdalena Contreras', 'Gustavo A. Madero', 'Álvaro Obregón', 'Venustiano Carranza', 'Cuajimalpa de Morelos', 'Iztapalapa', 'Xochimilco', 'Iztacalco','Tláhuac', 'Milpa Alta'])"
   ]
  },
  {
   "cell_type": "code",
   "execution_count": 390,
   "id": "8ce4b4ac",
   "metadata": {},
   "outputs": [],
   "source": [
    "wc = WordCloud(\n",
    "        background_color='white',\n",
    "        stopwords=stopwords,\n",
    "        height = 400,\n",
    "        width=600\n",
    ")"
   ]
  },
  {
   "cell_type": "code",
   "execution_count": 391,
   "id": "5d4da644",
   "metadata": {},
   "outputs": [
    {
     "data": {
      "text/plain": [
       "<wordcloud.wordcloud.WordCloud at 0x2656ab0c0d0>"
      ]
     },
     "execution_count": 391,
     "metadata": {},
     "output_type": "execute_result"
    }
   ],
   "source": [
    "wc.generate(text)"
   ]
  },
  {
   "cell_type": "code",
   "execution_count": 392,
   "id": "f3ceb597",
   "metadata": {},
   "outputs": [
    {
     "data": {
      "text/plain": [
       "<wordcloud.wordcloud.WordCloud at 0x2656ab0c0d0>"
      ]
     },
     "execution_count": 392,
     "metadata": {},
     "output_type": "execute_result"
    }
   ],
   "source": [
    "wc.to_file('worldcloud_MagCon.png')"
   ]
  },
  {
   "cell_type": "markdown",
   "id": "2993f75f",
   "metadata": {},
   "source": [
    "## Gustavo A. Madero"
   ]
  },
  {
   "cell_type": "code",
   "execution_count": 203,
   "id": "0df1da67",
   "metadata": {},
   "outputs": [
    {
     "data": {
      "text/html": [
       "<div>\n",
       "<style scoped>\n",
       "    .dataframe tbody tr th:only-of-type {\n",
       "        vertical-align: middle;\n",
       "    }\n",
       "\n",
       "    .dataframe tbody tr th {\n",
       "        vertical-align: top;\n",
       "    }\n",
       "\n",
       "    .dataframe thead th {\n",
       "        text-align: right;\n",
       "    }\n",
       "</style>\n",
       "<table border=\"1\" class=\"dataframe\">\n",
       "  <thead>\n",
       "    <tr style=\"text-align: right;\">\n",
       "      <th></th>\n",
       "      <th>id</th>\n",
       "      <th>neighbourhood_cleansed</th>\n",
       "      <th>comments</th>\n",
       "    </tr>\n",
       "  </thead>\n",
       "  <tbody>\n",
       "    <tr>\n",
       "      <th>4197</th>\n",
       "      <td>607833</td>\n",
       "      <td>Gustavo A. Madero</td>\n",
       "      <td>We had a great stay with Omar.  We know DF ver...</td>\n",
       "    </tr>\n",
       "    <tr>\n",
       "      <th>4198</th>\n",
       "      <td>607833</td>\n",
       "      <td>Gustavo A. Madero</td>\n",
       "      <td>Omar is nice and lively guy with his activitie...</td>\n",
       "    </tr>\n",
       "    <tr>\n",
       "      <th>4199</th>\n",
       "      <td>607833</td>\n",
       "      <td>Gustavo A. Madero</td>\n",
       "      <td>i feel very fortunte that we found omars littl...</td>\n",
       "    </tr>\n",
       "    <tr>\n",
       "      <th>4200</th>\n",
       "      <td>607833</td>\n",
       "      <td>Gustavo A. Madero</td>\n",
       "      <td>Omar was a great host. The room was very clean...</td>\n",
       "    </tr>\n",
       "    <tr>\n",
       "      <th>4201</th>\n",
       "      <td>607833</td>\n",
       "      <td>Gustavo A. Madero</td>\n",
       "      <td>GRACIAS, Omar, muy amable, confiable, todo muy...</td>\n",
       "    </tr>\n",
       "    <tr>\n",
       "      <th>...</th>\n",
       "      <td>...</td>\n",
       "      <td>...</td>\n",
       "      <td>...</td>\n",
       "    </tr>\n",
       "    <tr>\n",
       "      <th>486610</th>\n",
       "      <td>50598319</td>\n",
       "      <td>Gustavo A. Madero</td>\n",
       "      <td>Un lugar pequeño con buena ubicación.</td>\n",
       "    </tr>\n",
       "    <tr>\n",
       "      <th>486646</th>\n",
       "      <td>50679923</td>\n",
       "      <td>Gustavo A. Madero</td>\n",
       "      <td>A mi hija y a mí nos gustó mucho el lugar, aco...</td>\n",
       "    </tr>\n",
       "    <tr>\n",
       "      <th>486687</th>\n",
       "      <td>50778445</td>\n",
       "      <td>Gustavo A. Madero</td>\n",
       "      <td>Es una propiedad recién remodelada y  muy boni...</td>\n",
       "    </tr>\n",
       "    <tr>\n",
       "      <th>486688</th>\n",
       "      <td>50778445</td>\n",
       "      <td>Gustavo A. Madero</td>\n",
       "      <td>Sin carro no tiene sentido hospedarse ahi, tod...</td>\n",
       "    </tr>\n",
       "    <tr>\n",
       "      <th>486725</th>\n",
       "      <td>50916243</td>\n",
       "      <td>Gustavo A. Madero</td>\n",
       "      <td>un lugar muy limpio y con muchas cosas cerca</td>\n",
       "    </tr>\n",
       "  </tbody>\n",
       "</table>\n",
       "<p>6260 rows × 3 columns</p>\n",
       "</div>"
      ],
      "text/plain": [
       "              id neighbourhood_cleansed  \\\n",
       "4197      607833      Gustavo A. Madero   \n",
       "4198      607833      Gustavo A. Madero   \n",
       "4199      607833      Gustavo A. Madero   \n",
       "4200      607833      Gustavo A. Madero   \n",
       "4201      607833      Gustavo A. Madero   \n",
       "...          ...                    ...   \n",
       "486610  50598319      Gustavo A. Madero   \n",
       "486646  50679923      Gustavo A. Madero   \n",
       "486687  50778445      Gustavo A. Madero   \n",
       "486688  50778445      Gustavo A. Madero   \n",
       "486725  50916243      Gustavo A. Madero   \n",
       "\n",
       "                                                 comments  \n",
       "4197    We had a great stay with Omar.  We know DF ver...  \n",
       "4198    Omar is nice and lively guy with his activitie...  \n",
       "4199    i feel very fortunte that we found omars littl...  \n",
       "4200    Omar was a great host. The room was very clean...  \n",
       "4201    GRACIAS, Omar, muy amable, confiable, todo muy...  \n",
       "...                                                   ...  \n",
       "486610              Un lugar pequeño con buena ubicación.  \n",
       "486646  A mi hija y a mí nos gustó mucho el lugar, aco...  \n",
       "486687  Es una propiedad recién remodelada y  muy boni...  \n",
       "486688  Sin carro no tiene sentido hospedarse ahi, tod...  \n",
       "486725       un lugar muy limpio y con muchas cosas cerca  \n",
       "\n",
       "[6260 rows x 3 columns]"
      ]
     },
     "execution_count": 203,
     "metadata": {},
     "output_type": "execute_result"
    }
   ],
   "source": [
    "#create df for neighbourhood\n",
    "df_nei=revCONneib[(revCONneib['neighbourhood_cleansed']== 'Gustavo A. Madero')]\n",
    "df_nei"
   ]
  },
  {
   "cell_type": "code",
   "execution_count": 204,
   "id": "d96b3f1b",
   "metadata": {},
   "outputs": [],
   "source": [
    "df_nei.to_csv(\"C:\\\\Users\\\\doogi\\\\OneDrive\\\\Documentos\\\\Boot Camp local\\\\20 Projecto final\\\\local\\\\review_Gam.txt\",index=False)"
   ]
  },
  {
   "cell_type": "code",
   "execution_count": 394,
   "id": "bd386e68",
   "metadata": {},
   "outputs": [],
   "source": [
    "text = open('review_Gam.txt',mode='r',encoding='utf-8').read()"
   ]
  },
  {
   "cell_type": "code",
   "execution_count": 395,
   "id": "bf2c4162",
   "metadata": {},
   "outputs": [],
   "source": [
    "stopwords = STOPWORDS"
   ]
  },
  {
   "cell_type": "code",
   "execution_count": 396,
   "id": "135ad1e0",
   "metadata": {},
   "outputs": [],
   "source": [
    "stopwords.update([\"want\",\"time\",\"Coyoacan\",\"Milpa\",\"Alta\",\"id\",\"mucho\",\"necesario\",\"one\",\"personas\",\"puedes\",\"alojamiento\",\"queda\",\"hacer\",\"al\",\"nos\",\"son\",\"puede\",\"donde\",\"puede\",\"uno\",\"las\",\"persona\",\"mi\",\"del\",\"ella\",\"ir\",\"le\",\"bien\",\"recomendable\",\"estancia\",\"noche\",\"recomendado\",\"gran\",\"Cuajimalpa\",\"Morelos\",\"sin\",\"duda\",\"hay\",\"mucha\",\"venustiano\",\"Carranza\",\"day\",\"venustiano Carranza\",\"tiene\",\"como\",'esta',\"opción\",\"siempre\",\"se\",\"Álvaro Obregón\",\"Álvaro\", \"Obregón\",\"Alvaro Obregon\",\"Madero\",\"Gustavo\",\"Gustavo Madero\",\"su\",\"para\",\"Súper\",\"Magdalena\", \"Contreras\",\"Magdalena Contreras\",\"de\",\"una\",\"si\",\"pero\",\"con\",\"está\",\"por\",\"buena\",\"gracias\",\"Thank\",\"Benito\",\"Juárez\",\"departamento\",\"super\",\"fue\",\"ya\",\"us\",\"Miguel\",\"Hidalgo\",\"host\",\"neighborhood\", \"hosts\",\"check\", \"nice\", \"todo\", \"CDMX\" \"everything\",\"lot\",\"casa\",\"house\", \"un\",\"excelente\", \"need\",\"apartment\",\"el\",\"muy bien\",\"El departamento\",\"es\",\"br\",\"Mexico\", \"city\", \"y\",\"muy\",\"lo\",\"que\",\"stay\",\"lugar\",\"recommend\",\"location\", \"muy\",\"great\",\"place\",\"perfect\",\"en\",\"la\",\"amazing\",\"u\",\"great\",\"airbnb\",\"Cuauhtémoc\",'Coyoacán', 'Miguel Hidalgo', 'Benito Juárez','Azcapotzalco', 'Tlalpan', 'La Magdalena Contreras', 'Gustavo A. Madero', 'Álvaro Obregón', 'Venustiano Carranza', 'Cuajimalpa de Morelos', 'Iztapalapa', 'Xochimilco', 'Iztacalco','Tláhuac', 'Milpa Alta'])"
   ]
  },
  {
   "cell_type": "code",
   "execution_count": 397,
   "id": "8da42708",
   "metadata": {},
   "outputs": [],
   "source": [
    "wc = WordCloud(\n",
    "        background_color='white',\n",
    "        stopwords=stopwords,\n",
    "        height = 400,\n",
    "        width=600\n",
    ")"
   ]
  },
  {
   "cell_type": "code",
   "execution_count": 398,
   "id": "ffbf90a8",
   "metadata": {},
   "outputs": [
    {
     "data": {
      "text/plain": [
       "<wordcloud.wordcloud.WordCloud at 0x2656ab0cfa0>"
      ]
     },
     "execution_count": 398,
     "metadata": {},
     "output_type": "execute_result"
    }
   ],
   "source": [
    "wc.generate(text)"
   ]
  },
  {
   "cell_type": "code",
   "execution_count": 399,
   "id": "cd5cc011",
   "metadata": {},
   "outputs": [
    {
     "data": {
      "text/plain": [
       "<wordcloud.wordcloud.WordCloud at 0x2656ab0cfa0>"
      ]
     },
     "execution_count": 399,
     "metadata": {},
     "output_type": "execute_result"
    }
   ],
   "source": [
    "wc.to_file('worldcloud_GAM.png')"
   ]
  },
  {
   "cell_type": "markdown",
   "id": "284403af",
   "metadata": {},
   "source": [
    "## Álvaro Obregón"
   ]
  },
  {
   "cell_type": "code",
   "execution_count": 215,
   "id": "9215d4bd",
   "metadata": {},
   "outputs": [
    {
     "data": {
      "text/html": [
       "<div>\n",
       "<style scoped>\n",
       "    .dataframe tbody tr th:only-of-type {\n",
       "        vertical-align: middle;\n",
       "    }\n",
       "\n",
       "    .dataframe tbody tr th {\n",
       "        vertical-align: top;\n",
       "    }\n",
       "\n",
       "    .dataframe thead th {\n",
       "        text-align: right;\n",
       "    }\n",
       "</style>\n",
       "<table border=\"1\" class=\"dataframe\">\n",
       "  <thead>\n",
       "    <tr style=\"text-align: right;\">\n",
       "      <th></th>\n",
       "      <th>id</th>\n",
       "      <th>neighbourhood_cleansed</th>\n",
       "      <th>comments</th>\n",
       "    </tr>\n",
       "  </thead>\n",
       "  <tbody>\n",
       "    <tr>\n",
       "      <th>4729</th>\n",
       "      <td>635324</td>\n",
       "      <td>Álvaro Obregón</td>\n",
       "      <td>Great Place. Clean and Comfortable. Excellent ...</td>\n",
       "    </tr>\n",
       "    <tr>\n",
       "      <th>4730</th>\n",
       "      <td>635324</td>\n",
       "      <td>Álvaro Obregón</td>\n",
       "      <td>Regina is a great host and offer a wonderful a...</td>\n",
       "    </tr>\n",
       "    <tr>\n",
       "      <th>4731</th>\n",
       "      <td>635324</td>\n",
       "      <td>Álvaro Obregón</td>\n",
       "      <td>Regina is a caring and helpful host. She arran...</td>\n",
       "    </tr>\n",
       "    <tr>\n",
       "      <th>4732</th>\n",
       "      <td>635324</td>\n",
       "      <td>Álvaro Obregón</td>\n",
       "      <td>Perfet spot in Mexico city! \\r&lt;br/&gt;The studio ...</td>\n",
       "    </tr>\n",
       "    <tr>\n",
       "      <th>4733</th>\n",
       "      <td>635324</td>\n",
       "      <td>Álvaro Obregón</td>\n",
       "      <td>Regina was a wonderful host and her apartment ...</td>\n",
       "    </tr>\n",
       "    <tr>\n",
       "      <th>...</th>\n",
       "      <td>...</td>\n",
       "      <td>...</td>\n",
       "      <td>...</td>\n",
       "    </tr>\n",
       "    <tr>\n",
       "      <th>486481</th>\n",
       "      <td>50417881</td>\n",
       "      <td>Álvaro Obregón</td>\n",
       "      <td>La departamento tiene mucho estilo y está muy ...</td>\n",
       "    </tr>\n",
       "    <tr>\n",
       "      <th>486482</th>\n",
       "      <td>50417881</td>\n",
       "      <td>Álvaro Obregón</td>\n",
       "      <td>¡Muy hermoso lugar, todo está perfecto y la at...</td>\n",
       "    </tr>\n",
       "    <tr>\n",
       "      <th>486542</th>\n",
       "      <td>50489484</td>\n",
       "      <td>Álvaro Obregón</td>\n",
       "      <td>Muy céntrico, todo a la mano</td>\n",
       "    </tr>\n",
       "    <tr>\n",
       "      <th>486647</th>\n",
       "      <td>50681132</td>\n",
       "      <td>Álvaro Obregón</td>\n",
       "      <td>great location, excellent views. this place is...</td>\n",
       "    </tr>\n",
       "    <tr>\n",
       "      <th>486661</th>\n",
       "      <td>50719574</td>\n",
       "      <td>Álvaro Obregón</td>\n",
       "      <td>Si buscas descanso y alejarte un poco del ajet...</td>\n",
       "    </tr>\n",
       "  </tbody>\n",
       "</table>\n",
       "<p>12521 rows × 3 columns</p>\n",
       "</div>"
      ],
      "text/plain": [
       "              id neighbourhood_cleansed  \\\n",
       "4729      635324         Álvaro Obregón   \n",
       "4730      635324         Álvaro Obregón   \n",
       "4731      635324         Álvaro Obregón   \n",
       "4732      635324         Álvaro Obregón   \n",
       "4733      635324         Álvaro Obregón   \n",
       "...          ...                    ...   \n",
       "486481  50417881         Álvaro Obregón   \n",
       "486482  50417881         Álvaro Obregón   \n",
       "486542  50489484         Álvaro Obregón   \n",
       "486647  50681132         Álvaro Obregón   \n",
       "486661  50719574         Álvaro Obregón   \n",
       "\n",
       "                                                 comments  \n",
       "4729    Great Place. Clean and Comfortable. Excellent ...  \n",
       "4730    Regina is a great host and offer a wonderful a...  \n",
       "4731    Regina is a caring and helpful host. She arran...  \n",
       "4732    Perfet spot in Mexico city! \\r<br/>The studio ...  \n",
       "4733    Regina was a wonderful host and her apartment ...  \n",
       "...                                                   ...  \n",
       "486481  La departamento tiene mucho estilo y está muy ...  \n",
       "486482  ¡Muy hermoso lugar, todo está perfecto y la at...  \n",
       "486542                       Muy céntrico, todo a la mano  \n",
       "486647  great location, excellent views. this place is...  \n",
       "486661  Si buscas descanso y alejarte un poco del ajet...  \n",
       "\n",
       "[12521 rows x 3 columns]"
      ]
     },
     "execution_count": 215,
     "metadata": {},
     "output_type": "execute_result"
    }
   ],
   "source": [
    "#create df for neighbourhood\n",
    "df_nei=revCONneib[(revCONneib['neighbourhood_cleansed']== 'Álvaro Obregón')]\n",
    "df_nei"
   ]
  },
  {
   "cell_type": "code",
   "execution_count": 227,
   "id": "7602117b",
   "metadata": {},
   "outputs": [],
   "source": [
    "df_nei.to_csv(\"C:\\\\Users\\\\doogi\\\\OneDrive\\\\Documentos\\\\Boot Camp local\\\\20 Projecto final\\\\local\\\\review_AObregon.txt\",index=False)"
   ]
  },
  {
   "cell_type": "code",
   "execution_count": 400,
   "id": "9ac07fa1",
   "metadata": {},
   "outputs": [],
   "source": [
    "text = open('review_AObregon.txt',mode='r',encoding='utf-8').read()"
   ]
  },
  {
   "cell_type": "code",
   "execution_count": 401,
   "id": "bf407b06",
   "metadata": {},
   "outputs": [],
   "source": [
    "stopwords = STOPWORDS"
   ]
  },
  {
   "cell_type": "code",
   "execution_count": 402,
   "id": "1798fcd9",
   "metadata": {},
   "outputs": [],
   "source": [
    "stopwords.update([\"want\",\"time\",\"Coyoacan\",\"Milpa\",\"Alta\",\"id\",\"mucho\",\"necesario\",\"one\",\"personas\",\"puedes\",\"alojamiento\",\"queda\",\"hacer\",\"al\",\"nos\",\"son\",\"puede\",\"donde\",\"puede\",\"uno\",\"las\",\"persona\",\"mi\",\"del\",\"ella\",\"ir\",\"le\",\"bien\",\"recomendable\",\"estancia\",\"noche\",\"recomendado\",\"gran\",\"Cuajimalpa\",\"Morelos\",\"sin\",\"duda\",\"hay\",\"mucha\",\"venustiano\",\"Carranza\",\"day\",\"venustiano Carranza\",\"tiene\",\"como\",'esta',\"opción\",\"siempre\",\"se\",\"Álvaro Obregón\",\"Álvaro\", \"Obregón\",\"Alvaro Obregon\",\"Madero\",\"Gustavo\",\"Gustavo Madero\",\"su\",\"para\",\"Súper\",\"Magdalena\", \"Contreras\",\"Magdalena Contreras\",\"de\",\"una\",\"si\",\"pero\",\"con\",\"está\",\"por\",\"buena\",\"gracias\",\"Thank\",\"Benito\",\"Juárez\",\"departamento\",\"super\",\"fue\",\"ya\",\"us\",\"Miguel\",\"Hidalgo\",\"host\",\"neighborhood\", \"hosts\",\"check\", \"nice\", \"todo\", \"CDMX\" \"everything\",\"lot\",\"casa\",\"house\", \"un\",\"excelente\", \"need\",\"apartment\",\"el\",\"muy bien\",\"El departamento\",\"es\",\"br\",\"Mexico\", \"city\", \"y\",\"muy\",\"lo\",\"que\",\"stay\",\"lugar\",\"recommend\",\"location\", \"muy\",\"great\",\"place\",\"perfect\",\"en\",\"la\",\"amazing\",\"u\",\"great\",\"airbnb\",\"Cuauhtémoc\",'Coyoacán', 'Miguel Hidalgo', 'Benito Juárez','Azcapotzalco', 'Tlalpan', 'La Magdalena Contreras', 'Gustavo A. Madero', 'Álvaro Obregón', 'Venustiano Carranza', 'Cuajimalpa de Morelos', 'Iztapalapa', 'Xochimilco', 'Iztacalco','Tláhuac', 'Milpa Alta'])"
   ]
  },
  {
   "cell_type": "code",
   "execution_count": 403,
   "id": "db31c803",
   "metadata": {},
   "outputs": [],
   "source": [
    "wc = WordCloud(\n",
    "        background_color='white',\n",
    "        stopwords=stopwords,\n",
    "        height = 400,\n",
    "        width=600\n",
    ")"
   ]
  },
  {
   "cell_type": "code",
   "execution_count": 404,
   "id": "1aad668e",
   "metadata": {},
   "outputs": [
    {
     "data": {
      "text/plain": [
       "<wordcloud.wordcloud.WordCloud at 0x2656ab0cee0>"
      ]
     },
     "execution_count": 404,
     "metadata": {},
     "output_type": "execute_result"
    }
   ],
   "source": [
    "wc.generate(text)"
   ]
  },
  {
   "cell_type": "code",
   "execution_count": 405,
   "id": "5ab492a0",
   "metadata": {},
   "outputs": [
    {
     "data": {
      "text/plain": [
       "<wordcloud.wordcloud.WordCloud at 0x2656ab0cee0>"
      ]
     },
     "execution_count": 405,
     "metadata": {},
     "output_type": "execute_result"
    }
   ],
   "source": [
    "wc.to_file('worldcloud_Aobregon.png')"
   ]
  },
  {
   "cell_type": "markdown",
   "id": "634741b0",
   "metadata": {},
   "source": [
    "## Venustiano Carranza"
   ]
  },
  {
   "cell_type": "code",
   "execution_count": 234,
   "id": "a9a225c4",
   "metadata": {},
   "outputs": [
    {
     "data": {
      "text/html": [
       "<div>\n",
       "<style scoped>\n",
       "    .dataframe tbody tr th:only-of-type {\n",
       "        vertical-align: middle;\n",
       "    }\n",
       "\n",
       "    .dataframe tbody tr th {\n",
       "        vertical-align: top;\n",
       "    }\n",
       "\n",
       "    .dataframe thead th {\n",
       "        text-align: right;\n",
       "    }\n",
       "</style>\n",
       "<table border=\"1\" class=\"dataframe\">\n",
       "  <thead>\n",
       "    <tr style=\"text-align: right;\">\n",
       "      <th></th>\n",
       "      <th>id</th>\n",
       "      <th>neighbourhood_cleansed</th>\n",
       "      <th>comments</th>\n",
       "    </tr>\n",
       "  </thead>\n",
       "  <tbody>\n",
       "    <tr>\n",
       "      <th>4997</th>\n",
       "      <td>655422</td>\n",
       "      <td>Venustiano Carranza</td>\n",
       "      <td>The place was nice and everything was more or ...</td>\n",
       "    </tr>\n",
       "    <tr>\n",
       "      <th>4998</th>\n",
       "      <td>655422</td>\n",
       "      <td>Venustiano Carranza</td>\n",
       "      <td>Very nice house, as \"linda\" as described or se...</td>\n",
       "    </tr>\n",
       "    <tr>\n",
       "      <th>4999</th>\n",
       "      <td>655422</td>\n",
       "      <td>Venustiano Carranza</td>\n",
       "      <td>We only spent a night in Carlos' place before ...</td>\n",
       "    </tr>\n",
       "    <tr>\n",
       "      <th>5000</th>\n",
       "      <td>655422</td>\n",
       "      <td>Venustiano Carranza</td>\n",
       "      <td>Carlos was at the house to meet me when I arri...</td>\n",
       "    </tr>\n",
       "    <tr>\n",
       "      <th>5001</th>\n",
       "      <td>655422</td>\n",
       "      <td>Venustiano Carranza</td>\n",
       "      <td>La casa es perfecta! Tal cual en las fotos y m...</td>\n",
       "    </tr>\n",
       "    <tr>\n",
       "      <th>...</th>\n",
       "      <td>...</td>\n",
       "      <td>...</td>\n",
       "      <td>...</td>\n",
       "    </tr>\n",
       "    <tr>\n",
       "      <th>486458</th>\n",
       "      <td>50398129</td>\n",
       "      <td>Venustiano Carranza</td>\n",
       "      <td>see my previous review</td>\n",
       "    </tr>\n",
       "    <tr>\n",
       "      <th>486459</th>\n",
       "      <td>50398129</td>\n",
       "      <td>Venustiano Carranza</td>\n",
       "      <td>Excelente lugar, instalaciones muy cómodas y e...</td>\n",
       "    </tr>\n",
       "    <tr>\n",
       "      <th>486669</th>\n",
       "      <td>50747638</td>\n",
       "      <td>Venustiano Carranza</td>\n",
       "      <td>El departamento es pequeño, pero muy limpio y ...</td>\n",
       "    </tr>\n",
       "    <tr>\n",
       "      <th>486728</th>\n",
       "      <td>50954815</td>\n",
       "      <td>Venustiano Carranza</td>\n",
       "      <td>Un lugar con muy buena ubicació, limpio y acog...</td>\n",
       "    </tr>\n",
       "    <tr>\n",
       "      <th>486731</th>\n",
       "      <td>50971339</td>\n",
       "      <td>Venustiano Carranza</td>\n",
       "      <td>excelente anfitrião e informações do anúncio p...</td>\n",
       "    </tr>\n",
       "  </tbody>\n",
       "</table>\n",
       "<p>19990 rows × 3 columns</p>\n",
       "</div>"
      ],
      "text/plain": [
       "              id neighbourhood_cleansed  \\\n",
       "4997      655422    Venustiano Carranza   \n",
       "4998      655422    Venustiano Carranza   \n",
       "4999      655422    Venustiano Carranza   \n",
       "5000      655422    Venustiano Carranza   \n",
       "5001      655422    Venustiano Carranza   \n",
       "...          ...                    ...   \n",
       "486458  50398129    Venustiano Carranza   \n",
       "486459  50398129    Venustiano Carranza   \n",
       "486669  50747638    Venustiano Carranza   \n",
       "486728  50954815    Venustiano Carranza   \n",
       "486731  50971339    Venustiano Carranza   \n",
       "\n",
       "                                                 comments  \n",
       "4997    The place was nice and everything was more or ...  \n",
       "4998    Very nice house, as \"linda\" as described or se...  \n",
       "4999    We only spent a night in Carlos' place before ...  \n",
       "5000    Carlos was at the house to meet me when I arri...  \n",
       "5001    La casa es perfecta! Tal cual en las fotos y m...  \n",
       "...                                                   ...  \n",
       "486458                             see my previous review  \n",
       "486459  Excelente lugar, instalaciones muy cómodas y e...  \n",
       "486669  El departamento es pequeño, pero muy limpio y ...  \n",
       "486728  Un lugar con muy buena ubicació, limpio y acog...  \n",
       "486731  excelente anfitrião e informações do anúncio p...  \n",
       "\n",
       "[19990 rows x 3 columns]"
      ]
     },
     "execution_count": 234,
     "metadata": {},
     "output_type": "execute_result"
    }
   ],
   "source": [
    "#create df for neighbourhood\n",
    "df_nei=revCONneib[(revCONneib['neighbourhood_cleansed']== 'Venustiano Carranza')]\n",
    "df_nei"
   ]
  },
  {
   "cell_type": "code",
   "execution_count": 235,
   "id": "ad6d6962",
   "metadata": {},
   "outputs": [],
   "source": [
    "df_nei.to_csv(\"C:\\\\Users\\\\doogi\\\\OneDrive\\\\Documentos\\\\Boot Camp local\\\\20 Projecto final\\\\local\\\\review_VenCA.txt\",index=False)"
   ]
  },
  {
   "cell_type": "code",
   "execution_count": 407,
   "id": "d3c73efa",
   "metadata": {},
   "outputs": [],
   "source": [
    "text = open('review_VenCA.txt',mode='r',encoding='utf-8').read()"
   ]
  },
  {
   "cell_type": "code",
   "execution_count": 408,
   "id": "e2c87e80",
   "metadata": {},
   "outputs": [],
   "source": [
    "stopwords = STOPWORDS"
   ]
  },
  {
   "cell_type": "code",
   "execution_count": 409,
   "id": "b398ebcb",
   "metadata": {},
   "outputs": [],
   "source": [
    "stopwords.update([\"want\",\"time\",\"Coyoacan\",\"Milpa\",\"Alta\",\"id\",\"mucho\",\"necesario\",\"one\",\"personas\",\"puedes\",\"alojamiento\",\"queda\",\"hacer\",\"al\",\"nos\",\"son\",\"puede\",\"donde\",\"puede\",\"uno\",\"las\",\"persona\",\"mi\",\"del\",\"ella\",\"ir\",\"le\",\"bien\",\"recomendable\",\"estancia\",\"noche\",\"recomendado\",\"gran\",\"Cuajimalpa\",\"Morelos\",\"sin\",\"duda\",\"hay\",\"mucha\",\"venustiano\",\"Carranza\",\"day\",\"venustiano Carranza\",\"tiene\",\"como\",'esta',\"opción\",\"siempre\",\"se\",\"Álvaro Obregón\",\"Álvaro\", \"Obregón\",\"Alvaro Obregon\",\"Madero\",\"Gustavo\",\"Gustavo Madero\",\"su\",\"para\",\"Súper\",\"Magdalena\", \"Contreras\",\"Magdalena Contreras\",\"de\",\"una\",\"si\",\"pero\",\"con\",\"está\",\"por\",\"buena\",\"gracias\",\"Thank\",\"Benito\",\"Juárez\",\"departamento\",\"super\",\"fue\",\"ya\",\"us\",\"Miguel\",\"Hidalgo\",\"host\",\"neighborhood\", \"hosts\",\"check\", \"nice\", \"todo\", \"CDMX\" \"everything\",\"lot\",\"casa\",\"house\", \"un\",\"excelente\", \"need\",\"apartment\",\"el\",\"muy bien\",\"El departamento\",\"es\",\"br\",\"Mexico\", \"city\", \"y\",\"muy\",\"lo\",\"que\",\"stay\",\"lugar\",\"recommend\",\"location\", \"muy\",\"great\",\"place\",\"perfect\",\"en\",\"la\",\"amazing\",\"u\",\"great\",\"airbnb\",\"Cuauhtémoc\",'Coyoacán', 'Miguel Hidalgo', 'Benito Juárez','Azcapotzalco', 'Tlalpan', 'La Magdalena Contreras', 'Gustavo A. Madero', 'Álvaro Obregón', 'Venustiano Carranza', 'Cuajimalpa de Morelos', 'Iztapalapa', 'Xochimilco', 'Iztacalco','Tláhuac', 'Milpa Alta'])"
   ]
  },
  {
   "cell_type": "code",
   "execution_count": 410,
   "id": "1163d992",
   "metadata": {},
   "outputs": [],
   "source": [
    "wc = WordCloud(\n",
    "        background_color='white',\n",
    "        stopwords=stopwords,\n",
    "        height = 400,\n",
    "        width=600\n",
    ")"
   ]
  },
  {
   "cell_type": "code",
   "execution_count": 411,
   "id": "5859d9fa",
   "metadata": {},
   "outputs": [
    {
     "data": {
      "text/plain": [
       "<wordcloud.wordcloud.WordCloud at 0x2656559a160>"
      ]
     },
     "execution_count": 411,
     "metadata": {},
     "output_type": "execute_result"
    }
   ],
   "source": [
    "wc.generate(text)"
   ]
  },
  {
   "cell_type": "code",
   "execution_count": 412,
   "id": "20d22b59",
   "metadata": {},
   "outputs": [
    {
     "data": {
      "text/plain": [
       "<wordcloud.wordcloud.WordCloud at 0x2656559a160>"
      ]
     },
     "execution_count": 412,
     "metadata": {},
     "output_type": "execute_result"
    }
   ],
   "source": [
    "wc.to_file('worldcloud_VenCA.png')"
   ]
  },
  {
   "cell_type": "markdown",
   "id": "c9d151cf",
   "metadata": {},
   "source": [
    "## Cuajimalpa de Morelos"
   ]
  },
  {
   "cell_type": "code",
   "execution_count": 247,
   "id": "7830355c",
   "metadata": {},
   "outputs": [
    {
     "data": {
      "text/html": [
       "<div>\n",
       "<style scoped>\n",
       "    .dataframe tbody tr th:only-of-type {\n",
       "        vertical-align: middle;\n",
       "    }\n",
       "\n",
       "    .dataframe tbody tr th {\n",
       "        vertical-align: top;\n",
       "    }\n",
       "\n",
       "    .dataframe thead th {\n",
       "        text-align: right;\n",
       "    }\n",
       "</style>\n",
       "<table border=\"1\" class=\"dataframe\">\n",
       "  <thead>\n",
       "    <tr style=\"text-align: right;\">\n",
       "      <th></th>\n",
       "      <th>id</th>\n",
       "      <th>neighbourhood_cleansed</th>\n",
       "      <th>comments</th>\n",
       "    </tr>\n",
       "  </thead>\n",
       "  <tbody>\n",
       "    <tr>\n",
       "      <th>6405</th>\n",
       "      <td>783480</td>\n",
       "      <td>Cuajimalpa de Morelos</td>\n",
       "      <td>Since minute 1 i felt like i was at home, the ...</td>\n",
       "    </tr>\n",
       "    <tr>\n",
       "      <th>6406</th>\n",
       "      <td>783480</td>\n",
       "      <td>Cuajimalpa de Morelos</td>\n",
       "      <td>This is a great place to stay with enchanting ...</td>\n",
       "    </tr>\n",
       "    <tr>\n",
       "      <th>6407</th>\n",
       "      <td>783480</td>\n",
       "      <td>Cuajimalpa de Morelos</td>\n",
       "      <td>Muchas gracias a Janeth y a Efrén por su hospi...</td>\n",
       "    </tr>\n",
       "    <tr>\n",
       "      <th>6408</th>\n",
       "      <td>783480</td>\n",
       "      <td>Cuajimalpa de Morelos</td>\n",
       "      <td>Estuvimos muy a gusto, todo muy acogedor, nos ...</td>\n",
       "    </tr>\n",
       "    <tr>\n",
       "      <th>6409</th>\n",
       "      <td>783480</td>\n",
       "      <td>Cuajimalpa de Morelos</td>\n",
       "      <td>Janet and her husband are perfect hosts. I rea...</td>\n",
       "    </tr>\n",
       "    <tr>\n",
       "      <th>...</th>\n",
       "      <td>...</td>\n",
       "      <td>...</td>\n",
       "      <td>...</td>\n",
       "    </tr>\n",
       "    <tr>\n",
       "      <th>486534</th>\n",
       "      <td>50485820</td>\n",
       "      <td>Cuajimalpa de Morelos</td>\n",
       "      <td>No duden excelente lugar</td>\n",
       "    </tr>\n",
       "    <tr>\n",
       "      <th>486535</th>\n",
       "      <td>50485820</td>\n",
       "      <td>Cuajimalpa de Morelos</td>\n",
       "      <td>Buenk</td>\n",
       "    </tr>\n",
       "    <tr>\n",
       "      <th>486564</th>\n",
       "      <td>50541178</td>\n",
       "      <td>Cuajimalpa de Morelos</td>\n",
       "      <td>Esta padrisimo el departamento &lt;br/&gt;Limpio, el...</td>\n",
       "    </tr>\n",
       "    <tr>\n",
       "      <th>486565</th>\n",
       "      <td>50541178</td>\n",
       "      <td>Cuajimalpa de Morelos</td>\n",
       "      <td>El lugar está padrísimo , buena ubicación , Ra...</td>\n",
       "    </tr>\n",
       "    <tr>\n",
       "      <th>486566</th>\n",
       "      <td>50541178</td>\n",
       "      <td>Cuajimalpa de Morelos</td>\n",
       "      <td>Really loved this apartment! It’s so spacious ...</td>\n",
       "    </tr>\n",
       "  </tbody>\n",
       "</table>\n",
       "<p>5441 rows × 3 columns</p>\n",
       "</div>"
      ],
      "text/plain": [
       "              id neighbourhood_cleansed  \\\n",
       "6405      783480  Cuajimalpa de Morelos   \n",
       "6406      783480  Cuajimalpa de Morelos   \n",
       "6407      783480  Cuajimalpa de Morelos   \n",
       "6408      783480  Cuajimalpa de Morelos   \n",
       "6409      783480  Cuajimalpa de Morelos   \n",
       "...          ...                    ...   \n",
       "486534  50485820  Cuajimalpa de Morelos   \n",
       "486535  50485820  Cuajimalpa de Morelos   \n",
       "486564  50541178  Cuajimalpa de Morelos   \n",
       "486565  50541178  Cuajimalpa de Morelos   \n",
       "486566  50541178  Cuajimalpa de Morelos   \n",
       "\n",
       "                                                 comments  \n",
       "6405    Since minute 1 i felt like i was at home, the ...  \n",
       "6406    This is a great place to stay with enchanting ...  \n",
       "6407    Muchas gracias a Janeth y a Efrén por su hospi...  \n",
       "6408    Estuvimos muy a gusto, todo muy acogedor, nos ...  \n",
       "6409    Janet and her husband are perfect hosts. I rea...  \n",
       "...                                                   ...  \n",
       "486534                           No duden excelente lugar  \n",
       "486535                                              Buenk  \n",
       "486564  Esta padrisimo el departamento <br/>Limpio, el...  \n",
       "486565  El lugar está padrísimo , buena ubicación , Ra...  \n",
       "486566  Really loved this apartment! It’s so spacious ...  \n",
       "\n",
       "[5441 rows x 3 columns]"
      ]
     },
     "execution_count": 247,
     "metadata": {},
     "output_type": "execute_result"
    }
   ],
   "source": [
    "#create df for neighbourhood\n",
    "df_nei=revCONneib[(revCONneib['neighbourhood_cleansed']== 'Cuajimalpa de Morelos')]\n",
    "df_nei"
   ]
  },
  {
   "cell_type": "code",
   "execution_count": 248,
   "id": "9c153d9b",
   "metadata": {},
   "outputs": [],
   "source": [
    "df_nei.to_csv(\"C:\\\\Users\\\\doogi\\\\OneDrive\\\\Documentos\\\\Boot Camp local\\\\20 Projecto final\\\\local\\\\review_Cuaji.txt\",index=False)"
   ]
  },
  {
   "cell_type": "code",
   "execution_count": 413,
   "id": "4222ea54",
   "metadata": {},
   "outputs": [],
   "source": [
    "text = open('review_Cuaji.txt',mode='r',encoding='utf-8').read()"
   ]
  },
  {
   "cell_type": "code",
   "execution_count": 414,
   "id": "587cdf7c",
   "metadata": {},
   "outputs": [],
   "source": [
    "stopwords = STOPWORDS"
   ]
  },
  {
   "cell_type": "code",
   "execution_count": 415,
   "id": "ba6ff2eb",
   "metadata": {},
   "outputs": [],
   "source": [
    "stopwords.update([\"want\",\"time\",\"Coyoacan\",\"Milpa\",\"Alta\",\"id\",\"mucho\",\"necesario\",\"one\",\"personas\",\"puedes\",\"alojamiento\",\"queda\",\"hacer\",\"al\",\"nos\",\"son\",\"puede\",\"donde\",\"puede\",\"uno\",\"las\",\"persona\",\"mi\",\"del\",\"ella\",\"ir\",\"le\",\"bien\",\"recomendable\",\"estancia\",\"noche\",\"recomendado\",\"gran\",\"Cuajimalpa\",\"Morelos\",\"sin\",\"duda\",\"hay\",\"mucha\",\"venustiano\",\"Carranza\",\"day\",\"venustiano Carranza\",\"tiene\",\"como\",'esta',\"opción\",\"siempre\",\"se\",\"Álvaro Obregón\",\"Álvaro\", \"Obregón\",\"Alvaro Obregon\",\"Madero\",\"Gustavo\",\"Gustavo Madero\",\"su\",\"para\",\"Súper\",\"Magdalena\", \"Contreras\",\"Magdalena Contreras\",\"de\",\"una\",\"si\",\"pero\",\"con\",\"está\",\"por\",\"buena\",\"gracias\",\"Thank\",\"Benito\",\"Juárez\",\"departamento\",\"super\",\"fue\",\"ya\",\"us\",\"Miguel\",\"Hidalgo\",\"host\",\"neighborhood\", \"hosts\",\"check\", \"nice\", \"todo\", \"CDMX\" \"everything\",\"lot\",\"casa\",\"house\", \"un\",\"excelente\", \"need\",\"apartment\",\"el\",\"muy bien\",\"El departamento\",\"es\",\"br\",\"Mexico\", \"city\", \"y\",\"muy\",\"lo\",\"que\",\"stay\",\"lugar\",\"recommend\",\"location\", \"muy\",\"great\",\"place\",\"perfect\",\"en\",\"la\",\"amazing\",\"u\",\"great\",\"airbnb\",\"Cuauhtémoc\",'Coyoacán', 'Miguel Hidalgo', 'Benito Juárez','Azcapotzalco', 'Tlalpan', 'La Magdalena Contreras', 'Gustavo A. Madero', 'Álvaro Obregón', 'Venustiano Carranza', 'Cuajimalpa de Morelos', 'Iztapalapa', 'Xochimilco', 'Iztacalco','Tláhuac', 'Milpa Alta'])"
   ]
  },
  {
   "cell_type": "code",
   "execution_count": 416,
   "id": "d6e21fb9",
   "metadata": {},
   "outputs": [],
   "source": [
    "wc = WordCloud(\n",
    "        background_color='white',\n",
    "        stopwords=stopwords,\n",
    "        height = 400,\n",
    "        width=600\n",
    ")"
   ]
  },
  {
   "cell_type": "code",
   "execution_count": 417,
   "id": "bb88c2c6",
   "metadata": {},
   "outputs": [
    {
     "data": {
      "text/plain": [
       "<wordcloud.wordcloud.WordCloud at 0x2656559a580>"
      ]
     },
     "execution_count": 417,
     "metadata": {},
     "output_type": "execute_result"
    }
   ],
   "source": [
    "wc.generate(text)"
   ]
  },
  {
   "cell_type": "code",
   "execution_count": 418,
   "id": "f29d3f72",
   "metadata": {},
   "outputs": [
    {
     "data": {
      "text/plain": [
       "<wordcloud.wordcloud.WordCloud at 0x2656559a580>"
      ]
     },
     "execution_count": 418,
     "metadata": {},
     "output_type": "execute_result"
    }
   ],
   "source": [
    "wc.to_file('worldcloud_Cuaji.png')"
   ]
  },
  {
   "cell_type": "markdown",
   "id": "63a2a7ae",
   "metadata": {},
   "source": [
    "## Iztapalapa"
   ]
  },
  {
   "cell_type": "code",
   "execution_count": 263,
   "id": "c34c24f9",
   "metadata": {},
   "outputs": [
    {
     "data": {
      "text/html": [
       "<div>\n",
       "<style scoped>\n",
       "    .dataframe tbody tr th:only-of-type {\n",
       "        vertical-align: middle;\n",
       "    }\n",
       "\n",
       "    .dataframe tbody tr th {\n",
       "        vertical-align: top;\n",
       "    }\n",
       "\n",
       "    .dataframe thead th {\n",
       "        text-align: right;\n",
       "    }\n",
       "</style>\n",
       "<table border=\"1\" class=\"dataframe\">\n",
       "  <thead>\n",
       "    <tr style=\"text-align: right;\">\n",
       "      <th></th>\n",
       "      <th>id</th>\n",
       "      <th>neighbourhood_cleansed</th>\n",
       "      <th>comments</th>\n",
       "    </tr>\n",
       "  </thead>\n",
       "  <tbody>\n",
       "    <tr>\n",
       "      <th>8934</th>\n",
       "      <td>1107979</td>\n",
       "      <td>Iztapalapa</td>\n",
       "      <td>The host canceled this reservation 2 days befo...</td>\n",
       "    </tr>\n",
       "    <tr>\n",
       "      <th>10987</th>\n",
       "      <td>1483664</td>\n",
       "      <td>Iztapalapa</td>\n",
       "      <td>Primero que todo gracias infinitas por tus ate...</td>\n",
       "    </tr>\n",
       "    <tr>\n",
       "      <th>10988</th>\n",
       "      <td>1483664</td>\n",
       "      <td>Iztapalapa</td>\n",
       "      <td>Agradable y con muchos servicios.</td>\n",
       "    </tr>\n",
       "    <tr>\n",
       "      <th>10989</th>\n",
       "      <td>1483664</td>\n",
       "      <td>Iztapalapa</td>\n",
       "      <td>We loved our stay here. The kitchen is filled ...</td>\n",
       "    </tr>\n",
       "    <tr>\n",
       "      <th>61838</th>\n",
       "      <td>9655509</td>\n",
       "      <td>Iztapalapa</td>\n",
       "      <td>Great place!!! Luis was really helpful and eve...</td>\n",
       "    </tr>\n",
       "    <tr>\n",
       "      <th>...</th>\n",
       "      <td>...</td>\n",
       "      <td>...</td>\n",
       "      <td>...</td>\n",
       "    </tr>\n",
       "    <tr>\n",
       "      <th>484420</th>\n",
       "      <td>49346479</td>\n",
       "      <td>Iztapalapa</td>\n",
       "      <td>Excelente estancia</td>\n",
       "    </tr>\n",
       "    <tr>\n",
       "      <th>484421</th>\n",
       "      <td>49346479</td>\n",
       "      <td>Iztapalapa</td>\n",
       "      <td>¡Todo excelente! El lugar es exactamente como ...</td>\n",
       "    </tr>\n",
       "    <tr>\n",
       "      <th>484552</th>\n",
       "      <td>49425973</td>\n",
       "      <td>Iztapalapa</td>\n",
       "      <td>Excelente espacio limpio, cómodo y con todo lo...</td>\n",
       "    </tr>\n",
       "    <tr>\n",
       "      <th>486025</th>\n",
       "      <td>50148641</td>\n",
       "      <td>Iztapalapa</td>\n",
       "      <td>muy buena comunicación en todo momento, muy am...</td>\n",
       "    </tr>\n",
       "    <tr>\n",
       "      <th>486026</th>\n",
       "      <td>50148641</td>\n",
       "      <td>Iztapalapa</td>\n",
       "      <td>The house is beautiful and it has all that you...</td>\n",
       "    </tr>\n",
       "  </tbody>\n",
       "</table>\n",
       "<p>1909 rows × 3 columns</p>\n",
       "</div>"
      ],
      "text/plain": [
       "              id neighbourhood_cleansed  \\\n",
       "8934     1107979             Iztapalapa   \n",
       "10987    1483664             Iztapalapa   \n",
       "10988    1483664             Iztapalapa   \n",
       "10989    1483664             Iztapalapa   \n",
       "61838    9655509             Iztapalapa   \n",
       "...          ...                    ...   \n",
       "484420  49346479             Iztapalapa   \n",
       "484421  49346479             Iztapalapa   \n",
       "484552  49425973             Iztapalapa   \n",
       "486025  50148641             Iztapalapa   \n",
       "486026  50148641             Iztapalapa   \n",
       "\n",
       "                                                 comments  \n",
       "8934    The host canceled this reservation 2 days befo...  \n",
       "10987   Primero que todo gracias infinitas por tus ate...  \n",
       "10988                   Agradable y con muchos servicios.  \n",
       "10989   We loved our stay here. The kitchen is filled ...  \n",
       "61838   Great place!!! Luis was really helpful and eve...  \n",
       "...                                                   ...  \n",
       "484420                                 Excelente estancia  \n",
       "484421  ¡Todo excelente! El lugar es exactamente como ...  \n",
       "484552  Excelente espacio limpio, cómodo y con todo lo...  \n",
       "486025  muy buena comunicación en todo momento, muy am...  \n",
       "486026  The house is beautiful and it has all that you...  \n",
       "\n",
       "[1909 rows x 3 columns]"
      ]
     },
     "execution_count": 263,
     "metadata": {},
     "output_type": "execute_result"
    }
   ],
   "source": [
    "#create df for neighbourhood\n",
    "df_nei=revCONneib[(revCONneib['neighbourhood_cleansed']== 'Iztapalapa')]\n",
    "df_nei"
   ]
  },
  {
   "cell_type": "code",
   "execution_count": 265,
   "id": "f4715cc3",
   "metadata": {},
   "outputs": [],
   "source": [
    "df_nei.to_csv(\"C:\\\\Users\\\\doogi\\\\OneDrive\\\\Documentos\\\\Boot Camp local\\\\20 Projecto final\\\\local\\\\review_Izt.txt\",index=False)"
   ]
  },
  {
   "cell_type": "code",
   "execution_count": 419,
   "id": "eee43e7f",
   "metadata": {},
   "outputs": [],
   "source": [
    "text = open('review_Izt.txt',mode='r',encoding='utf-8').read()"
   ]
  },
  {
   "cell_type": "code",
   "execution_count": 420,
   "id": "300153b9",
   "metadata": {},
   "outputs": [],
   "source": [
    "stopwords = STOPWORDS"
   ]
  },
  {
   "cell_type": "code",
   "execution_count": 421,
   "id": "fd65781a",
   "metadata": {},
   "outputs": [],
   "source": [
    "stopwords.update([\"las\",\"persona\",\"mi\",\"del\",\"ella\",\"ir\",\"le\",\"bien\",\"recomendable\",\"estancia\",\"noche\",\"recomendado\",\"gran\",\"Cuajimalpa\",\"Morelos\",\"sin\",\"duda\",\"hay\",\"mucha\",\"venustiano\",\"Carranza\",\"day\",\"venustiano Carranza\",\"tiene\",\"como\",'esta',\"opción\",\"siempre\",\"se\",\"Álvaro Obregón\",\"Álvaro\", \"Obregón\",\"Alvaro Obregon\",\"Madero\",\"Gustavo\",\"Gustavo Madero\",\"su\",\"para\",\"Súper\",\"Magdalena\", \"Contreras\",\"Magdalena Contreras\",\"de\",\"una\",\"si\",\"pero\",\"con\",\"está\",\"por\",\"buena\",\"gracias\",\"Thank\",\"Benito\",\"Juárez\",\"departamento\",\"super\",\"fue\",\"ya\",\"us\",\"Miguel\",\"Hidalgo\",\"host\",\"neighborhood\", \"hosts\",\"check\", \"nice\", \"todo\", \"CDMX\" \"everything\",\"lot\",\"casa\",\"house\", \"un\",\"excelente\", \"need\",\"apartment\",\"el\",\"muy bien\",\"El departamento\",\"es\",\"br\",\"Mexico\", \"city\", \"y\",\"muy\",\"lo\",\"que\",\"stay\",\"lugar\",\"recommend\",\"location\", \"muy\",\"great\",\"place\",\"perfect\",\"en\",\"la\",\"amazing\",\"u\",\"great\",\"airbnb\",\"Cuauhtémoc\",'Coyoacán', 'Miguel Hidalgo', 'Benito Juárez','Azcapotzalco', 'Tlalpan', 'La Magdalena Contreras', 'Gustavo A. Madero', 'Álvaro Obregón', 'Venustiano Carranza', 'Cuajimalpa de Morelos', 'Iztapalapa', 'Xochimilco', 'Iztacalco','Tláhuac', 'Milpa Alta'])"
   ]
  },
  {
   "cell_type": "code",
   "execution_count": 422,
   "id": "aefc348d",
   "metadata": {},
   "outputs": [],
   "source": [
    "wc = WordCloud(\n",
    "        background_color='white',\n",
    "        stopwords=stopwords,\n",
    "        height = 400,\n",
    "        width=600\n",
    ")"
   ]
  },
  {
   "cell_type": "code",
   "execution_count": 423,
   "id": "7bff7a7e",
   "metadata": {},
   "outputs": [
    {
     "data": {
      "text/plain": [
       "<wordcloud.wordcloud.WordCloud at 0x2656559ae20>"
      ]
     },
     "execution_count": 423,
     "metadata": {},
     "output_type": "execute_result"
    }
   ],
   "source": [
    "wc.generate(text)"
   ]
  },
  {
   "cell_type": "code",
   "execution_count": 424,
   "id": "cee31097",
   "metadata": {},
   "outputs": [
    {
     "data": {
      "text/plain": [
       "<wordcloud.wordcloud.WordCloud at 0x2656559ae20>"
      ]
     },
     "execution_count": 424,
     "metadata": {},
     "output_type": "execute_result"
    }
   ],
   "source": [
    "wc.to_file('worldcloud_Izt.png')"
   ]
  },
  {
   "cell_type": "markdown",
   "id": "cbfb2310",
   "metadata": {},
   "source": [
    "## Xochimilco"
   ]
  },
  {
   "cell_type": "code",
   "execution_count": 281,
   "id": "a7bd2e1d",
   "metadata": {},
   "outputs": [
    {
     "data": {
      "text/html": [
       "<div>\n",
       "<style scoped>\n",
       "    .dataframe tbody tr th:only-of-type {\n",
       "        vertical-align: middle;\n",
       "    }\n",
       "\n",
       "    .dataframe tbody tr th {\n",
       "        vertical-align: top;\n",
       "    }\n",
       "\n",
       "    .dataframe thead th {\n",
       "        text-align: right;\n",
       "    }\n",
       "</style>\n",
       "<table border=\"1\" class=\"dataframe\">\n",
       "  <thead>\n",
       "    <tr style=\"text-align: right;\">\n",
       "      <th></th>\n",
       "      <th>id</th>\n",
       "      <th>neighbourhood_cleansed</th>\n",
       "      <th>comments</th>\n",
       "    </tr>\n",
       "  </thead>\n",
       "  <tbody>\n",
       "    <tr>\n",
       "      <th>26824</th>\n",
       "      <td>4637821</td>\n",
       "      <td>Xochimilco</td>\n",
       "      <td>La casa de Miguel es esplendida y el hace todo...</td>\n",
       "    </tr>\n",
       "    <tr>\n",
       "      <th>26825</th>\n",
       "      <td>4637821</td>\n",
       "      <td>Xochimilco</td>\n",
       "      <td>La casa se encuentra ubicada en una zona muy t...</td>\n",
       "    </tr>\n",
       "    <tr>\n",
       "      <th>26826</th>\n",
       "      <td>4637821</td>\n",
       "      <td>Xochimilco</td>\n",
       "      <td>Muchas Gracias Miguel, esta bonito el espacio ...</td>\n",
       "    </tr>\n",
       "    <tr>\n",
       "      <th>26827</th>\n",
       "      <td>4637821</td>\n",
       "      <td>Xochimilco</td>\n",
       "      <td>La casa es muy bonita y amplia. Tiene una muy ...</td>\n",
       "    </tr>\n",
       "    <tr>\n",
       "      <th>26828</th>\n",
       "      <td>4637821</td>\n",
       "      <td>Xochimilco</td>\n",
       "      <td>Beautifully decorated home, much bigger than e...</td>\n",
       "    </tr>\n",
       "    <tr>\n",
       "      <th>...</th>\n",
       "      <td>...</td>\n",
       "      <td>...</td>\n",
       "      <td>...</td>\n",
       "    </tr>\n",
       "    <tr>\n",
       "      <th>477882</th>\n",
       "      <td>47546045</td>\n",
       "      <td>Xochimilco</td>\n",
       "      <td>Muy bonito lugar para descansar</td>\n",
       "    </tr>\n",
       "    <tr>\n",
       "      <th>477883</th>\n",
       "      <td>47546045</td>\n",
       "      <td>Xochimilco</td>\n",
       "      <td>Todo muy bien</td>\n",
       "    </tr>\n",
       "    <tr>\n",
       "      <th>477884</th>\n",
       "      <td>47546045</td>\n",
       "      <td>Xochimilco</td>\n",
       "      <td>Super recomendable, muy limpio y muy atentos e...</td>\n",
       "    </tr>\n",
       "    <tr>\n",
       "      <th>477885</th>\n",
       "      <td>47546045</td>\n",
       "      <td>Xochimilco</td>\n",
       "      <td>Excelente lugar para descansar</td>\n",
       "    </tr>\n",
       "    <tr>\n",
       "      <th>485816</th>\n",
       "      <td>50010212</td>\n",
       "      <td>Xochimilco</td>\n",
       "      <td>Very nice apartment. Great furniture and lots ...</td>\n",
       "    </tr>\n",
       "  </tbody>\n",
       "</table>\n",
       "<p>909 rows × 3 columns</p>\n",
       "</div>"
      ],
      "text/plain": [
       "              id neighbourhood_cleansed  \\\n",
       "26824    4637821             Xochimilco   \n",
       "26825    4637821             Xochimilco   \n",
       "26826    4637821             Xochimilco   \n",
       "26827    4637821             Xochimilco   \n",
       "26828    4637821             Xochimilco   \n",
       "...          ...                    ...   \n",
       "477882  47546045             Xochimilco   \n",
       "477883  47546045             Xochimilco   \n",
       "477884  47546045             Xochimilco   \n",
       "477885  47546045             Xochimilco   \n",
       "485816  50010212             Xochimilco   \n",
       "\n",
       "                                                 comments  \n",
       "26824   La casa de Miguel es esplendida y el hace todo...  \n",
       "26825   La casa se encuentra ubicada en una zona muy t...  \n",
       "26826   Muchas Gracias Miguel, esta bonito el espacio ...  \n",
       "26827   La casa es muy bonita y amplia. Tiene una muy ...  \n",
       "26828   Beautifully decorated home, much bigger than e...  \n",
       "...                                                   ...  \n",
       "477882                    Muy bonito lugar para descansar  \n",
       "477883                                      Todo muy bien  \n",
       "477884  Super recomendable, muy limpio y muy atentos e...  \n",
       "477885                     Excelente lugar para descansar  \n",
       "485816  Very nice apartment. Great furniture and lots ...  \n",
       "\n",
       "[909 rows x 3 columns]"
      ]
     },
     "execution_count": 281,
     "metadata": {},
     "output_type": "execute_result"
    }
   ],
   "source": [
    "#create df for neighbourhood\n",
    "df_nei=revCONneib[(revCONneib['neighbourhood_cleansed']== 'Xochimilco')]\n",
    "df_nei"
   ]
  },
  {
   "cell_type": "code",
   "execution_count": 282,
   "id": "b74e1545",
   "metadata": {},
   "outputs": [],
   "source": [
    "df_nei.to_csv(\"C:\\\\Users\\\\doogi\\\\OneDrive\\\\Documentos\\\\Boot Camp local\\\\20 Projecto final\\\\local\\\\review_Xoc.txt\",index=False)"
   ]
  },
  {
   "cell_type": "code",
   "execution_count": 283,
   "id": "57c0c958",
   "metadata": {},
   "outputs": [],
   "source": [
    "text = open('review_Xoc.txt',mode='r',encoding='utf-8').read()"
   ]
  },
  {
   "cell_type": "code",
   "execution_count": 284,
   "id": "c65cf712",
   "metadata": {},
   "outputs": [],
   "source": [
    "stopwords = STOPWORDS"
   ]
  },
  {
   "cell_type": "code",
   "execution_count": 289,
   "id": "b394cc64",
   "metadata": {},
   "outputs": [],
   "source": [
    "stopwords.update([\"al\",\"nos\",\"son\",\"puede\",\"donde\",\"puede\",\"uno\",\"las\",\"persona\",\"mi\",\"del\",\"ella\",\"ir\",\"le\",\"bien\",\"recomendable\",\"estancia\",\"noche\",\"recomendado\",\"gran\",\"Cuajimalpa\",\"Morelos\",\"sin\",\"duda\",\"hay\",\"mucha\",\"venustiano\",\"Carranza\",\"day\",\"venustiano Carranza\",\"tiene\",\"como\",'esta',\"opción\",\"siempre\",\"se\",\"Álvaro Obregón\",\"Álvaro\", \"Obregón\",\"Alvaro Obregon\",\"Madero\",\"Gustavo\",\"Gustavo Madero\",\"su\",\"para\",\"Súper\",\"Magdalena\", \"Contreras\",\"Magdalena Contreras\",\"de\",\"una\",\"si\",\"pero\",\"con\",\"está\",\"por\",\"buena\",\"gracias\",\"Thank\",\"Benito\",\"Juárez\",\"departamento\",\"super\",\"fue\",\"ya\",\"us\",\"Miguel\",\"Hidalgo\",\"host\",\"neighborhood\", \"hosts\",\"check\", \"nice\", \"todo\", \"CDMX\" \"everything\",\"lot\",\"casa\",\"house\", \"un\",\"excelente\", \"need\",\"apartment\",\"el\",\"muy bien\",\"El departamento\",\"es\",\"br\",\"Mexico\", \"city\", \"y\",\"muy\",\"lo\",\"que\",\"stay\",\"lugar\",\"recommend\",\"location\", \"muy\",\"great\",\"place\",\"perfect\",\"en\",\"la\",\"amazing\",\"u\",\"great\",\"airbnb\",\"Cuauhtémoc\",'Coyoacán', 'Miguel Hidalgo', 'Benito Juárez','Azcapotzalco', 'Tlalpan', 'La Magdalena Contreras', 'Gustavo A. Madero', 'Álvaro Obregón', 'Venustiano Carranza', 'Cuajimalpa de Morelos', 'Iztapalapa', 'Xochimilco', 'Iztacalco','Tláhuac', 'Milpa Alta'])"
   ]
  },
  {
   "cell_type": "code",
   "execution_count": 290,
   "id": "f317e81c",
   "metadata": {},
   "outputs": [],
   "source": [
    "wc = WordCloud(\n",
    "        background_color='white',\n",
    "        stopwords=stopwords,\n",
    "        height = 400,\n",
    "        width=600\n",
    ")"
   ]
  },
  {
   "cell_type": "code",
   "execution_count": 291,
   "id": "7ee6f926",
   "metadata": {},
   "outputs": [
    {
     "data": {
      "text/plain": [
       "<wordcloud.wordcloud.WordCloud at 0x265a18b2a00>"
      ]
     },
     "execution_count": 291,
     "metadata": {},
     "output_type": "execute_result"
    }
   ],
   "source": [
    "wc.generate(text)"
   ]
  },
  {
   "cell_type": "code",
   "execution_count": 293,
   "id": "685a3131",
   "metadata": {},
   "outputs": [
    {
     "data": {
      "text/plain": [
       "<wordcloud.wordcloud.WordCloud at 0x265a18b2a00>"
      ]
     },
     "execution_count": 293,
     "metadata": {},
     "output_type": "execute_result"
    }
   ],
   "source": [
    "wc.to_file('worldcloud_Xoc.png')"
   ]
  },
  {
   "cell_type": "markdown",
   "id": "babef8b7",
   "metadata": {},
   "source": [
    "## Iztacalco"
   ]
  },
  {
   "cell_type": "code",
   "execution_count": 294,
   "id": "a9dd340a",
   "metadata": {},
   "outputs": [
    {
     "data": {
      "text/html": [
       "<div>\n",
       "<style scoped>\n",
       "    .dataframe tbody tr th:only-of-type {\n",
       "        vertical-align: middle;\n",
       "    }\n",
       "\n",
       "    .dataframe tbody tr th {\n",
       "        vertical-align: top;\n",
       "    }\n",
       "\n",
       "    .dataframe thead th {\n",
       "        text-align: right;\n",
       "    }\n",
       "</style>\n",
       "<table border=\"1\" class=\"dataframe\">\n",
       "  <thead>\n",
       "    <tr style=\"text-align: right;\">\n",
       "      <th></th>\n",
       "      <th>id</th>\n",
       "      <th>neighbourhood_cleansed</th>\n",
       "      <th>comments</th>\n",
       "    </tr>\n",
       "  </thead>\n",
       "  <tbody>\n",
       "    <tr>\n",
       "      <th>51742</th>\n",
       "      <td>8456969</td>\n",
       "      <td>Iztacalco</td>\n",
       "      <td>Las fotografías del cuarto son exactas, el edi...</td>\n",
       "    </tr>\n",
       "    <tr>\n",
       "      <th>51743</th>\n",
       "      <td>8456969</td>\n",
       "      <td>Iztacalco</td>\n",
       "      <td>Angelica was so helpful, warm, friendly, welco...</td>\n",
       "    </tr>\n",
       "    <tr>\n",
       "      <th>51744</th>\n",
       "      <td>8456969</td>\n",
       "      <td>Iztacalco</td>\n",
       "      <td>Very good.</td>\n",
       "    </tr>\n",
       "    <tr>\n",
       "      <th>51745</th>\n",
       "      <td>8456969</td>\n",
       "      <td>Iztacalco</td>\n",
       "      <td>A angelica y su esposo son muy agradable.&lt;br/&gt;...</td>\n",
       "    </tr>\n",
       "    <tr>\n",
       "      <th>51746</th>\n",
       "      <td>8456969</td>\n",
       "      <td>Iztacalco</td>\n",
       "      <td>Great hospitality. Just remember to make arran...</td>\n",
       "    </tr>\n",
       "    <tr>\n",
       "      <th>...</th>\n",
       "      <td>...</td>\n",
       "      <td>...</td>\n",
       "      <td>...</td>\n",
       "    </tr>\n",
       "    <tr>\n",
       "      <th>486156</th>\n",
       "      <td>50157876</td>\n",
       "      <td>Iztacalco</td>\n",
       "      <td>todo excelente</td>\n",
       "    </tr>\n",
       "    <tr>\n",
       "      <th>486220</th>\n",
       "      <td>50224079</td>\n",
       "      <td>Iztacalco</td>\n",
       "      <td>Un departamento bien en relación a precio-cali...</td>\n",
       "    </tr>\n",
       "    <tr>\n",
       "      <th>486221</th>\n",
       "      <td>50224079</td>\n",
       "      <td>Iztacalco</td>\n",
       "      <td>Excelente lugar muy bonito y cómodo, la ubicac...</td>\n",
       "    </tr>\n",
       "    <tr>\n",
       "      <th>486545</th>\n",
       "      <td>50502034</td>\n",
       "      <td>Iztacalco</td>\n",
       "      <td>En lo particular creo que el descanso es muy i...</td>\n",
       "    </tr>\n",
       "    <tr>\n",
       "      <th>486724</th>\n",
       "      <td>50906224</td>\n",
       "      <td>Iztacalco</td>\n",
       "      <td>Departamento muy cómodo, mi familia es de cinc...</td>\n",
       "    </tr>\n",
       "  </tbody>\n",
       "</table>\n",
       "<p>4656 rows × 3 columns</p>\n",
       "</div>"
      ],
      "text/plain": [
       "              id neighbourhood_cleansed  \\\n",
       "51742    8456969              Iztacalco   \n",
       "51743    8456969              Iztacalco   \n",
       "51744    8456969              Iztacalco   \n",
       "51745    8456969              Iztacalco   \n",
       "51746    8456969              Iztacalco   \n",
       "...          ...                    ...   \n",
       "486156  50157876              Iztacalco   \n",
       "486220  50224079              Iztacalco   \n",
       "486221  50224079              Iztacalco   \n",
       "486545  50502034              Iztacalco   \n",
       "486724  50906224              Iztacalco   \n",
       "\n",
       "                                                 comments  \n",
       "51742   Las fotografías del cuarto son exactas, el edi...  \n",
       "51743   Angelica was so helpful, warm, friendly, welco...  \n",
       "51744                                          Very good.  \n",
       "51745   A angelica y su esposo son muy agradable.<br/>...  \n",
       "51746   Great hospitality. Just remember to make arran...  \n",
       "...                                                   ...  \n",
       "486156                                     todo excelente  \n",
       "486220  Un departamento bien en relación a precio-cali...  \n",
       "486221  Excelente lugar muy bonito y cómodo, la ubicac...  \n",
       "486545  En lo particular creo que el descanso es muy i...  \n",
       "486724  Departamento muy cómodo, mi familia es de cinc...  \n",
       "\n",
       "[4656 rows x 3 columns]"
      ]
     },
     "execution_count": 294,
     "metadata": {},
     "output_type": "execute_result"
    }
   ],
   "source": [
    "#create df for neighbourhood\n",
    "df_nei=revCONneib[(revCONneib['neighbourhood_cleansed']== 'Iztacalco')]\n",
    "df_nei"
   ]
  },
  {
   "cell_type": "code",
   "execution_count": 295,
   "id": "7c9c12d8",
   "metadata": {},
   "outputs": [],
   "source": [
    "df_nei.to_csv(\"C:\\\\Users\\\\doogi\\\\OneDrive\\\\Documentos\\\\Boot Camp local\\\\20 Projecto final\\\\local\\\\review_Iztacalco.txt\",index=False)"
   ]
  },
  {
   "cell_type": "code",
   "execution_count": 312,
   "id": "99e7fdd1",
   "metadata": {},
   "outputs": [],
   "source": [
    "text = open('review_Iztacalco.txt',mode='r',encoding='utf-8').read()"
   ]
  },
  {
   "cell_type": "code",
   "execution_count": 313,
   "id": "1b322dcd",
   "metadata": {},
   "outputs": [],
   "source": [
    "stopwords = STOPWORDS"
   ]
  },
  {
   "cell_type": "code",
   "execution_count": 314,
   "id": "dc33cbe5",
   "metadata": {},
   "outputs": [],
   "source": [
    "stopwords.update([\"al\",\"nos\",\"son\",\"puede\",\"donde\",\"puede\",\"uno\",\"las\",\"persona\",\"mi\",\"del\",\"ella\",\"ir\",\"le\",\"bien\",\"recomendable\",\"estancia\",\"noche\",\"recomendado\",\"gran\",\"Cuajimalpa\",\"Morelos\",\"sin\",\"duda\",\"hay\",\"mucha\",\"venustiano\",\"Carranza\",\"day\",\"venustiano Carranza\",\"tiene\",\"como\",'esta',\"opción\",\"siempre\",\"se\",\"Álvaro Obregón\",\"Álvaro\", \"Obregón\",\"Alvaro Obregon\",\"Madero\",\"Gustavo\",\"Gustavo Madero\",\"su\",\"para\",\"Súper\",\"Magdalena\", \"Contreras\",\"Magdalena Contreras\",\"de\",\"una\",\"si\",\"pero\",\"con\",\"está\",\"por\",\"buena\",\"gracias\",\"Thank\",\"Benito\",\"Juárez\",\"departamento\",\"super\",\"fue\",\"ya\",\"us\",\"Miguel\",\"Hidalgo\",\"host\",\"neighborhood\", \"hosts\",\"check\", \"nice\", \"todo\", \"CDMX\" \"everything\",\"lot\",\"casa\",\"house\", \"un\",\"excelente\", \"need\",\"apartment\",\"el\",\"muy bien\",\"El departamento\",\"es\",\"br\",\"Mexico\", \"city\", \"y\",\"muy\",\"lo\",\"que\",\"stay\",\"lugar\",\"recommend\",\"location\", \"muy\",\"great\",\"place\",\"perfect\",\"en\",\"la\",\"amazing\",\"u\",\"great\",\"airbnb\",\"Cuauhtémoc\",'Coyoacán', 'Miguel Hidalgo', 'Benito Juárez','Azcapotzalco', 'Tlalpan', 'La Magdalena Contreras', 'Gustavo A. Madero', 'Álvaro Obregón', 'Venustiano Carranza', 'Cuajimalpa de Morelos', 'Iztapalapa', 'Xochimilco', 'Iztacalco','Tláhuac', 'Milpa Alta'])"
   ]
  },
  {
   "cell_type": "code",
   "execution_count": 315,
   "id": "4083f5f2",
   "metadata": {},
   "outputs": [],
   "source": [
    "wc = WordCloud(\n",
    "        background_color='white',\n",
    "        stopwords=stopwords,\n",
    "        height = 400,\n",
    "        width=600\n",
    ")"
   ]
  },
  {
   "cell_type": "code",
   "execution_count": 316,
   "id": "24bd3347",
   "metadata": {},
   "outputs": [
    {
     "data": {
      "text/plain": [
       "<wordcloud.wordcloud.WordCloud at 0x2656ab0c550>"
      ]
     },
     "execution_count": 316,
     "metadata": {},
     "output_type": "execute_result"
    }
   ],
   "source": [
    "wc.generate(text)"
   ]
  },
  {
   "cell_type": "code",
   "execution_count": 317,
   "id": "ba9a3bbc",
   "metadata": {},
   "outputs": [
    {
     "data": {
      "text/plain": [
       "<wordcloud.wordcloud.WordCloud at 0x2656ab0c550>"
      ]
     },
     "execution_count": 317,
     "metadata": {},
     "output_type": "execute_result"
    }
   ],
   "source": [
    "wc.to_file('worldcloud_Izta.png')"
   ]
  },
  {
   "cell_type": "markdown",
   "id": "6a2685af",
   "metadata": {},
   "source": [
    "## Tláhuac"
   ]
  },
  {
   "cell_type": "code",
   "execution_count": 302,
   "id": "000eb2ec",
   "metadata": {},
   "outputs": [
    {
     "data": {
      "text/html": [
       "<div>\n",
       "<style scoped>\n",
       "    .dataframe tbody tr th:only-of-type {\n",
       "        vertical-align: middle;\n",
       "    }\n",
       "\n",
       "    .dataframe tbody tr th {\n",
       "        vertical-align: top;\n",
       "    }\n",
       "\n",
       "    .dataframe thead th {\n",
       "        text-align: right;\n",
       "    }\n",
       "</style>\n",
       "<table border=\"1\" class=\"dataframe\">\n",
       "  <thead>\n",
       "    <tr style=\"text-align: right;\">\n",
       "      <th></th>\n",
       "      <th>id</th>\n",
       "      <th>neighbourhood_cleansed</th>\n",
       "      <th>comments</th>\n",
       "    </tr>\n",
       "  </thead>\n",
       "  <tbody>\n",
       "    <tr>\n",
       "      <th>52286</th>\n",
       "      <td>8651814</td>\n",
       "      <td>Tláhuac</td>\n",
       "      <td>깔끔함과 청결함을 중시한다면 실망하실 수 있습니다. 그러나 멕시코에 대해 많은 것을...</td>\n",
       "    </tr>\n",
       "    <tr>\n",
       "      <th>102112</th>\n",
       "      <td>14076300</td>\n",
       "      <td>Tláhuac</td>\n",
       "      <td>I really enjoyed my stay at Georgina's. The ap...</td>\n",
       "    </tr>\n",
       "    <tr>\n",
       "      <th>102113</th>\n",
       "      <td>14076300</td>\n",
       "      <td>Tláhuac</td>\n",
       "      <td>Excelente Ubicación y servicio.</td>\n",
       "    </tr>\n",
       "    <tr>\n",
       "      <th>262165</th>\n",
       "      <td>24039510</td>\n",
       "      <td>Tláhuac</td>\n",
       "      <td>Es un departamento que tiene magia, por qué ha...</td>\n",
       "    </tr>\n",
       "    <tr>\n",
       "      <th>262166</th>\n",
       "      <td>24039510</td>\n",
       "      <td>Tláhuac</td>\n",
       "      <td>Excellent choice of stay near Mexico city. The...</td>\n",
       "    </tr>\n",
       "    <tr>\n",
       "      <th>...</th>\n",
       "      <td>...</td>\n",
       "      <td>...</td>\n",
       "      <td>...</td>\n",
       "    </tr>\n",
       "    <tr>\n",
       "      <th>471610</th>\n",
       "      <td>46133177</td>\n",
       "      <td>Tláhuac</td>\n",
       "      <td>Muy buena estancia&lt;br/&gt;lugar tranquilo&lt;br/&gt;fác...</td>\n",
       "    </tr>\n",
       "    <tr>\n",
       "      <th>472088</th>\n",
       "      <td>46240617</td>\n",
       "      <td>Tláhuac</td>\n",
       "      <td>Estancia acogedora</td>\n",
       "    </tr>\n",
       "    <tr>\n",
       "      <th>477670</th>\n",
       "      <td>47489958</td>\n",
       "      <td>Tláhuac</td>\n",
       "      <td>el lugar no es un hotel de lujo pero Ricardo e...</td>\n",
       "    </tr>\n",
       "    <tr>\n",
       "      <th>484101</th>\n",
       "      <td>49190817</td>\n",
       "      <td>Tláhuac</td>\n",
       "      <td>Lo recomiendo un espacio pequeño pero muy buen...</td>\n",
       "    </tr>\n",
       "    <tr>\n",
       "      <th>484102</th>\n",
       "      <td>49190817</td>\n",
       "      <td>Tláhuac</td>\n",
       "      <td>El host es muy amable y accesible, en cuanto s...</td>\n",
       "    </tr>\n",
       "  </tbody>\n",
       "</table>\n",
       "<p>218 rows × 3 columns</p>\n",
       "</div>"
      ],
      "text/plain": [
       "              id neighbourhood_cleansed  \\\n",
       "52286    8651814                Tláhuac   \n",
       "102112  14076300                Tláhuac   \n",
       "102113  14076300                Tláhuac   \n",
       "262165  24039510                Tláhuac   \n",
       "262166  24039510                Tláhuac   \n",
       "...          ...                    ...   \n",
       "471610  46133177                Tláhuac   \n",
       "472088  46240617                Tláhuac   \n",
       "477670  47489958                Tláhuac   \n",
       "484101  49190817                Tláhuac   \n",
       "484102  49190817                Tláhuac   \n",
       "\n",
       "                                                 comments  \n",
       "52286   깔끔함과 청결함을 중시한다면 실망하실 수 있습니다. 그러나 멕시코에 대해 많은 것을...  \n",
       "102112  I really enjoyed my stay at Georgina's. The ap...  \n",
       "102113                    Excelente Ubicación y servicio.  \n",
       "262165  Es un departamento que tiene magia, por qué ha...  \n",
       "262166  Excellent choice of stay near Mexico city. The...  \n",
       "...                                                   ...  \n",
       "471610  Muy buena estancia<br/>lugar tranquilo<br/>fác...  \n",
       "472088                                 Estancia acogedora  \n",
       "477670  el lugar no es un hotel de lujo pero Ricardo e...  \n",
       "484101  Lo recomiendo un espacio pequeño pero muy buen...  \n",
       "484102  El host es muy amable y accesible, en cuanto s...  \n",
       "\n",
       "[218 rows x 3 columns]"
      ]
     },
     "execution_count": 302,
     "metadata": {},
     "output_type": "execute_result"
    }
   ],
   "source": [
    "#create df for neighbourhood\n",
    "df_nei=revCONneib[(revCONneib['neighbourhood_cleansed']== 'Tláhuac')]\n",
    "df_nei"
   ]
  },
  {
   "cell_type": "code",
   "execution_count": 304,
   "id": "a2b5f9b8",
   "metadata": {},
   "outputs": [],
   "source": [
    "df_nei.to_csv(\"C:\\\\Users\\\\doogi\\\\OneDrive\\\\Documentos\\\\Boot Camp local\\\\20 Projecto final\\\\local\\\\review_Tlahuac.txt\",index=False)"
   ]
  },
  {
   "cell_type": "code",
   "execution_count": 305,
   "id": "11b15472",
   "metadata": {},
   "outputs": [],
   "source": [
    "text = open('review_Tlahuac.txt',mode='r',encoding='utf-8').read()"
   ]
  },
  {
   "cell_type": "code",
   "execution_count": 306,
   "id": "3cb41458",
   "metadata": {},
   "outputs": [],
   "source": [
    "stopwords = STOPWORDS"
   ]
  },
  {
   "cell_type": "code",
   "execution_count": 318,
   "id": "c057fc49",
   "metadata": {},
   "outputs": [],
   "source": [
    "stopwords.update([\"personas\",\"puedes\",\"alojamiento\",\"queda\",\"hacer\",\"al\",\"nos\",\"son\",\"puede\",\"donde\",\"puede\",\"uno\",\"las\",\"persona\",\"mi\",\"del\",\"ella\",\"ir\",\"le\",\"bien\",\"recomendable\",\"estancia\",\"noche\",\"recomendado\",\"gran\",\"Cuajimalpa\",\"Morelos\",\"sin\",\"duda\",\"hay\",\"mucha\",\"venustiano\",\"Carranza\",\"day\",\"venustiano Carranza\",\"tiene\",\"como\",'esta',\"opción\",\"siempre\",\"se\",\"Álvaro Obregón\",\"Álvaro\", \"Obregón\",\"Alvaro Obregon\",\"Madero\",\"Gustavo\",\"Gustavo Madero\",\"su\",\"para\",\"Súper\",\"Magdalena\", \"Contreras\",\"Magdalena Contreras\",\"de\",\"una\",\"si\",\"pero\",\"con\",\"está\",\"por\",\"buena\",\"gracias\",\"Thank\",\"Benito\",\"Juárez\",\"departamento\",\"super\",\"fue\",\"ya\",\"us\",\"Miguel\",\"Hidalgo\",\"host\",\"neighborhood\", \"hosts\",\"check\", \"nice\", \"todo\", \"CDMX\" \"everything\",\"lot\",\"casa\",\"house\", \"un\",\"excelente\", \"need\",\"apartment\",\"el\",\"muy bien\",\"El departamento\",\"es\",\"br\",\"Mexico\", \"city\", \"y\",\"muy\",\"lo\",\"que\",\"stay\",\"lugar\",\"recommend\",\"location\", \"muy\",\"great\",\"place\",\"perfect\",\"en\",\"la\",\"amazing\",\"u\",\"great\",\"airbnb\",\"Cuauhtémoc\",'Coyoacán', 'Miguel Hidalgo', 'Benito Juárez','Azcapotzalco', 'Tlalpan', 'La Magdalena Contreras', 'Gustavo A. Madero', 'Álvaro Obregón', 'Venustiano Carranza', 'Cuajimalpa de Morelos', 'Iztapalapa', 'Xochimilco', 'Iztacalco','Tláhuac', 'Milpa Alta'])"
   ]
  },
  {
   "cell_type": "code",
   "execution_count": 319,
   "id": "ef17d52f",
   "metadata": {},
   "outputs": [],
   "source": [
    "wc = WordCloud(\n",
    "        background_color='white',\n",
    "        stopwords=stopwords,\n",
    "        height = 400,\n",
    "        width=600\n",
    ")"
   ]
  },
  {
   "cell_type": "code",
   "execution_count": 320,
   "id": "9056c5fb",
   "metadata": {},
   "outputs": [
    {
     "data": {
      "text/plain": [
       "<wordcloud.wordcloud.WordCloud at 0x2656ab0ceb0>"
      ]
     },
     "execution_count": 320,
     "metadata": {},
     "output_type": "execute_result"
    }
   ],
   "source": [
    "wc.generate(text)"
   ]
  },
  {
   "cell_type": "code",
   "execution_count": 321,
   "id": "b3549764",
   "metadata": {},
   "outputs": [
    {
     "data": {
      "text/plain": [
       "<wordcloud.wordcloud.WordCloud at 0x2656ab0ceb0>"
      ]
     },
     "execution_count": 321,
     "metadata": {},
     "output_type": "execute_result"
    }
   ],
   "source": [
    "wc.to_file('worldcloud_Tlahuac.png')"
   ]
  },
  {
   "cell_type": "markdown",
   "id": "a1404718",
   "metadata": {},
   "source": [
    "## Milpa Alta"
   ]
  },
  {
   "cell_type": "code",
   "execution_count": 322,
   "id": "bd6f59b4",
   "metadata": {},
   "outputs": [
    {
     "data": {
      "text/html": [
       "<div>\n",
       "<style scoped>\n",
       "    .dataframe tbody tr th:only-of-type {\n",
       "        vertical-align: middle;\n",
       "    }\n",
       "\n",
       "    .dataframe tbody tr th {\n",
       "        vertical-align: top;\n",
       "    }\n",
       "\n",
       "    .dataframe thead th {\n",
       "        text-align: right;\n",
       "    }\n",
       "</style>\n",
       "<table border=\"1\" class=\"dataframe\">\n",
       "  <thead>\n",
       "    <tr style=\"text-align: right;\">\n",
       "      <th></th>\n",
       "      <th>id</th>\n",
       "      <th>neighbourhood_cleansed</th>\n",
       "      <th>comments</th>\n",
       "    </tr>\n",
       "  </thead>\n",
       "  <tbody>\n",
       "    <tr>\n",
       "      <th>258335</th>\n",
       "      <td>23899847</td>\n",
       "      <td>Milpa Alta</td>\n",
       "      <td>Esta casa es un fraude, no pudimos instalarnos...</td>\n",
       "    </tr>\n",
       "    <tr>\n",
       "      <th>271785</th>\n",
       "      <td>24780622</td>\n",
       "      <td>Milpa Alta</td>\n",
       "      <td>Buen hospedaje , recomendable , alejado del bu...</td>\n",
       "    </tr>\n",
       "    <tr>\n",
       "      <th>331549</th>\n",
       "      <td>30157869</td>\n",
       "      <td>Milpa Alta</td>\n",
       "      <td>El anfitrión con excelente disponibilidad, el ...</td>\n",
       "    </tr>\n",
       "    <tr>\n",
       "      <th>331550</th>\n",
       "      <td>30157869</td>\n",
       "      <td>Milpa Alta</td>\n",
       "      <td>Mucho mejor de lo que esperaba.&lt;br/&gt;El lugar e...</td>\n",
       "    </tr>\n",
       "    <tr>\n",
       "      <th>331551</th>\n",
       "      <td>30157869</td>\n",
       "      <td>Milpa Alta</td>\n",
       "      <td>Super recomendable la estadía. Te sientes como...</td>\n",
       "    </tr>\n",
       "    <tr>\n",
       "      <th>331552</th>\n",
       "      <td>30157869</td>\n",
       "      <td>Milpa Alta</td>\n",
       "      <td>Un lugar cómodo, tranquilo. El anfitrión es ba...</td>\n",
       "    </tr>\n",
       "    <tr>\n",
       "      <th>331553</th>\n",
       "      <td>30157869</td>\n",
       "      <td>Milpa Alta</td>\n",
       "      <td>Hector was amazing, by far one of THE hosts we...</td>\n",
       "    </tr>\n",
       "    <tr>\n",
       "      <th>331554</th>\n",
       "      <td>30157869</td>\n",
       "      <td>Milpa Alta</td>\n",
       "      <td>Muy buena hospitalidad y atención de Hector el...</td>\n",
       "    </tr>\n",
       "    <tr>\n",
       "      <th>331555</th>\n",
       "      <td>30157869</td>\n",
       "      <td>Milpa Alta</td>\n",
       "      <td>El departamento está cómodo y bien ubicado. Hé...</td>\n",
       "    </tr>\n",
       "    <tr>\n",
       "      <th>331556</th>\n",
       "      <td>30157869</td>\n",
       "      <td>Milpa Alta</td>\n",
       "      <td>Really amazing place to stay! I recommend this...</td>\n",
       "    </tr>\n",
       "    <tr>\n",
       "      <th>331557</th>\n",
       "      <td>30157869</td>\n",
       "      <td>Milpa Alta</td>\n",
       "      <td>Lugar muy bonito y limpio, comodo, buena comun...</td>\n",
       "    </tr>\n",
       "    <tr>\n",
       "      <th>331558</th>\n",
       "      <td>30157869</td>\n",
       "      <td>Milpa Alta</td>\n",
       "      <td>Es un departamento, en un conjunto. El lugar e...</td>\n",
       "    </tr>\n",
       "    <tr>\n",
       "      <th>331559</th>\n",
       "      <td>30157869</td>\n",
       "      <td>Milpa Alta</td>\n",
       "      <td>.</td>\n",
       "    </tr>\n",
       "    <tr>\n",
       "      <th>387797</th>\n",
       "      <td>35578561</td>\n",
       "      <td>Milpa Alta</td>\n",
       "      <td>Muy amplio.</td>\n",
       "    </tr>\n",
       "    <tr>\n",
       "      <th>387798</th>\n",
       "      <td>35578561</td>\n",
       "      <td>Milpa Alta</td>\n",
       "      <td>Muy cómodo el lugar, limpio y seguro</td>\n",
       "    </tr>\n",
       "    <tr>\n",
       "      <th>387799</th>\n",
       "      <td>35578561</td>\n",
       "      <td>Milpa Alta</td>\n",
       "      <td>La atención, limpieza y hospitalidad son inmej...</td>\n",
       "    </tr>\n",
       "    <tr>\n",
       "      <th>387800</th>\n",
       "      <td>35578561</td>\n",
       "      <td>Milpa Alta</td>\n",
       "      <td>El lugar es cerca de campo y es muy tranquilo....</td>\n",
       "    </tr>\n",
       "    <tr>\n",
       "      <th>387801</th>\n",
       "      <td>35578561</td>\n",
       "      <td>Milpa Alta</td>\n",
       "      <td>Excelente lugar, gran servicio y excelente ate...</td>\n",
       "    </tr>\n",
       "    <tr>\n",
       "      <th>387802</th>\n",
       "      <td>35578561</td>\n",
       "      <td>Milpa Alta</td>\n",
       "      <td>Gran servicio y ubicación, muy limpio y a prec...</td>\n",
       "    </tr>\n",
       "    <tr>\n",
       "      <th>387803</th>\n",
       "      <td>35578561</td>\n",
       "      <td>Milpa Alta</td>\n",
       "      <td>Un lugar muy agradable, bien en privacidad y b...</td>\n",
       "    </tr>\n",
       "    <tr>\n",
       "      <th>387804</th>\n",
       "      <td>35578561</td>\n",
       "      <td>Milpa Alta</td>\n",
       "      <td>Muy cómodo, limpio y agradable</td>\n",
       "    </tr>\n",
       "    <tr>\n",
       "      <th>387805</th>\n",
       "      <td>35578561</td>\n",
       "      <td>Milpa Alta</td>\n",
       "      <td>El mismo día de la llegada anfitrión me mandó ...</td>\n",
       "    </tr>\n",
       "    <tr>\n",
       "      <th>415732</th>\n",
       "      <td>38219708</td>\n",
       "      <td>Milpa Alta</td>\n",
       "      <td>The host canceled this reservation 2 days befo...</td>\n",
       "    </tr>\n",
       "    <tr>\n",
       "      <th>457170</th>\n",
       "      <td>44262454</td>\n",
       "      <td>Milpa Alta</td>\n",
       "      <td>Beautiful and peaceful place with lots of char...</td>\n",
       "    </tr>\n",
       "    <tr>\n",
       "      <th>459359</th>\n",
       "      <td>44557937</td>\n",
       "      <td>Milpa Alta</td>\n",
       "      <td>La experiencia fue justo lo que buscaba y nos ...</td>\n",
       "    </tr>\n",
       "  </tbody>\n",
       "</table>\n",
       "</div>"
      ],
      "text/plain": [
       "              id neighbourhood_cleansed  \\\n",
       "258335  23899847             Milpa Alta   \n",
       "271785  24780622             Milpa Alta   \n",
       "331549  30157869             Milpa Alta   \n",
       "331550  30157869             Milpa Alta   \n",
       "331551  30157869             Milpa Alta   \n",
       "331552  30157869             Milpa Alta   \n",
       "331553  30157869             Milpa Alta   \n",
       "331554  30157869             Milpa Alta   \n",
       "331555  30157869             Milpa Alta   \n",
       "331556  30157869             Milpa Alta   \n",
       "331557  30157869             Milpa Alta   \n",
       "331558  30157869             Milpa Alta   \n",
       "331559  30157869             Milpa Alta   \n",
       "387797  35578561             Milpa Alta   \n",
       "387798  35578561             Milpa Alta   \n",
       "387799  35578561             Milpa Alta   \n",
       "387800  35578561             Milpa Alta   \n",
       "387801  35578561             Milpa Alta   \n",
       "387802  35578561             Milpa Alta   \n",
       "387803  35578561             Milpa Alta   \n",
       "387804  35578561             Milpa Alta   \n",
       "387805  35578561             Milpa Alta   \n",
       "415732  38219708             Milpa Alta   \n",
       "457170  44262454             Milpa Alta   \n",
       "459359  44557937             Milpa Alta   \n",
       "\n",
       "                                                 comments  \n",
       "258335  Esta casa es un fraude, no pudimos instalarnos...  \n",
       "271785  Buen hospedaje , recomendable , alejado del bu...  \n",
       "331549  El anfitrión con excelente disponibilidad, el ...  \n",
       "331550  Mucho mejor de lo que esperaba.<br/>El lugar e...  \n",
       "331551  Super recomendable la estadía. Te sientes como...  \n",
       "331552  Un lugar cómodo, tranquilo. El anfitrión es ba...  \n",
       "331553  Hector was amazing, by far one of THE hosts we...  \n",
       "331554  Muy buena hospitalidad y atención de Hector el...  \n",
       "331555  El departamento está cómodo y bien ubicado. Hé...  \n",
       "331556  Really amazing place to stay! I recommend this...  \n",
       "331557  Lugar muy bonito y limpio, comodo, buena comun...  \n",
       "331558  Es un departamento, en un conjunto. El lugar e...  \n",
       "331559                                                  .  \n",
       "387797                                        Muy amplio.  \n",
       "387798               Muy cómodo el lugar, limpio y seguro  \n",
       "387799  La atención, limpieza y hospitalidad son inmej...  \n",
       "387800  El lugar es cerca de campo y es muy tranquilo....  \n",
       "387801  Excelente lugar, gran servicio y excelente ate...  \n",
       "387802  Gran servicio y ubicación, muy limpio y a prec...  \n",
       "387803  Un lugar muy agradable, bien en privacidad y b...  \n",
       "387804                     Muy cómodo, limpio y agradable  \n",
       "387805  El mismo día de la llegada anfitrión me mandó ...  \n",
       "415732  The host canceled this reservation 2 days befo...  \n",
       "457170  Beautiful and peaceful place with lots of char...  \n",
       "459359  La experiencia fue justo lo que buscaba y nos ...  "
      ]
     },
     "execution_count": 322,
     "metadata": {},
     "output_type": "execute_result"
    }
   ],
   "source": [
    "#create df for neighbourhood\n",
    "df_nei=revCONneib[(revCONneib['neighbourhood_cleansed']== 'Milpa Alta')]\n",
    "df_nei"
   ]
  },
  {
   "cell_type": "code",
   "execution_count": 323,
   "id": "9a0907f3",
   "metadata": {},
   "outputs": [],
   "source": [
    "df_nei.to_csv(\"C:\\\\Users\\\\doogi\\\\OneDrive\\\\Documentos\\\\Boot Camp local\\\\20 Projecto final\\\\local\\\\review_Milpa.txt\",index=False)"
   ]
  },
  {
   "cell_type": "code",
   "execution_count": 325,
   "id": "e0b7b7d7",
   "metadata": {},
   "outputs": [],
   "source": [
    "text = open('review_Milpa.txt',mode='r',encoding='utf-8').read()"
   ]
  },
  {
   "cell_type": "code",
   "execution_count": 326,
   "id": "2a8851ab",
   "metadata": {},
   "outputs": [],
   "source": [
    "stopwords = STOPWORDS"
   ]
  },
  {
   "cell_type": "code",
   "execution_count": 331,
   "id": "ceed7822",
   "metadata": {},
   "outputs": [],
   "source": [
    "stopwords.update([\"Milpa\",\"Alta\",\"id\",\"mucho\",\"necesario\",\"one\",\"personas\",\"puedes\",\"alojamiento\",\"queda\",\"hacer\",\"al\",\"nos\",\"son\",\"puede\",\"donde\",\"puede\",\"uno\",\"las\",\"persona\",\"mi\",\"del\",\"ella\",\"ir\",\"le\",\"bien\",\"recomendable\",\"estancia\",\"noche\",\"recomendado\",\"gran\",\"Cuajimalpa\",\"Morelos\",\"sin\",\"duda\",\"hay\",\"mucha\",\"venustiano\",\"Carranza\",\"day\",\"venustiano Carranza\",\"tiene\",\"como\",'esta',\"opción\",\"siempre\",\"se\",\"Álvaro Obregón\",\"Álvaro\", \"Obregón\",\"Alvaro Obregon\",\"Madero\",\"Gustavo\",\"Gustavo Madero\",\"su\",\"para\",\"Súper\",\"Magdalena\", \"Contreras\",\"Magdalena Contreras\",\"de\",\"una\",\"si\",\"pero\",\"con\",\"está\",\"por\",\"buena\",\"gracias\",\"Thank\",\"Benito\",\"Juárez\",\"departamento\",\"super\",\"fue\",\"ya\",\"us\",\"Miguel\",\"Hidalgo\",\"host\",\"neighborhood\", \"hosts\",\"check\", \"nice\", \"todo\", \"CDMX\" \"everything\",\"lot\",\"casa\",\"house\", \"un\",\"excelente\", \"need\",\"apartment\",\"el\",\"muy bien\",\"El departamento\",\"es\",\"br\",\"Mexico\", \"city\", \"y\",\"muy\",\"lo\",\"que\",\"stay\",\"lugar\",\"recommend\",\"location\", \"muy\",\"great\",\"place\",\"perfect\",\"en\",\"la\",\"amazing\",\"u\",\"great\",\"airbnb\",\"Cuauhtémoc\",'Coyoacán', 'Miguel Hidalgo', 'Benito Juárez','Azcapotzalco', 'Tlalpan', 'La Magdalena Contreras', 'Gustavo A. Madero', 'Álvaro Obregón', 'Venustiano Carranza', 'Cuajimalpa de Morelos', 'Iztapalapa', 'Xochimilco', 'Iztacalco','Tláhuac', 'Milpa Alta'])"
   ]
  },
  {
   "cell_type": "code",
   "execution_count": 332,
   "id": "7e6021d5",
   "metadata": {},
   "outputs": [],
   "source": [
    "wc = WordCloud(\n",
    "        background_color='white',\n",
    "        stopwords=stopwords,\n",
    "        height = 400,\n",
    "        width=600\n",
    ")"
   ]
  },
  {
   "cell_type": "code",
   "execution_count": 333,
   "id": "8e4623e7",
   "metadata": {},
   "outputs": [
    {
     "data": {
      "text/plain": [
       "<wordcloud.wordcloud.WordCloud at 0x2656ab0cd90>"
      ]
     },
     "execution_count": 333,
     "metadata": {},
     "output_type": "execute_result"
    }
   ],
   "source": [
    "wc.generate(text)"
   ]
  },
  {
   "cell_type": "code",
   "execution_count": 334,
   "id": "0f73a101",
   "metadata": {},
   "outputs": [
    {
     "data": {
      "text/plain": [
       "<wordcloud.wordcloud.WordCloud at 0x2656ab0cd90>"
      ]
     },
     "execution_count": 334,
     "metadata": {},
     "output_type": "execute_result"
    }
   ],
   "source": [
    "wc.to_file('worldcloud_Milpa.png')"
   ]
  },
  {
   "cell_type": "code",
   "execution_count": null,
   "id": "f3b85e1e",
   "metadata": {},
   "outputs": [],
   "source": []
  },
  {
   "cell_type": "code",
   "execution_count": 5,
   "id": "04ab0990",
   "metadata": {},
   "outputs": [
    {
     "data": {
      "text/html": [
       "<div>\n",
       "<style scoped>\n",
       "    .dataframe tbody tr th:only-of-type {\n",
       "        vertical-align: middle;\n",
       "    }\n",
       "\n",
       "    .dataframe tbody tr th {\n",
       "        vertical-align: top;\n",
       "    }\n",
       "\n",
       "    .dataframe thead th {\n",
       "        text-align: right;\n",
       "    }\n",
       "</style>\n",
       "<table border=\"1\" class=\"dataframe\">\n",
       "  <thead>\n",
       "    <tr style=\"text-align: right;\">\n",
       "      <th></th>\n",
       "      <th>listing_id</th>\n",
       "      <th>comments</th>\n",
       "    </tr>\n",
       "  </thead>\n",
       "  <tbody>\n",
       "    <tr>\n",
       "      <th>0</th>\n",
       "      <td>44616</td>\n",
       "      <td>Forget staying in a hotel. Stay at condesa hau...</td>\n",
       "    </tr>\n",
       "    <tr>\n",
       "      <th>1</th>\n",
       "      <td>44616</td>\n",
       "      <td>Fantastic location, great place, friendly host...</td>\n",
       "    </tr>\n",
       "    <tr>\n",
       "      <th>2</th>\n",
       "      <td>44616</td>\n",
       "      <td>I would highly recommend Condesa Haus for anyo...</td>\n",
       "    </tr>\n",
       "    <tr>\n",
       "      <th>3</th>\n",
       "      <td>44616</td>\n",
       "      <td>Great stay. Thanks. Highly recommend.</td>\n",
       "    </tr>\n",
       "    <tr>\n",
       "      <th>4</th>\n",
       "      <td>44616</td>\n",
       "      <td>This was not a very good experience I am afrai...</td>\n",
       "    </tr>\n",
       "    <tr>\n",
       "      <th>...</th>\n",
       "      <td>...</td>\n",
       "      <td>...</td>\n",
       "    </tr>\n",
       "    <tr>\n",
       "      <th>486731</th>\n",
       "      <td>50971339</td>\n",
       "      <td>excelente anfitrião e informações do anúncio p...</td>\n",
       "    </tr>\n",
       "    <tr>\n",
       "      <th>486732</th>\n",
       "      <td>51003751</td>\n",
       "      <td>Excelente atención por parte de Omar. Estuvo a...</td>\n",
       "    </tr>\n",
       "    <tr>\n",
       "      <th>486733</th>\n",
       "      <td>51021060</td>\n",
       "      <td>Excelente servicio de parte de el anfitrión Al...</td>\n",
       "    </tr>\n",
       "    <tr>\n",
       "      <th>486734</th>\n",
       "      <td>51023410</td>\n",
       "      <td>excelente lugar, muy buena atención y muy cómodo.</td>\n",
       "    </tr>\n",
       "    <tr>\n",
       "      <th>486735</th>\n",
       "      <td>51027207</td>\n",
       "      <td>todo bien</td>\n",
       "    </tr>\n",
       "  </tbody>\n",
       "</table>\n",
       "<p>486736 rows × 2 columns</p>\n",
       "</div>"
      ],
      "text/plain": [
       "        listing_id                                           comments\n",
       "0            44616  Forget staying in a hotel. Stay at condesa hau...\n",
       "1            44616  Fantastic location, great place, friendly host...\n",
       "2            44616  I would highly recommend Condesa Haus for anyo...\n",
       "3            44616             Great stay. Thanks. Highly recommend. \n",
       "4            44616  This was not a very good experience I am afrai...\n",
       "...            ...                                                ...\n",
       "486731    50971339  excelente anfitrião e informações do anúncio p...\n",
       "486732    51003751  Excelente atención por parte de Omar. Estuvo a...\n",
       "486733    51021060  Excelente servicio de parte de el anfitrión Al...\n",
       "486734    51023410  excelente lugar, muy buena atención y muy cómodo.\n",
       "486735    51027207                                          todo bien\n",
       "\n",
       "[486736 rows x 2 columns]"
      ]
     },
     "execution_count": 5,
     "metadata": {},
     "output_type": "execute_result"
    }
   ],
   "source": [
    "df=pd.read_csv('detailed_reviews.csv', usecols=['listing_id','comments'])\n",
    "df"
   ]
  },
  {
   "cell_type": "code",
   "execution_count": 6,
   "id": "bafbe58c",
   "metadata": {},
   "outputs": [
    {
     "name": "stdout",
     "output_type": "stream",
     "text": [
      "        listing_id                                           comments\n",
      "0            44616  Forget staying in a hotel. Stay at condesa hau...\n",
      "1            44616  Fantastic location, great place, friendly host...\n",
      "2            44616  I would highly recommend Condesa Haus for anyo...\n",
      "3            44616             Great stay. Thanks. Highly recommend. \n",
      "4            44616  This was not a very good experience I am afrai...\n",
      "...            ...                                                ...\n",
      "486731    50971339  excelente anfitrião e informações do anúncio p...\n",
      "486732    51003751  Excelente atención por parte de Omar. Estuvo a...\n",
      "486733    51021060  Excelente servicio de parte de el anfitrión Al...\n",
      "486734    51023410  excelente lugar, muy buena atención y muy cómodo.\n",
      "486735    51027207                                          todo bien\n",
      "\n",
      "[486736 rows x 2 columns]\n"
     ]
    }
   ],
   "source": [
    "print(df)"
   ]
  },
  {
   "cell_type": "code",
   "execution_count": 10,
   "id": "8bf74bd1",
   "metadata": {},
   "outputs": [],
   "source": [
    "df.to_csv(\"C:\\\\Users\\\\doogi\\\\OneDrive\\\\Documentos\\\\Boot Camp local\\\\20 Projecto final\\\\local\\\\review.csv\",index=False)"
   ]
  },
  {
   "cell_type": "code",
   "execution_count": 11,
   "id": "eb34bed5",
   "metadata": {},
   "outputs": [],
   "source": [
    "text = open('review.txt',mode='r',encoding='utf-8').read()"
   ]
  },
  {
   "cell_type": "code",
   "execution_count": 12,
   "id": "5cc8ecb5",
   "metadata": {},
   "outputs": [],
   "source": [
    "stopwords = STOPWORDS"
   ]
  },
  {
   "cell_type": "code",
   "execution_count": 13,
   "id": "c91d867d",
   "metadata": {},
   "outputs": [
    {
     "name": "stdout",
     "output_type": "stream",
     "text": [
      "{\"she'll\", 'yours', \"aren't\", 'been', 'hence', 'those', 'down', 'or', \"you'll\", \"we'll\", \"wasn't\", 'against', 'www', \"she'd\", 'them', 'therefore', 'theirs', 'some', 'any', \"haven't\", 'during', 'yourself', 'you', 'out', \"don't\", 'your', 'an', 'myself', 'my', \"won't\", 'ourselves', 'had', \"shouldn't\", 'further', 'until', \"weren't\", \"we've\", \"she's\", 'as', \"where's\", 'own', 'should', 'what', 'they', 'while', 'yourselves', 'through', 'shall', 'ought', 'so', \"i've\", 'in', 'herself', \"wouldn't\", \"they'll\", 'else', 'into', 'few', \"can't\", \"he'd\", 'were', \"mustn't\", 'ours', \"how's\", 'from', \"let's\", 'such', 'when', 'but', 'with', 'all', \"you're\", \"you'd\", 'after', 'the', 'did', 'below', 'however', \"we'd\", 'cannot', 'k', \"that's\", \"they've\", \"i'm\", \"couldn't\", 'was', 'could', 'of', 'having', \"here's\", 'too', 'over', 'he', \"he's\", \"why's\", 'only', 'for', \"when's\", 'up', 'nor', 'we', \"hasn't\", 'if', \"hadn't\", 'here', 'about', 'just', 'http', 'very', \"i'd\", 'is', 'him', 'like', 'me', 'off', 'has', 'again', 'otherwise', 'our', 'each', 'ever', 'whom', 'i', 'himself', 'would', 'hers', 'she', 'since', 'before', 'once', \"he'll\", 'under', 'where', \"it's\", 'not', \"they'd\", 'why', 'who', 'does', \"isn't\", 'being', 'be', \"didn't\", 'on', \"shan't\", \"what's\", \"who's\", \"i'll\", 'at', \"we're\", 'their', 'because', \"you've\", \"there's\", \"they're\", 'by', 'to', 'no', 'how', 'doing', 'same', \"doesn't\", 'both', 'which', 'com', 'can', 'do', 'also', 'other', 'it', 'between', 'itself', 'than', 'most', 'his', 'a', 'then', 'there', 'above', 'that', 'these', 'this', 'have', 'get', 'and', 'themselves', 'am', 'her', 'its', 'r', 'more', 'are'}\n"
     ]
    }
   ],
   "source": [
    "print(stopwords)"
   ]
  },
  {
   "cell_type": "code",
   "execution_count": 14,
   "id": "1bab6aaa",
   "metadata": {},
   "outputs": [],
   "source": [
    "stopwords.update([\"apartment\",\"el\",\"muy bien\",\"El departamento\",\"es\",\"br\",\"Mexico\", \"city\", \"y\",\"muy\",\"lo\",\"que\",\"stay\",\"lugar\",\"recommend\",\"location\", \"muy\",\"great\",\"place\",\"perfect\",\"en\",\"la\",\"amazing\",\"u\",\"great\"])"
   ]
  },
  {
   "cell_type": "code",
   "execution_count": 15,
   "id": "3ea9157e",
   "metadata": {},
   "outputs": [
    {
     "name": "stdout",
     "output_type": "stream",
     "text": [
      "{\"she'll\", 'yours', \"aren't\", 'been', 'muy', 'hence', 'those', 'down', 'or', \"you'll\", \"we'll\", 'la', \"wasn't\", 'against', 'www', 'u', \"she'd\", 'them', 'therefore', 'theirs', 'some', 'any', \"haven't\", 'en', 'during', 'yourself', 'you', 'out', \"don't\", 'your', 'an', 'myself', 'my', \"won't\", 'ourselves', 'lugar', 'had', \"shouldn't\", 'further', 'until', \"weren't\", \"we've\", \"she's\", 'as', \"where's\", 'own', 'should', 'what', 'they', 'while', 'yourselves', 'through', 'shall', 'ought', 'so', \"i've\", 'location', 'in', 'herself', \"wouldn't\", \"they'll\", 'else', 'into', 'few', \"can't\", \"he'd\", 'were', \"mustn't\", 'great', 'ours', \"how's\", 'from', \"let's\", 'such', 'when', 'but', 'with', 'all', \"you're\", \"you'd\", 'after', 'the', 'did', 'br', 'below', 'however', \"we'd\", 'cannot', 'k', \"that's\", \"they've\", \"i'm\", \"couldn't\", 'was', 'could', 'of', 'having', \"here's\", 'too', 'over', 'he', \"he's\", \"why's\", 'Mexico', 'only', 'for', \"when's\", 'up', 'recommend', 'nor', 'we', \"hasn't\", 'if', \"hadn't\", 'here', 'about', 'El departamento', 'just', 'http', 'very', \"i'd\", 'is', 'him', 'like', 'me', 'off', 'has', 'again', 'otherwise', 'our', 'stay', 'each', 'ever', 'whom', 'i', 'himself', 'would', 'hers', 'she', 'since', 'before', 'once', \"he'll\", 'place', 'under', 'where', \"it's\", 'muy bien', 'not', \"they'd\", 'why', 'el', 'who', 'does', \"isn't\", 'being', 'be', \"didn't\", 'on', \"shan't\", \"what's\", \"who's\", \"i'll\", 'at', 'amazing', \"we're\", 'their', 'because', \"you've\", 'apartment', \"there's\", \"they're\", 'by', 'to', 'no', 'how', 'doing', 'same', \"doesn't\", 'both', 'which', 'com', 'can', 'do', 'also', 'other', 'es', 'y', 'it', 'between', 'itself', 'than', 'most', 'his', 'a', 'lo', 'then', 'there', 'above', 'city', 'that', 'que', 'these', 'this', 'have', 'get', 'and', 'themselves', 'am', 'her', 'its', 'r', 'more', 'are', 'perfect'}\n"
     ]
    }
   ],
   "source": [
    "print(stopwords)"
   ]
  },
  {
   "cell_type": "code",
   "execution_count": 16,
   "id": "ad7c2e5c",
   "metadata": {},
   "outputs": [
    {
     "data": {
      "text/plain": [
       "215"
      ]
     },
     "execution_count": 16,
     "metadata": {},
     "output_type": "execute_result"
    }
   ],
   "source": [
    "len(stopwords)"
   ]
  },
  {
   "cell_type": "code",
   "execution_count": 27,
   "id": "397ae564",
   "metadata": {},
   "outputs": [],
   "source": [
    "wc = WordCloud(\n",
    "        background_color='white',\n",
    "        stopwords=stopwords,\n",
    "        height = 600,\n",
    "        width=400\n",
    ")"
   ]
  },
  {
   "cell_type": "code",
   "execution_count": 28,
   "id": "4098866f",
   "metadata": {},
   "outputs": [
    {
     "data": {
      "text/plain": [
       "<wordcloud.wordcloud.WordCloud at 0x234908eb130>"
      ]
     },
     "execution_count": 28,
     "metadata": {},
     "output_type": "execute_result"
    }
   ],
   "source": [
    "wc.generate(text)"
   ]
  },
  {
   "cell_type": "code",
   "execution_count": 29,
   "id": "f3672491",
   "metadata": {},
   "outputs": [
    {
     "data": {
      "text/plain": [
       "<wordcloud.wordcloud.WordCloud at 0x234908eb130>"
      ]
     },
     "execution_count": 29,
     "metadata": {},
     "output_type": "execute_result"
    }
   ],
   "source": [
    "wc.to_file('worldcloud_output2.png')"
   ]
  },
  {
   "cell_type": "code",
   "execution_count": null,
   "id": "e3d6fa70",
   "metadata": {},
   "outputs": [],
   "source": []
  },
  {
   "cell_type": "code",
   "execution_count": null,
   "id": "91987236",
   "metadata": {},
   "outputs": [],
   "source": []
  },
  {
   "cell_type": "code",
   "execution_count": null,
   "id": "c71cf055",
   "metadata": {},
   "outputs": [],
   "source": []
  },
  {
   "cell_type": "code",
   "execution_count": null,
   "id": "8c99ebc1",
   "metadata": {},
   "outputs": [],
   "source": []
  },
  {
   "cell_type": "code",
   "execution_count": null,
   "id": "d5b26b34",
   "metadata": {},
   "outputs": [],
   "source": []
  },
  {
   "cell_type": "code",
   "execution_count": null,
   "id": "95388d8b",
   "metadata": {},
   "outputs": [],
   "source": []
  }
 ],
 "metadata": {
  "kernelspec": {
   "display_name": "Python 3",
   "language": "python",
   "name": "python3"
  },
  "language_info": {
   "codemirror_mode": {
    "name": "ipython",
    "version": 3
   },
   "file_extension": ".py",
   "mimetype": "text/x-python",
   "name": "python",
   "nbconvert_exporter": "python",
   "pygments_lexer": "ipython3",
   "version": "3.8.8"
  }
 },
 "nbformat": 4,
 "nbformat_minor": 5
}
