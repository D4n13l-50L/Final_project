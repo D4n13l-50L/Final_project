{
 "cells": [
  {
   "cell_type": "code",
   "execution_count": 15,
   "source": [
    "import pandas as pd\r\n",
    "import numpy as np"
   ],
   "outputs": [],
   "metadata": {}
  },
  {
   "cell_type": "code",
   "execution_count": 16,
   "source": [
    "listings = \"Resources/detailed_listings.csv\"\r\n",
    "listings"
   ],
   "outputs": [
    {
     "output_type": "execute_result",
     "data": {
      "text/plain": [
       "'Resources/detailed_listings.csv'"
      ]
     },
     "metadata": {},
     "execution_count": 16
    }
   ],
   "metadata": {}
  },
  {
   "cell_type": "code",
   "execution_count": 33,
   "source": [
    "new_df = pd.read_csv(listings)\r\n",
    "coordinates_df = new_df.loc[:, ['id','latitude','longitude']]\r\n",
    "coordinates_df.head()"
   ],
   "outputs": [
    {
     "output_type": "execute_result",
     "data": {
      "text/plain": [
       "      id  latitude  longitude  \\\n",
       "0  35797  19.38283  -99.27178   \n",
       "1  44616  19.41162  -99.17794   \n",
       "2  56074  19.43977  -99.15605   \n",
       "3  58955  19.42113  -99.15955   \n",
       "4  61792  19.41083  -99.18057   \n",
       "\n",
       "                                         description  \n",
       "0  Dentro de Villa un estudio de arte con futon, ...  \n",
       "1  A new concept of hosting in mexico through a b...  \n",
       "2  This great apartment is located in one of the ...  \n",
       "3  This beautiful apartment is centrally located,...  \n",
       "4  Located in La Condesa, one of the best neighbo...  "
      ],
      "text/html": [
       "<div>\n",
       "<style scoped>\n",
       "    .dataframe tbody tr th:only-of-type {\n",
       "        vertical-align: middle;\n",
       "    }\n",
       "\n",
       "    .dataframe tbody tr th {\n",
       "        vertical-align: top;\n",
       "    }\n",
       "\n",
       "    .dataframe thead th {\n",
       "        text-align: right;\n",
       "    }\n",
       "</style>\n",
       "<table border=\"1\" class=\"dataframe\">\n",
       "  <thead>\n",
       "    <tr style=\"text-align: right;\">\n",
       "      <th></th>\n",
       "      <th>id</th>\n",
       "      <th>latitude</th>\n",
       "      <th>longitude</th>\n",
       "      <th>description</th>\n",
       "    </tr>\n",
       "  </thead>\n",
       "  <tbody>\n",
       "    <tr>\n",
       "      <th>0</th>\n",
       "      <td>35797</td>\n",
       "      <td>19.38283</td>\n",
       "      <td>-99.27178</td>\n",
       "      <td>Dentro de Villa un estudio de arte con futon, ...</td>\n",
       "    </tr>\n",
       "    <tr>\n",
       "      <th>1</th>\n",
       "      <td>44616</td>\n",
       "      <td>19.41162</td>\n",
       "      <td>-99.17794</td>\n",
       "      <td>A new concept of hosting in mexico through a b...</td>\n",
       "    </tr>\n",
       "    <tr>\n",
       "      <th>2</th>\n",
       "      <td>56074</td>\n",
       "      <td>19.43977</td>\n",
       "      <td>-99.15605</td>\n",
       "      <td>This great apartment is located in one of the ...</td>\n",
       "    </tr>\n",
       "    <tr>\n",
       "      <th>3</th>\n",
       "      <td>58955</td>\n",
       "      <td>19.42113</td>\n",
       "      <td>-99.15955</td>\n",
       "      <td>This beautiful apartment is centrally located,...</td>\n",
       "    </tr>\n",
       "    <tr>\n",
       "      <th>4</th>\n",
       "      <td>61792</td>\n",
       "      <td>19.41083</td>\n",
       "      <td>-99.18057</td>\n",
       "      <td>Located in La Condesa, one of the best neighbo...</td>\n",
       "    </tr>\n",
       "  </tbody>\n",
       "</table>\n",
       "</div>"
      ]
     },
     "metadata": {},
     "execution_count": 33
    }
   ],
   "metadata": {}
  },
  {
   "cell_type": "code",
   "execution_count": 34,
   "source": [
    "coordinates_df.to_csv('Resources/coordinates.csv', encoding='utf-8', index=False)"
   ],
   "outputs": [],
   "metadata": {}
  }
 ],
 "metadata": {
  "orig_nbformat": 4,
  "language_info": {
   "name": "python",
   "version": "3.6.10",
   "mimetype": "text/x-python",
   "codemirror_mode": {
    "name": "ipython",
    "version": 3
   },
   "pygments_lexer": "ipython3",
   "nbconvert_exporter": "python",
   "file_extension": ".py"
  },
  "kernelspec": {
   "name": "python3",
   "display_name": "Python 3.6.10 64-bit ('PythonData': conda)"
  },
  "interpreter": {
   "hash": "55a543b9baaef5a09f740fdf0f552ecf925c5a8d4c9bb46a5794a98251c69e69"
  }
 },
 "nbformat": 4,
 "nbformat_minor": 2
}